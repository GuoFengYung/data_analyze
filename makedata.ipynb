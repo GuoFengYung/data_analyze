{
 "cells": [
  {
   "cell_type": "code",
   "execution_count": 24,
   "outputs": [],
   "source": [
    "import pandas as pd"
   ],
   "metadata": {
    "collapsed": false,
    "pycharm": {
     "name": "#%%\n"
    }
   }
  },
  {
   "cell_type": "code",
   "execution_count": 25,
   "outputs": [],
   "source": [
    "df_c = pd.read_csv('contract_3_4_up_low_bound/power_consumption.csv')"
   ],
   "metadata": {
    "collapsed": false,
    "pycharm": {
     "name": "#%%\n"
    }
   }
  },
  {
   "cell_type": "code",
   "execution_count": 26,
   "outputs": [
    {
     "data": {
      "text/plain": "0          2022/1/1 00:15:00\n1          2022/1/1 00:30:00\n2          2022/1/1 00:45:00\n3          2022/1/1 01:00:00\n4          2022/1/1 01:15:00\n                ...         \n35035    2022/12/31 23:00:00\n35036    2022/12/31 23:15:00\n35037    2022/12/31 23:30:00\n35038    2022/12/31 23:45:00\n35039      2023/1/1 00:00:00\nName: 時間, Length: 35040, dtype: object"
     },
     "execution_count": 26,
     "metadata": {},
     "output_type": "execute_result"
    }
   ],
   "source": [
    "df_c['時間']"
   ],
   "metadata": {
    "collapsed": false,
    "pycharm": {
     "name": "#%%\n"
    }
   }
  },
  {
   "cell_type": "code",
   "execution_count": 16,
   "outputs": [
    {
     "name": "stdout",
     "output_type": "stream",
     "text": [
      "1000\n",
      "1000\n"
     ]
    }
   ],
   "source": [
    "import random\n",
    "multi_list = []\n",
    "list1 = []\n",
    "for c in range(1000):\n",
    "    randomlist = []\n",
    "    for i in range(0,30540):\n",
    "        n = random.randint(100,200)\n",
    "        randomlist.append(n)\n",
    "    list1.append(randomlist)\n",
    "print(len(list1))\n",
    "p_con = [f\"00-00-{str(pid).zfill(4)}-00-1\" for pid in range(0, 1000)]\n",
    "print(len(p_con))"
   ],
   "metadata": {
    "collapsed": false,
    "pycharm": {
     "name": "#%%\n"
    }
   }
  },
  {
   "cell_type": "code",
   "execution_count": 17,
   "outputs": [],
   "source": [
    "# import numpy as np\n",
    "# list1 = np.array(list1)\n",
    "# list1.shape"
   ],
   "metadata": {
    "collapsed": false,
    "pycharm": {
     "name": "#%%\n"
    }
   }
  },
  {
   "cell_type": "code",
   "execution_count": 18,
   "outputs": [],
   "source": [
    "from numpy.random import randint\n",
    "import numpy as np\n",
    "f = np.random.randint(30, 100, size=(30540,1000))\n",
    "df_column = pd.DataFrame(columns=p_con)"
   ],
   "metadata": {
    "collapsed": false,
    "pycharm": {
     "name": "#%%\n"
    }
   }
  },
  {
   "cell_type": "code",
   "execution_count": 19,
   "outputs": [
    {
     "data": {
      "text/plain": "                        時間 00-00-0000-00-1 00-00-0001-00-1 00-00-0002-00-1  \\\n0        2022/1/1 00:15:00             NaN             NaN             NaN   \n1        2022/1/1 00:30:00             NaN             NaN             NaN   \n2        2022/1/1 00:45:00             NaN             NaN             NaN   \n3        2022/1/1 01:00:00             NaN             NaN             NaN   \n4        2022/1/1 01:15:00             NaN             NaN             NaN   \n...                    ...             ...             ...             ...   \n35035  2022/12/31 23:00:00             NaN             NaN             NaN   \n35036  2022/12/31 23:15:00             NaN             NaN             NaN   \n35037  2022/12/31 23:30:00             NaN             NaN             NaN   \n35038  2022/12/31 23:45:00             NaN             NaN             NaN   \n35039    2023/1/1 00:00:00             NaN             NaN             NaN   \n\n      00-00-0003-00-1 00-00-0004-00-1 00-00-0005-00-1 00-00-0006-00-1  \\\n0                 NaN             NaN             NaN             NaN   \n1                 NaN             NaN             NaN             NaN   \n2                 NaN             NaN             NaN             NaN   \n3                 NaN             NaN             NaN             NaN   \n4                 NaN             NaN             NaN             NaN   \n...               ...             ...             ...             ...   \n35035             NaN             NaN             NaN             NaN   \n35036             NaN             NaN             NaN             NaN   \n35037             NaN             NaN             NaN             NaN   \n35038             NaN             NaN             NaN             NaN   \n35039             NaN             NaN             NaN             NaN   \n\n      00-00-0007-00-1 00-00-0008-00-1  ... 00-00-0990-00-1 00-00-0991-00-1  \\\n0                 NaN             NaN  ...             NaN             NaN   \n1                 NaN             NaN  ...             NaN             NaN   \n2                 NaN             NaN  ...             NaN             NaN   \n3                 NaN             NaN  ...             NaN             NaN   \n4                 NaN             NaN  ...             NaN             NaN   \n...               ...             ...  ...             ...             ...   \n35035             NaN             NaN  ...             NaN             NaN   \n35036             NaN             NaN  ...             NaN             NaN   \n35037             NaN             NaN  ...             NaN             NaN   \n35038             NaN             NaN  ...             NaN             NaN   \n35039             NaN             NaN  ...             NaN             NaN   \n\n      00-00-0992-00-1 00-00-0993-00-1 00-00-0994-00-1 00-00-0995-00-1  \\\n0                 NaN             NaN             NaN             NaN   \n1                 NaN             NaN             NaN             NaN   \n2                 NaN             NaN             NaN             NaN   \n3                 NaN             NaN             NaN             NaN   \n4                 NaN             NaN             NaN             NaN   \n...               ...             ...             ...             ...   \n35035             NaN             NaN             NaN             NaN   \n35036             NaN             NaN             NaN             NaN   \n35037             NaN             NaN             NaN             NaN   \n35038             NaN             NaN             NaN             NaN   \n35039             NaN             NaN             NaN             NaN   \n\n      00-00-0996-00-1 00-00-0997-00-1 00-00-0998-00-1 00-00-0999-00-1  \n0                 NaN             NaN             NaN             NaN  \n1                 NaN             NaN             NaN             NaN  \n2                 NaN             NaN             NaN             NaN  \n3                 NaN             NaN             NaN             NaN  \n4                 NaN             NaN             NaN             NaN  \n...               ...             ...             ...             ...  \n35035             NaN             NaN             NaN             NaN  \n35036             NaN             NaN             NaN             NaN  \n35037             NaN             NaN             NaN             NaN  \n35038             NaN             NaN             NaN             NaN  \n35039             NaN             NaN             NaN             NaN  \n\n[35040 rows x 1001 columns]",
      "text/html": "<div>\n<style scoped>\n    .dataframe tbody tr th:only-of-type {\n        vertical-align: middle;\n    }\n\n    .dataframe tbody tr th {\n        vertical-align: top;\n    }\n\n    .dataframe thead th {\n        text-align: right;\n    }\n</style>\n<table border=\"1\" class=\"dataframe\">\n  <thead>\n    <tr style=\"text-align: right;\">\n      <th></th>\n      <th>時間</th>\n      <th>00-00-0000-00-1</th>\n      <th>00-00-0001-00-1</th>\n      <th>00-00-0002-00-1</th>\n      <th>00-00-0003-00-1</th>\n      <th>00-00-0004-00-1</th>\n      <th>00-00-0005-00-1</th>\n      <th>00-00-0006-00-1</th>\n      <th>00-00-0007-00-1</th>\n      <th>00-00-0008-00-1</th>\n      <th>...</th>\n      <th>00-00-0990-00-1</th>\n      <th>00-00-0991-00-1</th>\n      <th>00-00-0992-00-1</th>\n      <th>00-00-0993-00-1</th>\n      <th>00-00-0994-00-1</th>\n      <th>00-00-0995-00-1</th>\n      <th>00-00-0996-00-1</th>\n      <th>00-00-0997-00-1</th>\n      <th>00-00-0998-00-1</th>\n      <th>00-00-0999-00-1</th>\n    </tr>\n  </thead>\n  <tbody>\n    <tr>\n      <th>0</th>\n      <td>2022/1/1 00:15:00</td>\n      <td>NaN</td>\n      <td>NaN</td>\n      <td>NaN</td>\n      <td>NaN</td>\n      <td>NaN</td>\n      <td>NaN</td>\n      <td>NaN</td>\n      <td>NaN</td>\n      <td>NaN</td>\n      <td>...</td>\n      <td>NaN</td>\n      <td>NaN</td>\n      <td>NaN</td>\n      <td>NaN</td>\n      <td>NaN</td>\n      <td>NaN</td>\n      <td>NaN</td>\n      <td>NaN</td>\n      <td>NaN</td>\n      <td>NaN</td>\n    </tr>\n    <tr>\n      <th>1</th>\n      <td>2022/1/1 00:30:00</td>\n      <td>NaN</td>\n      <td>NaN</td>\n      <td>NaN</td>\n      <td>NaN</td>\n      <td>NaN</td>\n      <td>NaN</td>\n      <td>NaN</td>\n      <td>NaN</td>\n      <td>NaN</td>\n      <td>...</td>\n      <td>NaN</td>\n      <td>NaN</td>\n      <td>NaN</td>\n      <td>NaN</td>\n      <td>NaN</td>\n      <td>NaN</td>\n      <td>NaN</td>\n      <td>NaN</td>\n      <td>NaN</td>\n      <td>NaN</td>\n    </tr>\n    <tr>\n      <th>2</th>\n      <td>2022/1/1 00:45:00</td>\n      <td>NaN</td>\n      <td>NaN</td>\n      <td>NaN</td>\n      <td>NaN</td>\n      <td>NaN</td>\n      <td>NaN</td>\n      <td>NaN</td>\n      <td>NaN</td>\n      <td>NaN</td>\n      <td>...</td>\n      <td>NaN</td>\n      <td>NaN</td>\n      <td>NaN</td>\n      <td>NaN</td>\n      <td>NaN</td>\n      <td>NaN</td>\n      <td>NaN</td>\n      <td>NaN</td>\n      <td>NaN</td>\n      <td>NaN</td>\n    </tr>\n    <tr>\n      <th>3</th>\n      <td>2022/1/1 01:00:00</td>\n      <td>NaN</td>\n      <td>NaN</td>\n      <td>NaN</td>\n      <td>NaN</td>\n      <td>NaN</td>\n      <td>NaN</td>\n      <td>NaN</td>\n      <td>NaN</td>\n      <td>NaN</td>\n      <td>...</td>\n      <td>NaN</td>\n      <td>NaN</td>\n      <td>NaN</td>\n      <td>NaN</td>\n      <td>NaN</td>\n      <td>NaN</td>\n      <td>NaN</td>\n      <td>NaN</td>\n      <td>NaN</td>\n      <td>NaN</td>\n    </tr>\n    <tr>\n      <th>4</th>\n      <td>2022/1/1 01:15:00</td>\n      <td>NaN</td>\n      <td>NaN</td>\n      <td>NaN</td>\n      <td>NaN</td>\n      <td>NaN</td>\n      <td>NaN</td>\n      <td>NaN</td>\n      <td>NaN</td>\n      <td>NaN</td>\n      <td>...</td>\n      <td>NaN</td>\n      <td>NaN</td>\n      <td>NaN</td>\n      <td>NaN</td>\n      <td>NaN</td>\n      <td>NaN</td>\n      <td>NaN</td>\n      <td>NaN</td>\n      <td>NaN</td>\n      <td>NaN</td>\n    </tr>\n    <tr>\n      <th>...</th>\n      <td>...</td>\n      <td>...</td>\n      <td>...</td>\n      <td>...</td>\n      <td>...</td>\n      <td>...</td>\n      <td>...</td>\n      <td>...</td>\n      <td>...</td>\n      <td>...</td>\n      <td>...</td>\n      <td>...</td>\n      <td>...</td>\n      <td>...</td>\n      <td>...</td>\n      <td>...</td>\n      <td>...</td>\n      <td>...</td>\n      <td>...</td>\n      <td>...</td>\n      <td>...</td>\n    </tr>\n    <tr>\n      <th>35035</th>\n      <td>2022/12/31 23:00:00</td>\n      <td>NaN</td>\n      <td>NaN</td>\n      <td>NaN</td>\n      <td>NaN</td>\n      <td>NaN</td>\n      <td>NaN</td>\n      <td>NaN</td>\n      <td>NaN</td>\n      <td>NaN</td>\n      <td>...</td>\n      <td>NaN</td>\n      <td>NaN</td>\n      <td>NaN</td>\n      <td>NaN</td>\n      <td>NaN</td>\n      <td>NaN</td>\n      <td>NaN</td>\n      <td>NaN</td>\n      <td>NaN</td>\n      <td>NaN</td>\n    </tr>\n    <tr>\n      <th>35036</th>\n      <td>2022/12/31 23:15:00</td>\n      <td>NaN</td>\n      <td>NaN</td>\n      <td>NaN</td>\n      <td>NaN</td>\n      <td>NaN</td>\n      <td>NaN</td>\n      <td>NaN</td>\n      <td>NaN</td>\n      <td>NaN</td>\n      <td>...</td>\n      <td>NaN</td>\n      <td>NaN</td>\n      <td>NaN</td>\n      <td>NaN</td>\n      <td>NaN</td>\n      <td>NaN</td>\n      <td>NaN</td>\n      <td>NaN</td>\n      <td>NaN</td>\n      <td>NaN</td>\n    </tr>\n    <tr>\n      <th>35037</th>\n      <td>2022/12/31 23:30:00</td>\n      <td>NaN</td>\n      <td>NaN</td>\n      <td>NaN</td>\n      <td>NaN</td>\n      <td>NaN</td>\n      <td>NaN</td>\n      <td>NaN</td>\n      <td>NaN</td>\n      <td>NaN</td>\n      <td>...</td>\n      <td>NaN</td>\n      <td>NaN</td>\n      <td>NaN</td>\n      <td>NaN</td>\n      <td>NaN</td>\n      <td>NaN</td>\n      <td>NaN</td>\n      <td>NaN</td>\n      <td>NaN</td>\n      <td>NaN</td>\n    </tr>\n    <tr>\n      <th>35038</th>\n      <td>2022/12/31 23:45:00</td>\n      <td>NaN</td>\n      <td>NaN</td>\n      <td>NaN</td>\n      <td>NaN</td>\n      <td>NaN</td>\n      <td>NaN</td>\n      <td>NaN</td>\n      <td>NaN</td>\n      <td>NaN</td>\n      <td>...</td>\n      <td>NaN</td>\n      <td>NaN</td>\n      <td>NaN</td>\n      <td>NaN</td>\n      <td>NaN</td>\n      <td>NaN</td>\n      <td>NaN</td>\n      <td>NaN</td>\n      <td>NaN</td>\n      <td>NaN</td>\n    </tr>\n    <tr>\n      <th>35039</th>\n      <td>2023/1/1 00:00:00</td>\n      <td>NaN</td>\n      <td>NaN</td>\n      <td>NaN</td>\n      <td>NaN</td>\n      <td>NaN</td>\n      <td>NaN</td>\n      <td>NaN</td>\n      <td>NaN</td>\n      <td>NaN</td>\n      <td>...</td>\n      <td>NaN</td>\n      <td>NaN</td>\n      <td>NaN</td>\n      <td>NaN</td>\n      <td>NaN</td>\n      <td>NaN</td>\n      <td>NaN</td>\n      <td>NaN</td>\n      <td>NaN</td>\n      <td>NaN</td>\n    </tr>\n  </tbody>\n</table>\n<p>35040 rows × 1001 columns</p>\n</div>"
     },
     "execution_count": 19,
     "metadata": {},
     "output_type": "execute_result"
    }
   ],
   "source": [
    "df = pd.concat([df_c['時間'], df_column], axis=1)\n",
    "df\n",
    "# df = df.mask(df.isnull(), np.random.uniform(100, 200, size=df.shape))\n",
    "# print(df.shape)\n",
    "# df.mask(df.isnull(), np.random.uniform(100, 200, size=df.shape))"
   ],
   "metadata": {
    "collapsed": false,
    "pycharm": {
     "name": "#%%\n"
    }
   }
  },
  {
   "cell_type": "code",
   "execution_count": 23,
   "outputs": [],
   "source": [
    "df.to_csv('contract_100_1000/power_consumption.csv', encoding='utf-8-sig', index=False)"
   ],
   "metadata": {
    "collapsed": false,
    "pycharm": {
     "name": "#%%\n"
    }
   }
  },
  {
   "cell_type": "code",
   "execution_count": null,
   "outputs": [],
   "source": [],
   "metadata": {
    "collapsed": false,
    "pycharm": {
     "name": "#%%\n"
    }
   }
  }
 ],
 "metadata": {
  "kernelspec": {
   "display_name": "Python 3",
   "language": "python",
   "name": "python3"
  },
  "language_info": {
   "codemirror_mode": {
    "name": "ipython",
    "version": 2
   },
   "file_extension": ".py",
   "mimetype": "text/x-python",
   "name": "python",
   "nbconvert_exporter": "python",
   "pygments_lexer": "ipython2",
   "version": "2.7.6"
  }
 },
 "nbformat": 4,
 "nbformat_minor": 0
}