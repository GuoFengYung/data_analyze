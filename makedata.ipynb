{
 "cells": [
  {
   "cell_type": "code",
   "execution_count": 66,
   "outputs": [],
   "source": [
    "import pandas as pd\n",
    "from numpy.random import randint\n",
    "import numpy as np\n",
    "import os"
   ],
   "metadata": {
    "collapsed": false,
    "pycharm": {
     "name": "#%%\n"
    }
   }
  },
  {
   "cell_type": "code",
   "execution_count": 72,
   "outputs": [],
   "source": [
    "# make power_consumption\n",
    "def make_power_consumption(path_to_csv: str, out: str, cid: str):\n",
    "    df_c = pd.read_csv(path_to_csv)\n",
    "    p_con = [f\"00-00-{str(pid).zfill(4)}-00-1\" for pid in range(0, cid)]\n",
    "    df_column = pd.DataFrame(columns=p_con)\n",
    "    df = pd.concat([df_c['時間'], df_column], axis=1)\n",
    "    df = df.mask(df.isnull(), np.random.uniform(100, 200, size=df.shape))\n",
    "    os.makedirs(out, exist_ok=True)\n",
    "    df.mask(df.isnull(), np.random.uniform(100, 200, size=df.shape))\n",
    "    df.to_csv(f'{out}/power_consumption.csv', encoding='utf-8-sig', index=False)"
   ],
   "metadata": {
    "collapsed": false,
    "pycharm": {
     "name": "#%%\n"
    }
   }
  },
  {
   "cell_type": "code",
   "execution_count": 73,
   "outputs": [],
   "source": [
    "# make client_information\n",
    "def make_client_information(out: str, cid: str):\n",
    "    df_client = {\n",
    "        '用電端':  [f\"用戶{str(pid)}\" for pid in range(0, cid)],\n",
    "        '用電端電號': [f\"00-00-{str(pid).zfill(4)}-00-1\" for pid in range(0, cid)],\n",
    "        '月上限':'',\n",
    "        '年上限':'',\n",
    "        'RE':'100%',\n",
    "        '最低年轉供': '0',\n",
    "        '綠電售價': '5'\n",
    "\n",
    "    }\n",
    "    df_client = pd.DataFrame(df_client)\n",
    "    os.makedirs(out, exist_ok=True)\n",
    "    df_client.to_csv(f'{out}/client_information.csv', encoding='utf-8-sig', index=False)"
   ],
   "metadata": {
    "collapsed": false,
    "pycharm": {
     "name": "#%%\n"
    }
   }
  },
  {
   "cell_type": "code",
   "execution_count": 74,
   "outputs": [],
   "source": [
    "# make power_generation\n",
    "def make_power_generation(path_to_csv: str, out: str, cid: str):\n",
    "    df_c = pd.read_csv(path_to_csv)\n",
    "    p_gen = [f\"電廠{str(pid)}\" for pid in range(0, cid)]\n",
    "    df_gen_col = pd.DataFrame(columns=p_gen)\n",
    "    df_gen = pd.concat([df_c['時間'], df_gen_col], axis=1)\n",
    "    df_gen = df_gen.mask(df_gen.isnull(), np.random.uniform(200, 250, size=df_gen.shape))\n",
    "    os.makedirs(out, exist_ok=True)\n",
    "    df_gen.to_csv(f'{out}/power_generation.csv', encoding='utf-8-sig', index=False)"
   ],
   "metadata": {
    "collapsed": false,
    "pycharm": {
     "name": "#%%\n"
    }
   }
  },
  {
   "cell_type": "code",
   "execution_count": 75,
   "outputs": [],
   "source": [
    "# make plant_information\n",
    "def make_plant_information(out: str, cid: str):\n",
    "    df_plant = {\n",
    "        '發電端':  [f\"電廠{str(pid)}\" for pid in range(0, cid)],\n",
    "        'FIT': '4.79',\n",
    "        '容量(kw)': '1600',\n",
    "        '用電端電號': [f\"00-00-{str(pid).zfill(4)}-01-1\" for pid in range(0, cid)],\n",
    "    }\n",
    "    df_plant = pd.DataFrame(df_plant)\n",
    "    os.makedirs(out, exist_ok=True)\n",
    "    df_plant.to_csv(f'{out}/plant_information.csv', encoding='utf-8-sig', index=False)"
   ],
   "metadata": {
    "collapsed": false,
    "pycharm": {
     "name": "#%%\n"
    }
   }
  },
  {
   "cell_type": "markdown",
   "source": [],
   "metadata": {
    "collapsed": false,
    "pycharm": {
     "name": "#%% md\n"
    }
   }
  },
  {
   "cell_type": "code",
   "execution_count": 86,
   "outputs": [],
   "source": [
    "path_to_csv = os.path.join('contract_3_4_up_low_bound/power_consumption.csv')\n",
    "output_path = os.path.join('contract_5_5' + os.path.sep)\n",
    "make_power_consumption(path_to_csv, output_path ,5)\n",
    "make_client_information(output_path, 5)\n",
    "make_power_generation(path_to_csv, output_path, 5)\n",
    "make_plant_information(output_path, 5)"
   ],
   "metadata": {
    "collapsed": false,
    "pycharm": {
     "name": "#%%\n"
    }
   }
  },
  {
   "cell_type": "code",
   "execution_count": 2,
   "outputs": [
    {
     "data": {
      "text/plain": "0          2022/1/1 00:15:00\n1          2022/1/1 00:30:00\n2          2022/1/1 00:45:00\n3          2022/1/1 01:00:00\n4          2022/1/1 01:15:00\n                ...         \n35035    2022/12/31 23:00:00\n35036    2022/12/31 23:15:00\n35037    2022/12/31 23:30:00\n35038    2022/12/31 23:45:00\n35039      2023/1/1 00:00:00\nName: 時間, Length: 35040, dtype: object"
     },
     "execution_count": 2,
     "metadata": {},
     "output_type": "execute_result"
    }
   ],
   "source": [
    "import pandas as pd\n",
    "df = pd.read_csv('contract_5_5/power_generation.csv')\n",
    "df['時間']"
   ],
   "metadata": {
    "collapsed": false,
    "pycharm": {
     "name": "#%%\n"
    }
   }
  },
  {
   "cell_type": "code",
   "execution_count": 22,
   "outputs": [
    {
     "ename": "TypeError",
     "evalue": "Index must be DatetimeIndex",
     "output_type": "error",
     "traceback": [
      "\u001B[1;31m---------------------------------------------------------------------------\u001B[0m",
      "\u001B[1;31mTypeError\u001B[0m                                 Traceback (most recent call last)",
      "\u001B[1;32m~\\AppData\\Local\\Temp\\ipykernel_4200\\1435930608.py\u001B[0m in \u001B[0;36m<module>\u001B[1;34m\u001B[0m\n\u001B[1;32m----> 1\u001B[1;33m \u001B[0mdf\u001B[0m\u001B[1;33m.\u001B[0m\u001B[0mset_index\u001B[0m\u001B[1;33m(\u001B[0m\u001B[1;34m\"時間\"\u001B[0m\u001B[1;33m)\u001B[0m\u001B[1;33m.\u001B[0m\u001B[0mbetween_time\u001B[0m\u001B[1;33m(\u001B[0m\u001B[1;34m\"09:00\"\u001B[0m\u001B[1;33m,\u001B[0m \u001B[1;34m\"15:00\"\u001B[0m\u001B[1;33m)\u001B[0m\u001B[1;33m\u001B[0m\u001B[1;33m\u001B[0m\u001B[0m\n\u001B[0m",
      "\u001B[1;32mC:\\ProgramData\\Anaconda3\\envs\\aibox\\lib\\site-packages\\pandas\\core\\generic.py\u001B[0m in \u001B[0;36mbetween_time\u001B[1;34m(self, start_time, end_time, include_start, include_end, axis)\u001B[0m\n\u001B[0;32m   7702\u001B[0m         \u001B[0mindex\u001B[0m \u001B[1;33m=\u001B[0m \u001B[0mself\u001B[0m\u001B[1;33m.\u001B[0m\u001B[0m_get_axis\u001B[0m\u001B[1;33m(\u001B[0m\u001B[0maxis\u001B[0m\u001B[1;33m)\u001B[0m\u001B[1;33m\u001B[0m\u001B[1;33m\u001B[0m\u001B[0m\n\u001B[0;32m   7703\u001B[0m         \u001B[1;32mif\u001B[0m \u001B[1;32mnot\u001B[0m \u001B[0misinstance\u001B[0m\u001B[1;33m(\u001B[0m\u001B[0mindex\u001B[0m\u001B[1;33m,\u001B[0m \u001B[0mDatetimeIndex\u001B[0m\u001B[1;33m)\u001B[0m\u001B[1;33m:\u001B[0m\u001B[1;33m\u001B[0m\u001B[1;33m\u001B[0m\u001B[0m\n\u001B[1;32m-> 7704\u001B[1;33m             \u001B[1;32mraise\u001B[0m \u001B[0mTypeError\u001B[0m\u001B[1;33m(\u001B[0m\u001B[1;34m\"Index must be DatetimeIndex\"\u001B[0m\u001B[1;33m)\u001B[0m\u001B[1;33m\u001B[0m\u001B[1;33m\u001B[0m\u001B[0m\n\u001B[0m\u001B[0;32m   7705\u001B[0m \u001B[1;33m\u001B[0m\u001B[0m\n\u001B[0;32m   7706\u001B[0m         indexer = index.indexer_between_time(\n",
      "\u001B[1;31mTypeError\u001B[0m: Index must be DatetimeIndex"
     ]
    }
   ],
   "source": [
    "df.set_index(\"時間\").between_time(\"09:00\", \"15:00\")"
   ],
   "metadata": {
    "collapsed": false,
    "pycharm": {
     "name": "#%%\n"
    }
   }
  },
  {
   "cell_type": "code",
   "execution_count": 11,
   "outputs": [
    {
     "name": "stdout",
     "output_type": "stream",
     "text": [
      "                        時間         電廠0         電廠1         電廠2         電廠3  \\\n",
      "0        2022/1/1 00:15:00  247.126673  216.728719  227.034803  239.768498   \n",
      "1        2022/1/1 00:30:00  201.890092  201.884639  245.776066  218.347388   \n",
      "2        2022/1/1 00:45:00  241.092398  246.428982  247.190951  241.753256   \n",
      "3        2022/1/1 01:00:00  249.844358  213.811405  215.745314  226.204636   \n",
      "4        2022/1/1 01:15:00  211.950773  209.038993  220.707898  221.297114   \n",
      "...                    ...         ...         ...         ...         ...   \n",
      "35035  2022/12/31 23:00:00  226.517166  202.637395  225.554243  223.466131   \n",
      "35036  2022/12/31 23:15:00  224.592873  231.361359  228.993790  222.178060   \n",
      "35037  2022/12/31 23:30:00  211.650349  238.278029  216.523325  248.683105   \n",
      "35038  2022/12/31 23:45:00  224.971135  207.164382  223.796063  202.269931   \n",
      "35039    2023/1/1 00:00:00  237.493082  203.519614  224.152196  233.077137   \n",
      "\n",
      "              電廠4  \n",
      "0      248.816079  \n",
      "1      247.650081  \n",
      "2      210.385273  \n",
      "3      219.276818  \n",
      "4      202.220816  \n",
      "...           ...  \n",
      "35035  237.060385  \n",
      "35036  220.295310  \n",
      "35037  240.904281  \n",
      "35038  238.859668  \n",
      "35039  241.829694  \n",
      "\n",
      "[35040 rows x 6 columns]\n"
     ]
    }
   ],
   "source": [],
   "metadata": {
    "collapsed": false,
    "pycharm": {
     "name": "#%%\n"
    }
   }
  },
  {
   "cell_type": "code",
   "execution_count": null,
   "outputs": [],
   "source": [],
   "metadata": {
    "collapsed": false,
    "pycharm": {
     "name": "#%%\n"
    }
   }
  }
 ],
 "metadata": {
  "kernelspec": {
   "display_name": "Python 3",
   "language": "python",
   "name": "python3"
  },
  "language_info": {
   "codemirror_mode": {
    "name": "ipython",
    "version": 2
   },
   "file_extension": ".py",
   "mimetype": "text/x-python",
   "name": "python",
   "nbconvert_exporter": "python",
   "pygments_lexer": "ipython2",
   "version": "2.7.6"
  }
 },
 "nbformat": 4,
 "nbformat_minor": 0
}