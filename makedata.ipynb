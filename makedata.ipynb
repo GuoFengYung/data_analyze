{
 "cells": [
  {
   "cell_type": "code",
   "execution_count": 1,
   "outputs": [],
   "source": [
    "import pandas as pd"
   ],
   "metadata": {
    "collapsed": false,
    "pycharm": {
     "name": "#%%\n"
    }
   }
  },
  {
   "cell_type": "code",
   "execution_count": 2,
   "outputs": [],
   "source": [
    "df_c = pd.read_csv('contract_3_4_up_low_bound/power_consumption.csv')"
   ],
   "metadata": {
    "collapsed": false,
    "pycharm": {
     "name": "#%%\n"
    }
   }
  },
  {
   "cell_type": "code",
   "execution_count": 3,
   "outputs": [
    {
     "data": {
      "text/plain": "0          2022/1/1 00:15:00\n1          2022/1/1 00:30:00\n2          2022/1/1 00:45:00\n3          2022/1/1 01:00:00\n4          2022/1/1 01:15:00\n                ...         \n35035    2022/12/31 23:00:00\n35036    2022/12/31 23:15:00\n35037    2022/12/31 23:30:00\n35038    2022/12/31 23:45:00\n35039      2023/1/1 00:00:00\nName: 時間, Length: 35040, dtype: object"
     },
     "execution_count": 3,
     "metadata": {},
     "output_type": "execute_result"
    }
   ],
   "source": [
    "df_c['時間']"
   ],
   "metadata": {
    "collapsed": false,
    "pycharm": {
     "name": "#%%\n"
    }
   }
  },
  {
   "cell_type": "code",
   "execution_count": 4,
   "outputs": [
    {
     "name": "stdout",
     "output_type": "stream",
     "text": [
      "1000\n",
      "1000\n"
     ]
    }
   ],
   "source": [
    "import random\n",
    "multi_list = []\n",
    "list1 = []\n",
    "for c in range(1000):\n",
    "    randomlist = []\n",
    "    for i in range(0,30540):\n",
    "        n = random.randint(100,200)\n",
    "        randomlist.append(n)\n",
    "    list1.append(randomlist)\n",
    "print(len(list1))\n",
    "p_con = [f\"00-00-{str(pid).zfill(4)}-00-1\" for pid in range(0, 1000)]\n",
    "print(len(p_con))"
   ],
   "metadata": {
    "collapsed": false,
    "pycharm": {
     "name": "#%%\n"
    }
   }
  },
  {
   "cell_type": "code",
   "execution_count": 14,
   "outputs": [
    {
     "data": {
      "text/plain": "(1000, 30540)"
     },
     "execution_count": 14,
     "metadata": {},
     "output_type": "execute_result"
    }
   ],
   "source": [
    "# import numpy as np\n",
    "# list1 = np.array(list1)\n",
    "# list1.shape"
   ],
   "metadata": {
    "collapsed": false,
    "pycharm": {
     "name": "#%%\n"
    }
   }
  },
  {
   "cell_type": "code",
   "execution_count": 5,
   "outputs": [],
   "source": [
    "from numpy.random import randint\n",
    "import numpy as np\n",
    "f = np.random.randint(30, 100, size=(30540,1000))\n",
    "df_column = pd.DataFrame(columns=p_con)"
   ],
   "metadata": {
    "collapsed": false,
    "pycharm": {
     "name": "#%%\n"
    }
   }
  },
  {
   "cell_type": "code",
   "execution_count": 10,
   "outputs": [],
   "source": [
    "df = pd.concat([df_c['時間'], df_column], axis=1)\n",
    "# df = df.mask(df.isnull(), np.random.uniform(100, 200, size=df.shape))\n",
    "# print(df.shape)\n",
    "# df.mask(df.isnull(), np.random.uniform(100, 200, size=df.shape))"
   ],
   "metadata": {
    "collapsed": false,
    "pycharm": {
     "name": "#%%\n"
    }
   }
  },
  {
   "cell_type": "code",
   "execution_count": 11,
   "outputs": [],
   "source": [
    "df.to_csv('contract_100_1000/power_consumption.csv', encoding='utf-8-sig', index=False)"
   ],
   "metadata": {
    "collapsed": false,
    "pycharm": {
     "name": "#%%\n"
    }
   }
  },
  {
   "cell_type": "code",
   "execution_count": null,
   "outputs": [],
   "source": [],
   "metadata": {
    "collapsed": false,
    "pycharm": {
     "name": "#%%\n"
    }
   }
  }
 ],
 "metadata": {
  "kernelspec": {
   "display_name": "Python 3",
   "language": "python",
   "name": "python3"
  },
  "language_info": {
   "codemirror_mode": {
    "name": "ipython",
    "version": 2
   },
   "file_extension": ".py",
   "mimetype": "text/x-python",
   "name": "python",
   "nbconvert_exporter": "python",
   "pygments_lexer": "ipython2",
   "version": "2.7.6"
  }
 },
 "nbformat": 4,
 "nbformat_minor": 0
}