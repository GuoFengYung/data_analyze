{
 "cells": [
  {
   "cell_type": "code",
   "execution_count": 79,
   "outputs": [],
   "source": [
    "import pandas as pd\n",
    "from sklearn.neighbors import KNeighborsClassifier"
   ],
   "metadata": {
    "collapsed": false,
    "pycharm": {
     "name": "#%%\n"
    }
   }
  },
  {
   "cell_type": "code",
   "execution_count": 80,
   "outputs": [
    {
     "data": {
      "text/plain": "                   時間  用戶1  用戶2  用戶3   用戶4   用戶5   用戶6   用戶7  用戶8\n0  2021/7/12 00:00:00  177   60  505  3757  4476  1813  2982  222\n1  2021/7/12 01:00:00  175   59  499  3744  4469  1813  2980  221\n2  2021/7/12 02:00:00  172   60  502  3724  4464  1808  2978  220\n3  2021/7/12 03:00:00  171   58  499  3708  4467  1807  2973  221\n4  2021/7/12 04:00:00  174   59  500  3697  4469  1806  2966  223",
      "text/html": "<div>\n<style scoped>\n    .dataframe tbody tr th:only-of-type {\n        vertical-align: middle;\n    }\n\n    .dataframe tbody tr th {\n        vertical-align: top;\n    }\n\n    .dataframe thead th {\n        text-align: right;\n    }\n</style>\n<table border=\"1\" class=\"dataframe\">\n  <thead>\n    <tr style=\"text-align: right;\">\n      <th></th>\n      <th>時間</th>\n      <th>用戶1</th>\n      <th>用戶2</th>\n      <th>用戶3</th>\n      <th>用戶4</th>\n      <th>用戶5</th>\n      <th>用戶6</th>\n      <th>用戶7</th>\n      <th>用戶8</th>\n    </tr>\n  </thead>\n  <tbody>\n    <tr>\n      <th>0</th>\n      <td>2021/7/12 00:00:00</td>\n      <td>177</td>\n      <td>60</td>\n      <td>505</td>\n      <td>3757</td>\n      <td>4476</td>\n      <td>1813</td>\n      <td>2982</td>\n      <td>222</td>\n    </tr>\n    <tr>\n      <th>1</th>\n      <td>2021/7/12 01:00:00</td>\n      <td>175</td>\n      <td>59</td>\n      <td>499</td>\n      <td>3744</td>\n      <td>4469</td>\n      <td>1813</td>\n      <td>2980</td>\n      <td>221</td>\n    </tr>\n    <tr>\n      <th>2</th>\n      <td>2021/7/12 02:00:00</td>\n      <td>172</td>\n      <td>60</td>\n      <td>502</td>\n      <td>3724</td>\n      <td>4464</td>\n      <td>1808</td>\n      <td>2978</td>\n      <td>220</td>\n    </tr>\n    <tr>\n      <th>3</th>\n      <td>2021/7/12 03:00:00</td>\n      <td>171</td>\n      <td>58</td>\n      <td>499</td>\n      <td>3708</td>\n      <td>4467</td>\n      <td>1807</td>\n      <td>2973</td>\n      <td>221</td>\n    </tr>\n    <tr>\n      <th>4</th>\n      <td>2021/7/12 04:00:00</td>\n      <td>174</td>\n      <td>59</td>\n      <td>500</td>\n      <td>3697</td>\n      <td>4469</td>\n      <td>1806</td>\n      <td>2966</td>\n      <td>223</td>\n    </tr>\n  </tbody>\n</table>\n</div>"
     },
     "execution_count": 80,
     "metadata": {},
     "output_type": "execute_result"
    }
   ],
   "source": [
    "power_consumption = pd.read_csv('DataSet/dataset1/power_consumption.csv')\n",
    "power_consumption.head(5)"
   ],
   "metadata": {
    "collapsed": false,
    "pycharm": {
     "name": "#%%\n"
    }
   }
  },
  {
   "cell_type": "code",
   "execution_count": 81,
   "outputs": [
    {
     "data": {
      "text/plain": "(4152, 9)"
     },
     "execution_count": 81,
     "metadata": {},
     "output_type": "execute_result"
    }
   ],
   "source": [
    "power_consumption.shape"
   ],
   "metadata": {
    "collapsed": false,
    "pycharm": {
     "name": "#%%\n"
    }
   }
  },
  {
   "cell_type": "code",
   "execution_count": 92,
   "outputs": [
    {
     "data": {
      "text/plain": "array([[ 177,   60,  505, ..., 1813, 2982,  222],\n       [ 175,   59,  499, ..., 1813, 2980,  221],\n       [ 172,   60,  502, ..., 1808, 2978,  220],\n       ...,\n       [ 162,   53,  532, ..., 1629, 2733,  211],\n       [ 159,   53,  480, ..., 1630, 2733,  208],\n       [ 156,   52,  469, ..., 1629, 2733,  206]], dtype=int64)"
     },
     "execution_count": 92,
     "metadata": {},
     "output_type": "execute_result"
    }
   ],
   "source": [
    "x = power_consumption.iloc[:, 1:9].values\n",
    "x"
   ],
   "metadata": {
    "collapsed": false,
    "pycharm": {
     "name": "#%%\n"
    }
   }
  },
  {
   "cell_type": "code",
   "execution_count": 93,
   "outputs": [
    {
     "data": {
      "text/plain": "KMeans(n_clusters=5)"
     },
     "execution_count": 93,
     "metadata": {},
     "output_type": "execute_result"
    }
   ],
   "source": [
    "from sklearn.cluster import KMeans\n",
    "kmeans = KMeans(n_clusters=5)\n",
    "kmeans.fit(x)"
   ],
   "metadata": {
    "collapsed": false,
    "pycharm": {
     "name": "#%%\n"
    }
   }
  },
  {
   "cell_type": "code",
   "execution_count": 94,
   "outputs": [
    {
     "data": {
      "text/plain": "array([3, 3, 3, ..., 1, 1, 1])"
     },
     "execution_count": 94,
     "metadata": {},
     "output_type": "execute_result"
    }
   ],
   "source": [
    "identified_clusters = kmeans.fit_predict(x)\n",
    "identified_clusters"
   ],
   "metadata": {
    "collapsed": false,
    "pycharm": {
     "name": "#%%\n"
    }
   }
  },
  {
   "cell_type": "code",
   "execution_count": 95,
   "outputs": [],
   "source": [
    "data_with_clusters = power_consumption.copy()"
   ],
   "metadata": {
    "collapsed": false,
    "pycharm": {
     "name": "#%%\n"
    }
   }
  },
  {
   "cell_type": "code",
   "execution_count": 96,
   "outputs": [],
   "source": [
    "data_with_clusters['Clusters'] = identified_clusters"
   ],
   "metadata": {
    "collapsed": false,
    "pycharm": {
     "name": "#%%\n"
    }
   }
  },
  {
   "cell_type": "code",
   "execution_count": 102,
   "outputs": [
    {
     "data": {
      "text/plain": "<matplotlib.collections.PathCollection at 0x1bffb2e3588>"
     },
     "execution_count": 102,
     "metadata": {},
     "output_type": "execute_result"
    },
    {
     "data": {
      "text/plain": "<Figure size 432x288 with 1 Axes>",
      "image/png": "[encoded data removed]"
     },
     "metadata": {
      "needs_background": "light"
     },
     "output_type": "display_data"
    }
   ],
   "source": [
    "import matplotlib.pyplot as plt\n",
    "\n",
    "plt.scatter(data_with_clusters['用戶1'],data_with_clusters['用戶2'],c=data_with_clusters['Clusters'],cmap='rainbow')"
   ],
   "metadata": {
    "collapsed": false,
    "pycharm": {
     "name": "#%%\n"
    }
   }
  },
  {
   "cell_type": "code",
   "execution_count": null,
   "outputs": [],
   "source": [],
   "metadata": {
    "collapsed": false,
    "pycharm": {
     "name": "#%%\n"
    }
   }
  }
 ],
 "metadata": {
  "kernelspec": {
   "display_name": "Python 3",
   "language": "python",
   "name": "python3"
  },
  "language_info": {
   "codemirror_mode": {
    "name": "ipython",
    "version": 2
   },
   "file_extension": ".py",
   "mimetype": "text/x-python",
   "name": "python",
   "nbconvert_exporter": "python",
   "pygments_lexer": "ipython2",
   "version": "2.7.6"
  }
 },
 "nbformat": 4,
 "nbformat_minor": 0
}