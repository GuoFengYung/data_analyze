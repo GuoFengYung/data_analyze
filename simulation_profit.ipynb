{
 "cells": [
  {
   "cell_type": "code",
   "execution_count": 107,
   "outputs": [],
   "source": [
    "import pandas as pd\n",
    "import os\n",
    "import datetime\n",
    "import holidays\n",
    "import csv\n",
    "import io"
   ],
   "metadata": {
    "collapsed": false
   }
  },
  {
   "cell_type": "code",
   "execution_count": 9,
   "outputs": [],
   "source": [
    "file_path = os.path.join('./contract_3_5_month_minutes' + os.path.sep)"
   ],
   "metadata": {
    "collapsed": false
   }
  },
  {
   "cell_type": "code",
   "execution_count": 149,
   "outputs": [],
   "source": [
    "\n",
    "_TIME_DELTA_15_MINUTES = datetime.timedelta(minutes=15)\n",
    "\n",
    "_TW_HOLIDAYS_OBJ = holidays.country_holidays('TW')\n",
    "\n",
    "_TW_HOLIDAYS_YMD = set([\n",
    "    (2022, 1, 31),\n",
    "    (2022, 2, 1),\n",
    "    (2022, 2, 4),\n",
    "    (2022, 2, 5),\n",
    "    (2022, 4, 5),\n",
    "    (2022, 5, 1),\n",
    "    (2022, 9, 10),\n",
    "    (2023, 1, 2),\n",
    "    (2023, 1, 25),\n",
    "    (2023, 1, 26),\n",
    "    (2023, 4, 5),\n",
    "    (2023, 5, 1),\n",
    "])\n",
    "\n",
    "_TW_NON_HOLIDAYS_YMD = set([\n",
    "    (2022, 10, 11),\n",
    "    (2022, 1, 1)\n",
    "])\n",
    "\n",
    "HD_HALF_BUSY = 0 # 半尖峰\n",
    "HD_BUSY = 1 # 尖峰\n",
    "# HD_SAT_HALF_BUSY = 2 # 週六半尖峰\n",
    "HD_NOT_BUSY = 2  # 離峰\n",
    "\n",
    "\n",
    "HD_BUSY_STRS = [\"半尖峰\", \"尖峰\", \"週六半尖峰\", \"離峰\"]\n",
    "\n",
    "\n",
    "def is_holiday(dt):\n",
    "    \"\"\"\n",
    "    Return True if |dt| is a holiday, where dt can be a string, datetime obj, or date obj.\n",
    "\n",
    "    Taipower's 國定假日(離峰日)定義:\n",
    "    開國紀念日  1/1\n",
    "    春節        農曆除夕~1/5\n",
    "    和平紀念日  2/28\n",
    "    兒童節      4/4\n",
    "    民族掃墓節  4/4或4/5\n",
    "    勞動節      5/1\n",
    "    端午節      農曆5/5\n",
    "    中秋節      農曆8/15\n",
    "    國慶日      10/10\n",
    "\n",
    "    Note:\n",
    "    補假日不算離峰日, 如2022/9/10(六)是中秋節，9/9(五)補假, 9/9仍算成平日。\n",
    "    同理，補上班日仍算離峰日, 如2023/1/7（六）是上班日，仍算離峰日。\n",
    "    \"\"\"\n",
    "    assert isinstance(dt, datetime.datetime), f\"expect datetime type, got {type(dt)}\"\n",
    "    ymd = (dt.year, dt.month, dt.day)\n",
    "    if ymd in _TW_HOLIDAYS_YMD:\n",
    "        return True\n",
    "    if ymd in _TW_NON_HOLIDAYS_YMD:\n",
    "        return False\n",
    "    return dt in _TW_HOLIDAYS_OBJ\n",
    "\n",
    "def get_time_slot_weekday(dt):\n",
    "    dt = dt - _TIME_DELTA_15_MINUTES\n",
    "    if is_holiday(dt):\n",
    "        return 6\n",
    "    return dt.weekday()\n",
    "\n",
    "def label_type(row):\n",
    "    \"\"\"\n",
    "    TYPE:\n",
    "        假日半尖峰 (六)(夏季)09:00~24:00 (非夏季)06:00~11:00、14:00~24:00                -> 0\n",
    "        假日離峰   (六)(夏季)00:00~09:00 (非夏季)00:00~06:00、11:00~14:00 (日)0:00~24:00 -> 1\n",
    "        平日尖峰   (夏季)16:00~22:00                                                    -> 2\n",
    "        平日半尖峰 (夏季)09:00~16:00、22:00~24:00 (非夏季)06:00~11:00、14:00~24:00       -> 3\n",
    "        平日離峰   (夏季)00:00~09:00              (非夏季)00:00~06:00、11:00~14:00       -> 4\n",
    "        day_of_week 0 表示星期一、1 表示星期二、...、6 表示星期日\n",
    "    \"\"\"\n",
    "    day_of_week = get_time_slot_weekday(row)\n",
    "    row = row - _TIME_DELTA_15_MINUTES\n",
    "    month = int(row.strftime('%m'))\n",
    "    # day_of_week = int(row.weekday())\n",
    "    hour = int(row.strftime('%H'))\n",
    "\n",
    "    # 週六\n",
    "    if day_of_week == 5:\n",
    "        # 夏月\n",
    "        if (month>=6) and (month<=9):\n",
    "            # 0900~2400 假日半尖峰\n",
    "            if (hour >= 9) and (hour <= 24):\n",
    "                return  0\n",
    "            # 0000~0900 假日離峰 (日)0000~2400\n",
    "            else:\n",
    "                return  1\n",
    "        # 非夏月\n",
    "        else:\n",
    "            # 0600~1100 or 1400~2400\n",
    "            if ((hour >= 6) and (hour <= 11)) or ((hour >= 14) and (hour <= 24)):\n",
    "                return  HD_HALF_BUSY\n",
    "            # 0000~0900 假日離峰 (日)0000~2400\n",
    "            else:\n",
    "                return  HD_NOT_BUSY\n",
    "\n",
    "    #週日 國定假日\n",
    "    elif day_of_week == 6:\n",
    "        return HD_NOT_BUSY\n",
    "\n",
    "    # 平日\n",
    "    else:\n",
    "        # summer 6~9\n",
    "        if (month>=6) and (month<=9):\n",
    "            if (hour >= 16) and (hour <= 22):\n",
    "                return  2\n",
    "            elif ((hour >= 9) and (hour <= 16)) or ((hour >= 22) and (hour <= 24)):\n",
    "                return  3\n",
    "            else:\n",
    "                return  4\n",
    "        # 非夏月 平日半尖峰\n",
    "        else:\n",
    "            if ((hour >= 6) and (hour <= 11)) or ((hour >= 14) and (hour <= 24)):\n",
    "                return  HD_HALF_BUSY\n",
    "            # 平日離峰\n",
    "            else:\n",
    "                return  HD_NOT_BUSY\n",
    "\n",
    "\n",
    "def plant_analysis(df_plant):\n",
    "    df_plant_normal = df_plant.copy()\n",
    "    df_col = df_plant.columns[1:]\n",
    "    ### 為原本的consumption table標上時段標籤\n",
    "    df_plant['時間'] = df_plant['時間'] - _TIME_DELTA_15_MINUTES\n",
    "    df_plant_normal['type'] = list(df_plant['時間'].apply(label_type))\n",
    "    agg_dict = {c : 'sum' for c in df_col}\n",
    "    df_plant_normal = df_plant_normal.groupby(['type']).agg(agg_dict)\n",
    "    return df_plant_normal\n",
    "\n",
    "def client_analysis(df_client):\n",
    "    df_client_normal = df_client.copy()\n",
    "    df_col = df_client.columns[1:]\n",
    "    ### 為原本的consumption table標上時段標籤\n",
    "    df_client['時間'] = df_client['時間'] - _TIME_DELTA_15_MINUTES\n",
    "    df_client_normal['type'] = list(df_client['時間'].apply(label_type))\n",
    "    agg_dict = {c : 'sum' for c in df_col}\n",
    "    df_consumption_normal = df_client_normal.groupby(['type']).agg(agg_dict)\n",
    "    return df_consumption_normal\n",
    "\n",
    "def read_type_power(csv_fn, method=1):\n",
    "    assert csv_fn.endswith(\".csv\"), f\"Wrong csv_fn: {csv_fn}\"\n",
    "    with io.open(csv_fn, encoding=\"utf-8-sig\") as _fp:\n",
    "        reader = csv.reader(_fp, delimiter=\",\")\n",
    "        rows = [row for row in reader]\n",
    "        print(rows)\n",
    "    plant_name = rows[0][1]\n",
    "    docs = []\n",
    "    for row in rows[1:]:\n",
    "        print(row[0], rows[1], row[2])\n",
    "        doc = {\n",
    "            'type': row[0],\n",
    "            plant_name: row[1]\n",
    "        }\n",
    "        docs.append(doc)\n",
    "    return docs"
   ],
   "metadata": {
    "collapsed": false
   }
  },
  {
   "cell_type": "code",
   "execution_count": 127,
   "outputs": [],
   "source": [
    "pl_g = pd.read_csv(file_path + 'power_generation.csv', parse_dates=['時間'])\n",
    "pl_g = plant_analysis(pl_g)\n",
    "pl_g.to_csv('power_generation.csv', encoding=\"utf-8-sig\")"
   ],
   "metadata": {
    "collapsed": false
   }
  },
  {
   "cell_type": "code",
   "execution_count": 128,
   "outputs": [],
   "source": [
    "pl_c = pd.read_csv(file_path + 'power_consumption.csv', parse_dates=['時間'])\n",
    "pl_c = client_analysis(pl_c)\n",
    "pl_c.to_csv('power_consumption.csv', encoding=\"utf-8-sig\")"
   ],
   "metadata": {
    "collapsed": false
   }
  },
  {
   "cell_type": "code",
   "execution_count": 129,
   "outputs": [
    {
     "name": "stdout",
     "output_type": "stream",
     "text": [
      "      用電端            用電端電號  月上限  年上限  RE  最低年轉供      綠電售價\n",
      "1  用戶0002  64-67-0002-13-1  NaN  NaN   1    0.0  6.225529\n",
      "3  用戶0004  64-67-0004-13-1  NaN  NaN   1    0.0  6.053718\n",
      "2  用戶0003  64-67-0003-13-1  NaN  NaN   1    0.0  5.957455\n",
      "4  用戶0005  64-67-0005-13-1  NaN  NaN   1    0.0  5.582150\n",
      "0  用戶0001  64-67-0001-13-1  NaN  NaN   1    0.0  5.537592\n",
      "   type   電廠001   電廠002\n",
      "0     0  447200  559000\n",
      "1     2  342680  428350\n"
     ]
    }
   ],
   "source": [
    "pl_g = pd.read_csv('power_generation.csv')\n",
    "cl_c = pd.read_csv('power_consumption.csv')\n",
    "\n",
    "pl_info = pd.read_csv(file_path + 'plant_information.csv')\n",
    "cl_info = pd.read_csv(file_path + 'client_information.csv')\n",
    "\n",
    "pl_info = pl_info.sort_values(by='FIT')\n",
    "cl_info = cl_info.sort_values(by='綠電售價', ascending=False)\n",
    "print(cl_info)\n",
    "print(pl_g)"
   ],
   "metadata": {
    "collapsed": false
   }
  },
  {
   "cell_type": "code",
   "execution_count": 145,
   "outputs": [],
   "source": [
    "from dataclasses import dataclass, asdict\n",
    "\n",
    "@dataclass\n",
    "class HDPlant:\n",
    "    plant_name: str\n",
    "    times_slor: str\n",
    "    total_transfered: float = 0  # 總轉供\n",
    "\n",
    "\n",
    "class HDPlantRecorder:\n",
    "    def __init__(self, plant_names):\n",
    "        self.hd_plant_dict = {name: HDPlant(name) for name in plant_names}\n",
    "\n",
    "    def add_power_transfered(self, times_slot, plant_name, power_transfered):\n",
    "        obj = self.hd_plant_dict[plant_name]\n",
    "        obj.total_transfered += power_transfered\n",
    "\n",
    "    def summarize(self):\n",
    "        for name, obj in self.hd_plant_dict.items():\n",
    "            print(asdict(obj))\n",
    "\n",
    "def __update_plant_recorder(plant_recorder, obj):\n",
    "    plant_name = obj.power_plant\n",
    "    quota_sum = obj.quota + obj.quota2\n",
    "    plant_recorder.add_power_transfered(plant_name, quota_sum)\n",
    "\n",
    "def cal_plant_power(config):\n",
    "\n",
    "    return config"
   ],
   "metadata": {
    "collapsed": false
   }
  },
  {
   "cell_type": "code",
   "execution_count": 150,
   "outputs": [
    {
     "name": "stdout",
     "output_type": "stream",
     "text": [
      "[['type', '電廠001', '電廠002'], ['0', '447200', '559000'], ['2', '342680', '428350']]\n",
      "0 ['0', '447200', '559000'] 559000\n",
      "2 ['0', '447200', '559000'] 428350\n"
     ]
    },
    {
     "data": {
      "text/plain": "[{'type': '0', '電廠001': '447200'}, {'type': '2', '電廠001': '342680'}]"
     },
     "execution_count": 150,
     "metadata": {},
     "output_type": "execute_result"
    }
   ],
   "source": [
    "read_type_power('power_generation.csv')\n",
    "\n",
    "\n",
    "# pl_g_dict = pl_g.to('index')\n",
    "# # print(pl_g_dict)\n",
    "# cal_plant_power(pl_g_dict)\n",
    "# plant_recorder = HDPlantRecorder(pl_g_dict.get(0))\n",
    "# plant_recorder.add_power_transfered('電廠001', 200)\n",
    "# plant_recorder.summarize()\n",
    "# __update_plant_recorder(plant_recorder, doc)"
   ],
   "metadata": {
    "collapsed": false
   }
  },
  {
   "cell_type": "code",
   "execution_count": 74,
   "outputs": [
    {
     "data": {
      "text/plain": "{0: {'64-67-0001-13-1': 379638,\n  '64-67-0002-13-1': 455565.6,\n  '64-67-0003-13-1': 303710.4,\n  '64-67-0004-13-1': 560350,\n  '64-67-0005-13-1': 2186722.5},\n 1: {'64-67-0001-13-1': 180670,\n  '64-67-0002-13-1': 216804.0,\n  '64-67-0003-13-1': 144536.0,\n  '64-67-0004-13-1': 481250,\n  '64-67-0005-13-1': 1040683.5}}"
     },
     "execution_count": 74,
     "metadata": {},
     "output_type": "execute_result"
    }
   ],
   "source": [
    "cl_c_dict = cl_c.to_dict(\"index\")\n",
    "cl_c_dict"
   ],
   "metadata": {
    "collapsed": false
   }
  },
  {
   "cell_type": "code",
   "execution_count": 133,
   "outputs": [
    {
     "name": "stdout",
     "output_type": "stream",
     "text": [
      "64-67-0002-13-1\n",
      "64-67-0004-13-1\n",
      "64-67-0002-13-1\n"
     ]
    }
   ],
   "source": [
    "# for i in cl_info['用電端電號']:\n",
    "    # print(cl_c_dict.get(0).get(i))\n",
    "\n",
    "\n",
    "for i in pl_info['發電端']:\n",
    "    for j in cl_info['用電端電號']:\n",
    "        if pl_g_dict.get(0).get(i) - cl_c_dict.get(0).get(j) < 0:\n",
    "            break"
   ],
   "metadata": {
    "collapsed": false
   }
  },
  {
   "cell_type": "code",
   "execution_count": null,
   "outputs": [],
   "source": [],
   "metadata": {
    "collapsed": false
   }
  }
 ],
 "metadata": {
  "kernelspec": {
   "display_name": "Python 3",
   "language": "python",
   "name": "python3"
  },
  "language_info": {
   "codemirror_mode": {
    "name": "ipython",
    "version": 2
   },
   "file_extension": ".py",
   "mimetype": "text/x-python",
   "name": "python",
   "nbconvert_exporter": "python",
   "pygments_lexer": "ipython2",
   "version": "2.7.6"
  }
 },
 "nbformat": 4,
 "nbformat_minor": 0
}
