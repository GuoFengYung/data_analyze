{
 "cells": [
  {
   "cell_type": "code",
   "execution_count": 15,
   "outputs": [],
   "source": [
    "import pandas as pd\n",
    "import os\n",
    "import datetime\n",
    "import holidays"
   ],
   "metadata": {
    "collapsed": false,
    "pycharm": {
     "name": "#%%\n"
    }
   }
  },
  {
   "cell_type": "code",
   "execution_count": 16,
   "outputs": [],
   "source": [
    "file_path = os.path.join('./contract_3_5_month_minutes' + os.path.sep)"
   ],
   "metadata": {
    "collapsed": false,
    "pycharm": {
     "name": "#%%\n"
    }
   }
  },
  {
   "cell_type": "code",
   "execution_count": 367,
   "outputs": [],
   "source": [
    "\n",
    "_TIME_DELTA_15_MINUTES = datetime.timedelta(minutes=15)\n",
    "\n",
    "_TW_HOLIDAYS_OBJ = holidays.country_holidays('TW')\n",
    "\n",
    "_TW_HOLIDAYS_YMD = set([\n",
    "    (2022, 1, 31),\n",
    "    (2022, 2, 1),\n",
    "    (2022, 2, 4),\n",
    "    (2022, 2, 5),\n",
    "    (2022, 4, 5),\n",
    "    (2022, 5, 1),\n",
    "    (2022, 9, 10),\n",
    "    (2023, 1, 2),\n",
    "    (2023, 1, 25),\n",
    "    (2023, 1, 26),\n",
    "    (2023, 4, 5),\n",
    "    (2023, 5, 1),\n",
    "])\n",
    "\n",
    "_TW_NON_HOLIDAYS_YMD = set([\n",
    "    (2022, 10, 11),\n",
    "    (2022, 1, 1)\n",
    "])\n",
    "\n",
    "HD_HALF_BUSY = 0 # 半尖峰\n",
    "HD_BUSY = 1 # 尖峰\n",
    "# HD_SAT_HALF_BUSY = 2 # 週六半尖峰\n",
    "HD_NOT_BUSY = 2  # 離峰\n",
    "\n",
    "\n",
    "HD_BUSY_STRS = [\"半尖峰\", \"尖峰\", \"週六半尖峰\", \"離峰\"]\n",
    "\n",
    "\n",
    "def is_holiday(dt):\n",
    "    \"\"\"\n",
    "    Return True if |dt| is a holiday, where dt can be a string, datetime obj, or date obj.\n",
    "\n",
    "    Taipower's 國定假日(離峰日)定義:\n",
    "    開國紀念日  1/1\n",
    "    春節        農曆除夕~1/5\n",
    "    和平紀念日  2/28\n",
    "    兒童節      4/4\n",
    "    民族掃墓節  4/4或4/5\n",
    "    勞動節      5/1\n",
    "    端午節      農曆5/5\n",
    "    中秋節      農曆8/15\n",
    "    國慶日      10/10\n",
    "\n",
    "    Note:\n",
    "    補假日不算離峰日, 如2022/9/10(六)是中秋節，9/9(五)補假, 9/9仍算成平日。\n",
    "    同理，補上班日仍算離峰日, 如2023/1/7（六）是上班日，仍算離峰日。\n",
    "    \"\"\"\n",
    "    assert isinstance(dt, datetime.datetime), f\"expect datetime type, got {type(dt)}\"\n",
    "    ymd = (dt.year, dt.month, dt.day)\n",
    "    if ymd in _TW_HOLIDAYS_YMD:\n",
    "        return True\n",
    "    if ymd in _TW_NON_HOLIDAYS_YMD:\n",
    "        return False\n",
    "    return dt in _TW_HOLIDAYS_OBJ\n",
    "\n",
    "def get_time_slot_weekday(dt):\n",
    "    dt = dt - _TIME_DELTA_15_MINUTES\n",
    "    if is_holiday(dt):\n",
    "        return 6\n",
    "    return dt.weekday()\n",
    "\n",
    "def label_type(row):\n",
    "    \"\"\"\n",
    "    TYPE:\n",
    "        假日半尖峰 (六)(夏季)09:00~24:00 (非夏季)06:00~11:00、14:00~24:00                -> 0\n",
    "        假日離峰   (六)(夏季)00:00~09:00 (非夏季)00:00~06:00、11:00~14:00 (日)0:00~24:00 -> 1\n",
    "        平日尖峰   (夏季)16:00~22:00                                                    -> 2\n",
    "        平日半尖峰 (夏季)09:00~16:00、22:00~24:00 (非夏季)06:00~11:00、14:00~24:00       -> 3\n",
    "        平日離峰   (夏季)00:00~09:00              (非夏季)00:00~06:00、11:00~14:00       -> 4\n",
    "        day_of_week 0 表示星期一、1 表示星期二、...、6 表示星期日\n",
    "    \"\"\"\n",
    "    day_of_week = get_time_slot_weekday(row)\n",
    "    row = row - _TIME_DELTA_15_MINUTES\n",
    "    month = int(row.strftime('%m'))\n",
    "    # day_of_week = int(row.weekday())\n",
    "    hour = int(row.strftime('%H'))\n",
    "\n",
    "    # 週六\n",
    "    if day_of_week == 5:\n",
    "        # 夏月\n",
    "        if (month>=6) and (month<=9):\n",
    "            # 0900~2400 假日半尖峰\n",
    "            if (hour >= 9) and (hour <= 24):\n",
    "                return  0\n",
    "            # 0000~0900 假日離峰 (日)0000~2400\n",
    "            else:\n",
    "                return  1\n",
    "        # 非夏月\n",
    "        else:\n",
    "            # 0600~1100 or 1400~2400\n",
    "            if ((hour >= 6) and (hour <= 11)) or ((hour >= 14) and (hour <= 24)):\n",
    "                return  HD_HALF_BUSY\n",
    "            # 0000~0900 假日離峰 (日)0000~2400\n",
    "            else:\n",
    "                return  HD_NOT_BUSY\n",
    "\n",
    "    #週日 國定假日\n",
    "    elif day_of_week == 6:\n",
    "        return HD_NOT_BUSY\n",
    "\n",
    "    # 平日\n",
    "    else:\n",
    "        # summer 6~9\n",
    "        if (month>=6) and (month<=9):\n",
    "            if (hour >= 16) and (hour <= 22):\n",
    "                return  2\n",
    "            elif ((hour >= 9) and (hour <= 16)) or ((hour >= 22) and (hour <= 24)):\n",
    "                return  3\n",
    "            else:\n",
    "                return  4\n",
    "        # 非夏月 平日半尖峰\n",
    "        else:\n",
    "            if ((hour >= 6) and (hour <= 11)) or ((hour >= 14) and (hour <= 24)):\n",
    "                return  HD_HALF_BUSY\n",
    "            # 平日離峰\n",
    "            else:\n",
    "                return  HD_NOT_BUSY\n",
    "\n",
    "\n",
    "def plant_analysis(df_plant):\n",
    "    df_plant_normal = df_plant.copy()\n",
    "    df_col = df_plant.columns[1:]\n",
    "    ### 為原本的consumption table標上時段標籤\n",
    "    df_plant['時間'] = df_plant['時間'] - _TIME_DELTA_15_MINUTES\n",
    "    df_plant_normal['type'] = list(df_plant['時間'].apply(label_type))\n",
    "    agg_dict = {c : 'sum' for c in df_col}\n",
    "    df_plant_normal = df_plant_normal.groupby(['type']).agg(agg_dict)\n",
    "    return df_plant_normal\n",
    "\n",
    "def client_analysis(df_client):\n",
    "    df_client_normal = df_client.copy()\n",
    "    df_col = df_client.columns[1:]\n",
    "    ### 為原本的consumption table標上時段標籤\n",
    "    df_client['時間'] = df_client['時間'] - _TIME_DELTA_15_MINUTES\n",
    "    df_client_normal['type'] = list(df_client['時間'].apply(label_type))\n",
    "    agg_dict = {c : 'sum' for c in df_col}\n",
    "    df_consumption_normal = df_client_normal.groupby(['type']).agg(agg_dict)\n",
    "    return df_consumption_normal\n",
    "\n",
    "def distribute_power(df_p, df_c):\n",
    "    print(df_p['type'])"
   ],
   "metadata": {
    "collapsed": false,
    "pycharm": {
     "name": "#%%\n"
    }
   }
  },
  {
   "cell_type": "code",
   "execution_count": 364,
   "outputs": [],
   "source": [
    "pl_g = pd.read_csv(file_path + 'power_generation.csv', parse_dates=['時間'])\n",
    "pl_g = plant_analysis(pl_g)\n",
    "pl_g.to_csv('power_generation.csv', encoding=\"utf-8-sig\")"
   ],
   "metadata": {
    "collapsed": false,
    "pycharm": {
     "name": "#%%\n"
    }
   }
  },
  {
   "cell_type": "code",
   "execution_count": 365,
   "outputs": [],
   "source": [
    "pl_c = pd.read_csv(file_path + 'power_consumption.csv', parse_dates=['時間'])\n",
    "pl_c = client_analysis(pl_c)\n",
    "pl_c.to_csv('power_consumption.csv', encoding=\"utf-8-sig\")"
   ],
   "metadata": {
    "collapsed": false,
    "pycharm": {
     "name": "#%%\n"
    }
   }
  },
  {
   "cell_type": "code",
   "execution_count": 582,
   "outputs": [
    {
     "name": "stdout",
     "output_type": "stream",
     "text": [
      "   type   電廠001   電廠002\n",
      "0     0  447200  559000\n",
      "1     2  342680  428350       64-67-0001-13-1  64-67-0002-13-1  64-67-0003-13-1  64-67-0004-13-1  \\\n",
      "type                                                                       \n",
      "0              379638         455565.6         303710.4           560350   \n",
      "2              180670         216804.0         144536.0           481250   \n",
      "\n",
      "      64-67-0005-13-1  \n",
      "type                   \n",
      "0           2186722.5  \n",
      "2           1040683.5  \n",
      "      用電端            用電端電號  月上限  年上限  RE  最低年轉供      綠電售價\n",
      "1  用戶0002  64-67-0002-13-1  NaN  NaN   1    0.0  6.225529\n",
      "3  用戶0004  64-67-0004-13-1  NaN  NaN   1    0.0  6.053718\n",
      "2  用戶0003  64-67-0003-13-1  NaN  NaN   1    0.0  5.957455\n",
      "4  用戶0005  64-67-0005-13-1  NaN  NaN   1    0.0  5.582150\n",
      "0  用戶0001  64-67-0001-13-1  NaN  NaN   1    0.0  5.537592\n"
     ]
    }
   ],
   "source": [
    "pl_g = pd.read_csv('power_generation.csv')\n",
    "cl_c = pd.read_csv('power_consumption.csv')\n",
    "print(pl_g, pl_c)\n",
    "\n",
    "pl_info = pd.read_csv(file_path + 'plant_information.csv')\n",
    "cl_info = pd.read_csv(file_path + 'client_information.csv')\n",
    "\n",
    "pl_info = pl_info.sort_values(by='FIT')\n",
    "cl_info = cl_info.sort_values(by='綠電售價', ascending=False)\n",
    "print(cl_info)"
   ],
   "metadata": {
    "collapsed": false,
    "pycharm": {
     "name": "#%%\n"
    }
   }
  },
  {
   "cell_type": "code",
   "execution_count": 614,
   "outputs": [
    {
     "name": "stdout",
     "output_type": "stream",
     "text": [
      "總供電: 559000\n",
      "分配: 64-67-0002-13-1\n",
      "分配: 64-67-0004-13-1\n",
      "不夠分: 0   -1350\n",
      "dtype: int64\n",
      "['64-67-0002-13-1', '64-67-0004-13-1']\n",
      "0    445850\n",
      "dtype: int64\n"
     ]
    }
   ],
   "source": [
    "# first 電廠\n",
    "not_enough = 0\n",
    "ret = 0\n",
    "cl_distribute = []\n",
    "pl_distribute = []\n",
    "for i in pl_info['發電端']:\n",
    "    print(f\"總供電: {pl_g[i][0:1].to_string(index=False)}\")\n",
    "    pl_distribute.append(i)\n",
    "    for j in cl_info['用電端電號']:\n",
    "        print(\"分配:\",j)\n",
    "        cl_distribute.append(j)\n",
    "        ret = pl_g[i][0:1] - cl_c[j][0:1]\n",
    "        if float(ret.to_string(index=False)) < 0:\n",
    "            not_enough = ret\n",
    "            print(\"不夠分:\",not_enough)\n",
    "            print(cl_distribute)\n",
    "            break\n",
    "    break\n",
    "\n",
    "cl_info_new = cl_info.用電端電號\n",
    "pl_info_new = pl_info.發電端\n",
    "\n",
    "for j in pl_info_new:\n",
    "    if j not in pl_distribute:\n",
    "        now_v = pl_g[j][0:1] + not_enough\n",
    "        print(now_v)\n",
    "\n",
    "for i in cl_info_new:\n",
    "    if i not in cl_distribute:\n",
    "        pass\n",
    "                # if float(ret.to_string(index=False)) < 0:\n",
    "                #     break\n",
    "\n",
    "            # print(list(cl_info['用電端電號']).remove(distribute))\n",
    "            # break\n",
    "        # print(set(cl_info['用電端電號'], distribute))\n"
   ],
   "metadata": {
    "collapsed": false,
    "pycharm": {
     "name": "#%%\n"
    }
   }
  },
  {
   "cell_type": "code",
   "execution_count": 441,
   "outputs": [],
   "source": [],
   "metadata": {
    "collapsed": false,
    "pycharm": {
     "name": "#%%\n"
    }
   }
  },
  {
   "cell_type": "code",
   "execution_count": null,
   "outputs": [],
   "source": [],
   "metadata": {
    "collapsed": false,
    "pycharm": {
     "name": "#%%\n"
    }
   }
  }
 ],
 "metadata": {
  "kernelspec": {
   "display_name": "Python 3",
   "language": "python",
   "name": "python3"
  },
  "language_info": {
   "codemirror_mode": {
    "name": "ipython",
    "version": 2
   },
   "file_extension": ".py",
   "mimetype": "text/x-python",
   "name": "python",
   "nbconvert_exporter": "python",
   "pygments_lexer": "ipython2",
   "version": "2.7.6"
  }
 },
 "nbformat": 4,
 "nbformat_minor": 0
}