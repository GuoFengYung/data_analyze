{
 "cells": [
  {
   "cell_type": "code",
   "execution_count": 1,
   "outputs": [],
   "source": [
    "import pandas as pd"
   ],
   "metadata": {
    "collapsed": false,
    "pycharm": {
     "name": "#%%\n"
    }
   }
  },
  {
   "cell_type": "code",
   "execution_count": 2,
   "outputs": [
    {
     "data": {
      "text/plain": "                 電號  11101-11102  11103-11104  11105-11106  11107-11108  \\\n0   00-58-2254-02-2         1534         2281         4623         7803   \n1   00-58-2254-10-2        28200        23120        25280        28320   \n2   00-58-2254-20-4         6422         6356         7098         8706   \n3   00-58-2254-30-6         2560         3195         4543         6199   \n4   00-58-2254-40-8         4089         3810         4154         4965   \n5   00-58-2254-50-1         3833         4024         5019         7252   \n6   00-58-2254-60-3         5849         5396         6909         6881   \n7   00-58-2254-70-5         4429         5035         5633         6640   \n8   00-58-2258-30-0         1256         1387         1387         3033   \n9   00-58-2258-40-2         2667         2824         4214         5200   \n10  00-58-2258-50-5         1324         1507         2298         2635   \n11  00-58-2258-60-7          314          346          346         1207   \n12  00-58-2258-70-9          512          572          572         4246   \n13  00-58-2368-00-7          124          120          120          120   \n14  00-58-2368-02-9           40           40           40           40   \n15  00-58-2368-20-1          476          450          520          920   \n16  00-58-2368-30-3          441          224          245          327   \n17  00-58-2368-40-5         1657         1862         2325         2834   \n18  00-58-2368-50-8           40           40           40           40   \n19  10-39-3594-13-6         3840         3520         3440         4800   \n\n    11109-11110  11111-11112  \n0          7336         3807  \n1         30880        25920  \n2          8549         6868  \n3          6035         3525  \n4          4837         4045  \n5          7303         4730  \n6          6576         5806  \n7          6795         5726  \n8          2838         1725  \n9          5256         3306  \n10         2857         1697  \n11          950          424  \n12         3645          852  \n13          120          120  \n14           40           40  \n15         1166          609  \n16          371          284  \n17         2725         2184  \n18           43           40  \n19         5880         4840  ",
      "text/html": "<div>\n<style scoped>\n    .dataframe tbody tr th:only-of-type {\n        vertical-align: middle;\n    }\n\n    .dataframe tbody tr th {\n        vertical-align: top;\n    }\n\n    .dataframe thead th {\n        text-align: right;\n    }\n</style>\n<table border=\"1\" class=\"dataframe\">\n  <thead>\n    <tr style=\"text-align: right;\">\n      <th></th>\n      <th>電號</th>\n      <th>11101-11102</th>\n      <th>11103-11104</th>\n      <th>11105-11106</th>\n      <th>11107-11108</th>\n      <th>11109-11110</th>\n      <th>11111-11112</th>\n    </tr>\n  </thead>\n  <tbody>\n    <tr>\n      <th>0</th>\n      <td>00-58-2254-02-2</td>\n      <td>1534</td>\n      <td>2281</td>\n      <td>4623</td>\n      <td>7803</td>\n      <td>7336</td>\n      <td>3807</td>\n    </tr>\n    <tr>\n      <th>1</th>\n      <td>00-58-2254-10-2</td>\n      <td>28200</td>\n      <td>23120</td>\n      <td>25280</td>\n      <td>28320</td>\n      <td>30880</td>\n      <td>25920</td>\n    </tr>\n    <tr>\n      <th>2</th>\n      <td>00-58-2254-20-4</td>\n      <td>6422</td>\n      <td>6356</td>\n      <td>7098</td>\n      <td>8706</td>\n      <td>8549</td>\n      <td>6868</td>\n    </tr>\n    <tr>\n      <th>3</th>\n      <td>00-58-2254-30-6</td>\n      <td>2560</td>\n      <td>3195</td>\n      <td>4543</td>\n      <td>6199</td>\n      <td>6035</td>\n      <td>3525</td>\n    </tr>\n    <tr>\n      <th>4</th>\n      <td>00-58-2254-40-8</td>\n      <td>4089</td>\n      <td>3810</td>\n      <td>4154</td>\n      <td>4965</td>\n      <td>4837</td>\n      <td>4045</td>\n    </tr>\n    <tr>\n      <th>5</th>\n      <td>00-58-2254-50-1</td>\n      <td>3833</td>\n      <td>4024</td>\n      <td>5019</td>\n      <td>7252</td>\n      <td>7303</td>\n      <td>4730</td>\n    </tr>\n    <tr>\n      <th>6</th>\n      <td>00-58-2254-60-3</td>\n      <td>5849</td>\n      <td>5396</td>\n      <td>6909</td>\n      <td>6881</td>\n      <td>6576</td>\n      <td>5806</td>\n    </tr>\n    <tr>\n      <th>7</th>\n      <td>00-58-2254-70-5</td>\n      <td>4429</td>\n      <td>5035</td>\n      <td>5633</td>\n      <td>6640</td>\n      <td>6795</td>\n      <td>5726</td>\n    </tr>\n    <tr>\n      <th>8</th>\n      <td>00-58-2258-30-0</td>\n      <td>1256</td>\n      <td>1387</td>\n      <td>1387</td>\n      <td>3033</td>\n      <td>2838</td>\n      <td>1725</td>\n    </tr>\n    <tr>\n      <th>9</th>\n      <td>00-58-2258-40-2</td>\n      <td>2667</td>\n      <td>2824</td>\n      <td>4214</td>\n      <td>5200</td>\n      <td>5256</td>\n      <td>3306</td>\n    </tr>\n    <tr>\n      <th>10</th>\n      <td>00-58-2258-50-5</td>\n      <td>1324</td>\n      <td>1507</td>\n      <td>2298</td>\n      <td>2635</td>\n      <td>2857</td>\n      <td>1697</td>\n    </tr>\n    <tr>\n      <th>11</th>\n      <td>00-58-2258-60-7</td>\n      <td>314</td>\n      <td>346</td>\n      <td>346</td>\n      <td>1207</td>\n      <td>950</td>\n      <td>424</td>\n    </tr>\n    <tr>\n      <th>12</th>\n      <td>00-58-2258-70-9</td>\n      <td>512</td>\n      <td>572</td>\n      <td>572</td>\n      <td>4246</td>\n      <td>3645</td>\n      <td>852</td>\n    </tr>\n    <tr>\n      <th>13</th>\n      <td>00-58-2368-00-7</td>\n      <td>124</td>\n      <td>120</td>\n      <td>120</td>\n      <td>120</td>\n      <td>120</td>\n      <td>120</td>\n    </tr>\n    <tr>\n      <th>14</th>\n      <td>00-58-2368-02-9</td>\n      <td>40</td>\n      <td>40</td>\n      <td>40</td>\n      <td>40</td>\n      <td>40</td>\n      <td>40</td>\n    </tr>\n    <tr>\n      <th>15</th>\n      <td>00-58-2368-20-1</td>\n      <td>476</td>\n      <td>450</td>\n      <td>520</td>\n      <td>920</td>\n      <td>1166</td>\n      <td>609</td>\n    </tr>\n    <tr>\n      <th>16</th>\n      <td>00-58-2368-30-3</td>\n      <td>441</td>\n      <td>224</td>\n      <td>245</td>\n      <td>327</td>\n      <td>371</td>\n      <td>284</td>\n    </tr>\n    <tr>\n      <th>17</th>\n      <td>00-58-2368-40-5</td>\n      <td>1657</td>\n      <td>1862</td>\n      <td>2325</td>\n      <td>2834</td>\n      <td>2725</td>\n      <td>2184</td>\n    </tr>\n    <tr>\n      <th>18</th>\n      <td>00-58-2368-50-8</td>\n      <td>40</td>\n      <td>40</td>\n      <td>40</td>\n      <td>40</td>\n      <td>43</td>\n      <td>40</td>\n    </tr>\n    <tr>\n      <th>19</th>\n      <td>10-39-3594-13-6</td>\n      <td>3840</td>\n      <td>3520</td>\n      <td>3440</td>\n      <td>4800</td>\n      <td>5880</td>\n      <td>4840</td>\n    </tr>\n  </tbody>\n</table>\n</div>"
     },
     "execution_count": 2,
     "metadata": {},
     "output_type": "execute_result"
    }
   ],
   "source": [
    "origin_df = pd.read_csv('./cpc_data/test.csv')\n",
    "origin_df"
   ],
   "metadata": {
    "collapsed": false,
    "pycharm": {
     "name": "#%%\n"
    }
   }
  },
  {
   "cell_type": "code",
   "execution_count": 3,
   "outputs": [
    {
     "data": {
      "text/plain": "                       時間\n0       2022/1/1 01:00:00\n1       2022/1/1 02:00:00\n2       2022/1/1 03:00:00\n3       2022/1/1 04:00:00\n4       2022/1/1 05:00:00\n...                   ...\n8755  2022/12/31 20:00:00\n8756  2022/12/31 21:00:00\n8757  2022/12/31 22:00:00\n8758  2022/12/31 23:00:00\n8759    2023/1/1 00:00:00\n\n[8760 rows x 1 columns]",
      "text/html": "<div>\n<style scoped>\n    .dataframe tbody tr th:only-of-type {\n        vertical-align: middle;\n    }\n\n    .dataframe tbody tr th {\n        vertical-align: top;\n    }\n\n    .dataframe thead th {\n        text-align: right;\n    }\n</style>\n<table border=\"1\" class=\"dataframe\">\n  <thead>\n    <tr style=\"text-align: right;\">\n      <th></th>\n      <th>時間</th>\n    </tr>\n  </thead>\n  <tbody>\n    <tr>\n      <th>0</th>\n      <td>2022/1/1 01:00:00</td>\n    </tr>\n    <tr>\n      <th>1</th>\n      <td>2022/1/1 02:00:00</td>\n    </tr>\n    <tr>\n      <th>2</th>\n      <td>2022/1/1 03:00:00</td>\n    </tr>\n    <tr>\n      <th>3</th>\n      <td>2022/1/1 04:00:00</td>\n    </tr>\n    <tr>\n      <th>4</th>\n      <td>2022/1/1 05:00:00</td>\n    </tr>\n    <tr>\n      <th>...</th>\n      <td>...</td>\n    </tr>\n    <tr>\n      <th>8755</th>\n      <td>2022/12/31 20:00:00</td>\n    </tr>\n    <tr>\n      <th>8756</th>\n      <td>2022/12/31 21:00:00</td>\n    </tr>\n    <tr>\n      <th>8757</th>\n      <td>2022/12/31 22:00:00</td>\n    </tr>\n    <tr>\n      <th>8758</th>\n      <td>2022/12/31 23:00:00</td>\n    </tr>\n    <tr>\n      <th>8759</th>\n      <td>2023/1/1 00:00:00</td>\n    </tr>\n  </tbody>\n</table>\n<p>8760 rows × 1 columns</p>\n</div>"
     },
     "execution_count": 3,
     "metadata": {},
     "output_type": "execute_result"
    }
   ],
   "source": [
    "df = pd.read_csv('time_slot.csv')\n",
    "df"
   ],
   "metadata": {
    "collapsed": false,
    "pycharm": {
     "name": "#%%\n"
    }
   }
  },
  {
   "cell_type": "code",
   "execution_count": 4,
   "outputs": [],
   "source": [
    "month_01_02 = df[0:1416] # 1~2月\n",
    "month_03_04 = df[1416:2880] # 3~4月\n",
    "month_05_06 = df[2880:4344] # 5~6月\n",
    "month_07_08 = df[4344:5832] # 7~8月\n",
    "month_09_10 = df[5832:7296] # 9~10月\n",
    "month_11_12 = df[7296:8760] # 11~12月"
   ],
   "metadata": {
    "collapsed": false,
    "pycharm": {
     "name": "#%%\n"
    }
   }
  },
  {
   "cell_type": "code",
   "execution_count": 5,
   "outputs": [],
   "source": [
    "# filter consumption\n",
    "for i, v in enumerate(origin_df['11101-11102']):\n",
    "    if v < len(month_01_02):\n",
    "        origin_df = origin_df.drop(labels=i)\n",
    "for i, v in enumerate(origin_df['11103-11104']):\n",
    "    if v < len(month_03_04):\n",
    "        origin_df = origin_df.drop(labels=i)\n",
    "for i, v in enumerate(origin_df['11105-11106']):\n",
    "    if v < len(month_05_06):\n",
    "        origin_df = origin_df.drop(labels=i)\n",
    "for i, v in enumerate(origin_df['11107-11108']):\n",
    "    if v < len(month_07_08):\n",
    "        origin_df = origin_df.drop(labels=i)\n",
    "for i, v in enumerate(origin_df['11109-11110']):\n",
    "    if v < len(month_09_10):\n",
    "        origin_df = origin_df.drop(labels=i)\n",
    "for i, v in enumerate(origin_df['11111-11112']):\n",
    "    if v < len(month_11_12):\n",
    "        origin_df = origin_df.drop(labels=i)\n",
    "origin_df.to_csv('final.csv', encoding='utf-8-sig', index=False)"
   ],
   "metadata": {
    "collapsed": false,
    "pycharm": {
     "name": "#%%\n"
    }
   }
  },
  {
   "cell_type": "code",
   "execution_count": 6,
   "outputs": [],
   "source": [
    "df = pd.read_csv('final.csv')\n",
    "mon_01 = df['11101-11102'] / len(month_01_02)\n",
    "mon_03 = df['11103-11104'] / len(month_03_04)\n",
    "mon_05 = df['11105-11106'] / len(month_05_06)\n",
    "mon_07 = df['11107-11108'] / len(month_07_08)\n",
    "mon_09 = df['11109-11110'] / len(month_09_10)\n",
    "mon_12 = df['11111-11112'] / len(month_11_12)"
   ],
   "metadata": {
    "collapsed": false,
    "pycharm": {
     "name": "#%%\n"
    }
   }
  },
  {
   "cell_type": "code",
   "execution_count": 16,
   "outputs": [
    {
     "ename": "InvalidIndexError",
     "evalue": "Reindexing only valid with uniquely valued Index objects",
     "output_type": "error",
     "traceback": [
      "\u001B[1;31m---------------------------------------------------------------------------\u001B[0m",
      "\u001B[1;31mInvalidIndexError\u001B[0m                         Traceback (most recent call last)",
      "\u001B[1;32m~\\AppData\\Local\\Temp\\ipykernel_19320\\3896254466.py\u001B[0m in \u001B[0;36m<module>\u001B[1;34m\u001B[0m\n\u001B[0;32m     23\u001B[0m \u001B[0mdf_03_04\u001B[0m\u001B[1;33m\u001B[0m\u001B[1;33m\u001B[0m\u001B[0m\n\u001B[0;32m     24\u001B[0m \u001B[1;33m\u001B[0m\u001B[0m\n\u001B[1;32m---> 25\u001B[1;33m \u001B[0mpower_consumption\u001B[0m \u001B[1;33m=\u001B[0m \u001B[0mpd\u001B[0m\u001B[1;33m.\u001B[0m\u001B[0mconcat\u001B[0m\u001B[1;33m(\u001B[0m\u001B[1;33m[\u001B[0m\u001B[0mdf_01_02\u001B[0m\u001B[1;33m,\u001B[0m \u001B[0mdf_tmp_03_04\u001B[0m\u001B[1;33m]\u001B[0m\u001B[1;33m,\u001B[0m \u001B[0maxis\u001B[0m\u001B[1;33m=\u001B[0m\u001B[1;36m0\u001B[0m\u001B[1;33m)\u001B[0m\u001B[1;33m\u001B[0m\u001B[1;33m\u001B[0m\u001B[0m\n\u001B[0m\u001B[0;32m     26\u001B[0m \u001B[0mpower_consumption\u001B[0m\u001B[1;33m\u001B[0m\u001B[1;33m\u001B[0m\u001B[0m\n\u001B[0;32m     27\u001B[0m \u001B[1;33m\u001B[0m\u001B[0m\n",
      "\u001B[1;32mC:\\ProgramData\\Anaconda3\\envs\\aibox\\lib\\site-packages\\pandas\\util\\_decorators.py\u001B[0m in \u001B[0;36mwrapper\u001B[1;34m(*args, **kwargs)\u001B[0m\n\u001B[0;32m    309\u001B[0m                     \u001B[0mstacklevel\u001B[0m\u001B[1;33m=\u001B[0m\u001B[0mstacklevel\u001B[0m\u001B[1;33m,\u001B[0m\u001B[1;33m\u001B[0m\u001B[1;33m\u001B[0m\u001B[0m\n\u001B[0;32m    310\u001B[0m                 )\n\u001B[1;32m--> 311\u001B[1;33m             \u001B[1;32mreturn\u001B[0m \u001B[0mfunc\u001B[0m\u001B[1;33m(\u001B[0m\u001B[1;33m*\u001B[0m\u001B[0margs\u001B[0m\u001B[1;33m,\u001B[0m \u001B[1;33m**\u001B[0m\u001B[0mkwargs\u001B[0m\u001B[1;33m)\u001B[0m\u001B[1;33m\u001B[0m\u001B[1;33m\u001B[0m\u001B[0m\n\u001B[0m\u001B[0;32m    312\u001B[0m \u001B[1;33m\u001B[0m\u001B[0m\n\u001B[0;32m    313\u001B[0m         \u001B[1;32mreturn\u001B[0m \u001B[0mwrapper\u001B[0m\u001B[1;33m\u001B[0m\u001B[1;33m\u001B[0m\u001B[0m\n",
      "\u001B[1;32mC:\\ProgramData\\Anaconda3\\envs\\aibox\\lib\\site-packages\\pandas\\core\\reshape\\concat.py\u001B[0m in \u001B[0;36mconcat\u001B[1;34m(objs, axis, join, ignore_index, keys, levels, names, verify_integrity, sort, copy)\u001B[0m\n\u001B[0;32m    305\u001B[0m     )\n\u001B[0;32m    306\u001B[0m \u001B[1;33m\u001B[0m\u001B[0m\n\u001B[1;32m--> 307\u001B[1;33m     \u001B[1;32mreturn\u001B[0m \u001B[0mop\u001B[0m\u001B[1;33m.\u001B[0m\u001B[0mget_result\u001B[0m\u001B[1;33m(\u001B[0m\u001B[1;33m)\u001B[0m\u001B[1;33m\u001B[0m\u001B[1;33m\u001B[0m\u001B[0m\n\u001B[0m\u001B[0;32m    308\u001B[0m \u001B[1;33m\u001B[0m\u001B[0m\n\u001B[0;32m    309\u001B[0m \u001B[1;33m\u001B[0m\u001B[0m\n",
      "\u001B[1;32mC:\\ProgramData\\Anaconda3\\envs\\aibox\\lib\\site-packages\\pandas\\core\\reshape\\concat.py\u001B[0m in \u001B[0;36mget_result\u001B[1;34m(self)\u001B[0m\n\u001B[0;32m    526\u001B[0m                     \u001B[0mobj_labels\u001B[0m \u001B[1;33m=\u001B[0m \u001B[0mobj\u001B[0m\u001B[1;33m.\u001B[0m\u001B[0maxes\u001B[0m\u001B[1;33m[\u001B[0m\u001B[1;36m1\u001B[0m \u001B[1;33m-\u001B[0m \u001B[0max\u001B[0m\u001B[1;33m]\u001B[0m\u001B[1;33m\u001B[0m\u001B[1;33m\u001B[0m\u001B[0m\n\u001B[0;32m    527\u001B[0m                     \u001B[1;32mif\u001B[0m \u001B[1;32mnot\u001B[0m \u001B[0mnew_labels\u001B[0m\u001B[1;33m.\u001B[0m\u001B[0mequals\u001B[0m\u001B[1;33m(\u001B[0m\u001B[0mobj_labels\u001B[0m\u001B[1;33m)\u001B[0m\u001B[1;33m:\u001B[0m\u001B[1;33m\u001B[0m\u001B[1;33m\u001B[0m\u001B[0m\n\u001B[1;32m--> 528\u001B[1;33m                         \u001B[0mindexers\u001B[0m\u001B[1;33m[\u001B[0m\u001B[0max\u001B[0m\u001B[1;33m]\u001B[0m \u001B[1;33m=\u001B[0m \u001B[0mobj_labels\u001B[0m\u001B[1;33m.\u001B[0m\u001B[0mget_indexer\u001B[0m\u001B[1;33m(\u001B[0m\u001B[0mnew_labels\u001B[0m\u001B[1;33m)\u001B[0m\u001B[1;33m\u001B[0m\u001B[1;33m\u001B[0m\u001B[0m\n\u001B[0m\u001B[0;32m    529\u001B[0m \u001B[1;33m\u001B[0m\u001B[0m\n\u001B[0;32m    530\u001B[0m                 \u001B[0mmgrs_indexers\u001B[0m\u001B[1;33m.\u001B[0m\u001B[0mappend\u001B[0m\u001B[1;33m(\u001B[0m\u001B[1;33m(\u001B[0m\u001B[0mobj\u001B[0m\u001B[1;33m.\u001B[0m\u001B[0m_mgr\u001B[0m\u001B[1;33m,\u001B[0m \u001B[0mindexers\u001B[0m\u001B[1;33m)\u001B[0m\u001B[1;33m)\u001B[0m\u001B[1;33m\u001B[0m\u001B[1;33m\u001B[0m\u001B[0m\n",
      "\u001B[1;32mC:\\ProgramData\\Anaconda3\\envs\\aibox\\lib\\site-packages\\pandas\\core\\indexes\\base.py\u001B[0m in \u001B[0;36mget_indexer\u001B[1;34m(self, target, method, limit, tolerance)\u001B[0m\n\u001B[0;32m   3440\u001B[0m \u001B[1;33m\u001B[0m\u001B[0m\n\u001B[0;32m   3441\u001B[0m         \u001B[1;32mif\u001B[0m \u001B[1;32mnot\u001B[0m \u001B[0mself\u001B[0m\u001B[1;33m.\u001B[0m\u001B[0m_index_as_unique\u001B[0m\u001B[1;33m:\u001B[0m\u001B[1;33m\u001B[0m\u001B[1;33m\u001B[0m\u001B[0m\n\u001B[1;32m-> 3442\u001B[1;33m             \u001B[1;32mraise\u001B[0m \u001B[0mInvalidIndexError\u001B[0m\u001B[1;33m(\u001B[0m\u001B[0mself\u001B[0m\u001B[1;33m.\u001B[0m\u001B[0m_requires_unique_msg\u001B[0m\u001B[1;33m)\u001B[0m\u001B[1;33m\u001B[0m\u001B[1;33m\u001B[0m\u001B[0m\n\u001B[0m\u001B[0;32m   3443\u001B[0m \u001B[1;33m\u001B[0m\u001B[0m\n\u001B[0;32m   3444\u001B[0m         \u001B[1;32mif\u001B[0m \u001B[1;32mnot\u001B[0m \u001B[0mself\u001B[0m\u001B[1;33m.\u001B[0m\u001B[0m_should_compare\u001B[0m\u001B[1;33m(\u001B[0m\u001B[0mtarget\u001B[0m\u001B[1;33m)\u001B[0m \u001B[1;32mand\u001B[0m \u001B[1;32mnot\u001B[0m \u001B[0mis_interval_dtype\u001B[0m\u001B[1;33m(\u001B[0m\u001B[0mself\u001B[0m\u001B[1;33m.\u001B[0m\u001B[0mdtype\u001B[0m\u001B[1;33m)\u001B[0m\u001B[1;33m:\u001B[0m\u001B[1;33m\u001B[0m\u001B[1;33m\u001B[0m\u001B[0m\n",
      "\u001B[1;31mInvalidIndexError\u001B[0m: Reindexing only valid with uniquely valued Index objects"
     ]
    }
   ],
   "source": [
    "col_name = pd.DataFrame(columns=df.電號.values)\n",
    "df_month_01_02 = pd.concat([month_01_02, col_name], axis=1)\n",
    "df_month_01_02 = df_month_01_02.iloc[:,1:]\n",
    "\n",
    "tmp_list_month_01_02 = []\n",
    "for i in df_month_01_02:\n",
    "    for j in mon_01:\n",
    "        tmp_df = pd.DataFrame(df_month_01_02[i].fillna(round(j,0)))\n",
    "        tmp_list_month_01_02.append(tmp_df)\n",
    "df_tmp_01_02 = pd.concat(tmp_list_month_01_02,axis=1)\n",
    "df_01_02 = pd.concat([month_01_02, df_tmp_01_02], axis=1)\n",
    "\n",
    "df_month_03_04 = pd.concat([month_03_04, col_name], axis=1)\n",
    "df_month_03_04 = df_month_03_04.iloc[:,1:]\n",
    "\n",
    "tmp_list_month_03_04 = []\n",
    "for i in df_month_03_04:\n",
    "    for j in mon_03:\n",
    "        tmp_df = pd.DataFrame(df_month_03_04[i].fillna(round(j,0)))\n",
    "        tmp_list_month_03_04.append(tmp_df)\n",
    "df_tmp_03_04 = pd.concat(tmp_list_month_03_04, axis=1)\n",
    "df_03_04 = pd.concat([month_03_04, df_tmp_03_04], axis=1)\n",
    "df_03_04\n",
    "\n",
    "power_consumption = pd.concat([df_01_02, df_tmp_03_04], axis=0)\n",
    "power_consumption\n",
    "\n",
    "\n",
    "\n",
    "# df5.to_csv('spe_test_consumption.csv', encoding='utf-8-sig', index=False)\n",
    "# for i in mon_01:\n",
    "#     print(i)\n",
    "#     for j in df3:\n",
    "#         df4 = df3[j].fillna(i)\n",
    "# df4"
   ],
   "metadata": {
    "collapsed": false,
    "pycharm": {
     "name": "#%%\n"
    }
   }
  },
  {
   "cell_type": "code",
   "execution_count": 142,
   "outputs": [],
   "source": [],
   "metadata": {
    "collapsed": false,
    "pycharm": {
     "name": "#%%\n"
    }
   }
  },
  {
   "cell_type": "code",
   "execution_count": null,
   "outputs": [],
   "source": [],
   "metadata": {
    "collapsed": false,
    "pycharm": {
     "name": "#%%\n"
    }
   }
  }
 ],
 "metadata": {
  "kernelspec": {
   "display_name": "Python 3",
   "language": "python",
   "name": "python3"
  },
  "language_info": {
   "codemirror_mode": {
    "name": "ipython",
    "version": 2
   },
   "file_extension": ".py",
   "mimetype": "text/x-python",
   "name": "python",
   "nbconvert_exporter": "python",
   "pygments_lexer": "ipython2",
   "version": "2.7.6"
  }
 },
 "nbformat": 4,
 "nbformat_minor": 0
}