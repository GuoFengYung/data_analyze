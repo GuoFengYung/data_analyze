{
 "cells": [
  {
   "cell_type": "code",
   "execution_count": 1,
   "outputs": [],
   "source": [
    "import pandas as pd\n",
    "import os\n",
    "import datetime\n",
    "import holidays\n",
    "import csv\n",
    "import io\n",
    "from dataclasses import dataclass, asdict"
   ],
   "metadata": {
    "collapsed": false,
    "pycharm": {
     "name": "#%%\n"
    }
   }
  },
  {
   "cell_type": "code",
   "execution_count": 344,
   "outputs": [],
   "source": [
    "@dataclass\n",
    "class PowerData:\n",
    "    power_plant: str = \"\"\n",
    "    total_generation: float = 0 # 總產電\n",
    "    total_transfered: float = 0  # 總轉供\n",
    "    residual_power: int = 0 # 總餘電\n",
    "    time_slot: str = 0\n",
    "\n",
    "@dataclass\n",
    "class ClientData:\n",
    "    client_id: str\n",
    "    total_utility_power: float = 0  # 總市電\n",
    "    total_quota: float = 0  # 總綠電轉供 (stage1 + stage2)\n",
    "    time_slot: str = 0\n",
    "\n",
    "@dataclass\n",
    "class Plant:\n",
    "    plant_name: str\n",
    "    total_transfered: float = 0  # 總轉供\n",
    "    residual_power: int = 0\n",
    "    time_slot: str = 0\n",
    "\n",
    "\n",
    "class PlantRecorder:\n",
    "    def __init__(self, plant_names):\n",
    "        self.hd_plant_dict = {name: Plant(name) for name in plant_names}\n",
    "\n",
    "    def add_power_transfered(self, plant_name, power_transfered, time_slot, residual_power):\n",
    "        obj = self.hd_plant_dict[plant_name]\n",
    "        obj.total_transfered = float(power_transfered)\n",
    "        obj.time_slot = time_slot\n",
    "        obj.residual_power = residual_power\n",
    "\n",
    "    def add_power_generation(self, plant_name):\n",
    "        obj = self.hd_plant_dict[plant_name]\n",
    "\n",
    "    def get_power_transfered(self, plant_name):\n",
    "        return self.hd_plant_dict[plant_name].total_transfered\n",
    "\n",
    "    def get_residual_power(self, plant_name):\n",
    "        return self.hd_plant_dict[plant_name].residual_power\n",
    "\n",
    "    def get_plant_name(self, plant_name):\n",
    "        return self.hd_plant_dict[plant_name].plant_name\n",
    "\n",
    "    def summarize(self):\n",
    "        for name, obj in self.hd_plant_dict.items():\n",
    "            print(asdict(obj))"
   ],
   "metadata": {
    "collapsed": false,
    "pycharm": {
     "name": "#%%\n"
    }
   }
  },
  {
   "cell_type": "code",
   "execution_count": 345,
   "outputs": [],
   "source": [
    "def __load_power_plant_dicts(filepath):\n",
    "    power_plant_dicts = {}\n",
    "    with open(filepath + os.path.sep + 'plant_information.csv', 'r', encoding=\"utf-8-sig\") as f:\n",
    "        rows = csv.reader(f, delimiter=',')\n",
    "        _headers = next(rows)\n",
    "        for row in rows:\n",
    "            power_plant_dicts[row[0]] = {}\n",
    "            # HDRE asks to round FIT to 4 digits\n",
    "            power_plant_dicts[row[0]][\"surplus_price\"] = round(float(row[1]), 4)\n",
    "\n",
    "            # HDRE asks to round capacity to 2 digits\n",
    "            power_plant_dicts[row[0]][\"capacity\"] = round(float(row[2]), 2)\n",
    "            power_plant_dicts[row[0]][\"power_plant_id\"] = row[3]\n",
    "            power_plant_dicts[row[0]][\"surplus_power\"] = 0\n",
    "    return power_plant_dicts\n",
    "\n",
    "def __load_power_client_dicts(filepath):\n",
    "    power_plant_dicts = {}\n",
    "    with open(filepath + os.path.sep + 'client_information.csv', 'r', encoding=\"utf-8-sig\") as f:\n",
    "        rows = csv.reader(f, delimiter=',')\n",
    "        _headers = next(rows)\n",
    "        for row in rows:\n",
    "            power_plant_dicts[row[1]] = {}\n",
    "            power_plant_dicts[row[1]][\"綠電售價\"] = round(float(row[6]), 4)\n",
    "    return power_plant_dicts\n",
    "\n",
    "def read_predefined_contracts(csv_fn):\n",
    "    assert csv_fn.endswith(\".csv\"), f\"Wrong csv_fn: {csv_fn}\"\n",
    "    with io.open(csv_fn, encoding=\"utf-8-sig\") as _fp:\n",
    "        reader = csv.reader(_fp, delimiter=\",\")\n",
    "        rows = [row for row in reader]\n",
    "    plant_name = rows[0][1]\n",
    "    plant_generation = rows[0][2]\n",
    "    docs = []\n",
    "    for row in rows[1:]:\n",
    "        doc = {\n",
    "            'type': row[0],\n",
    "            plant_name: row[1],\n",
    "            plant_generation: row[2]\n",
    "        }\n",
    "        docs.append(doc)\n",
    "\n",
    "    return docs"
   ],
   "metadata": {
    "collapsed": false,
    "pycharm": {
     "name": "#%%\n"
    }
   }
  },
  {
   "cell_type": "code",
   "execution_count": 346,
   "outputs": [
    {
     "name": "stdout",
     "output_type": "stream",
     "text": [
      "{'電廠001': {'surplus_price': 5.0004, 'capacity': 9000.0, 'power_plant_id': '20655320001', 'surplus_power': 0}, '電廠002': {'surplus_price': 4.9552, 'capacity': 12000.0, 'power_plant_id': '20655320002', 'surplus_power': 0}}\n"
     ]
    },
    {
     "data": {
      "text/plain": "{'64-67-0001-13-1': {'綠電售價': 5.5376},\n '64-67-0002-13-1': {'綠電售價': 6.2255},\n '64-67-0003-13-1': {'綠電售價': 5.9575},\n '64-67-0004-13-1': {'綠電售價': 6.0537},\n '64-67-0005-13-1': {'綠電售價': 5.5821}}"
     },
     "execution_count": 346,
     "metadata": {},
     "output_type": "execute_result"
    }
   ],
   "source": [
    "power_plant_dict = __load_power_plant_dicts('./contract_3_5_month_minutes/')\n",
    "print(power_plant_dict)\n",
    "power_client_dict = __load_power_client_dicts('./contract_3_5_month_minutes/')\n",
    "power_client_dict"
   ],
   "metadata": {
    "collapsed": false,
    "pycharm": {
     "name": "#%%\n"
    }
   }
  },
  {
   "cell_type": "code",
   "execution_count": 347,
   "outputs": [
    {
     "name": "stdout",
     "output_type": "stream",
     "text": [
      "{'plant_name': '電廠001', 'total_transfered': 0, 'residual_power': 0, 'time_slot': 0}\n",
      "{'plant_name': '電廠002', 'total_transfered': 0, 'residual_power': 0, 'time_slot': 0}\n"
     ]
    }
   ],
   "source": [
    "plant_record = PlantRecorder(power_plant_dict.keys())\n",
    "plant_record.summarize()"
   ],
   "metadata": {
    "collapsed": false,
    "pycharm": {
     "name": "#%%\n"
    }
   }
  },
  {
   "cell_type": "code",
   "execution_count": 353,
   "outputs": [],
   "source": [
    "def analyze_power(power_generation, power_consumption):\n",
    "    type_list = []\n",
    "    type_list1 = []\n",
    "    type_list2 = []\n",
    "\n",
    "    type_list_c = []\n",
    "    type_list1_c = []\n",
    "    type_list2_c = []\n",
    "\n",
    "    df_g = read_predefined_contracts(power_generation)\n",
    "    df_c = read_predefined_contracts(power_consumption)\n",
    "\n",
    "    # type distribution\n",
    "    for i in df_g:\n",
    "        if i['type'] == '0':\n",
    "            type_list.append(i)\n",
    "        elif i['type'] == '1':\n",
    "            type_list1.append(i)\n",
    "        else:\n",
    "            type_list2.append(i)\n",
    "    for j in df_c:\n",
    "        if j['type'] == '0':\n",
    "            type_list_c.append(j)\n",
    "        elif i['type'] == '1':\n",
    "            type_list1_c.append(i)\n",
    "        else:\n",
    "            type_list2_c.append(i)\n",
    "\n",
    "    return type_list, type_list1, type_list2, type_list_c, type_list1_c, type_list2_c\n",
    "\n",
    "\n",
    "def get_power_max(p_list):\n",
    "    return sorted(p_list, key=lambda x: x['power_generation'], reverse=True)\n",
    "\n",
    "def get_consumption_max(plant_dict):\n",
    "    sorting_list = sorted({d['綠電售價']: (k, d) for k, d in plant_dict.items()}, reverse=True)\n",
    "    plant_dict = {d['綠電售價']: (k, d) for k, d in plant_dict.items()}\n",
    "    plant_dict = dict(map(plant_dict.get, sorting_list))\n",
    "    return plant_dict\n",
    "    # return sorted(c_list, key=lambda x: x['綠電售價'], reverse=True)\n",
    "\n",
    "def cal_distribution(power_dict, consumption_dict, power_price):\n",
    "    for i in power_dict:\n",
    "        doc =[\n",
    "            PowerData(\n",
    "                power_plant=i.get('power_plant'),\n",
    "                total_generation=i.get('power_generation')\n",
    "            )\n",
    "        ]\n",
    "        print(doc)\n",
    "    # print(power_dict, consumption_dict, power_price)"
   ],
   "metadata": {
    "collapsed": false,
    "pycharm": {
     "name": "#%%\n"
    }
   }
  },
  {
   "cell_type": "code",
   "execution_count": 354,
   "outputs": [
    {
     "name": "stdout",
     "output_type": "stream",
     "text": [
      "[{'type': '0', 'power_plant': '電廠001', 'power_generation': '447200'}, {'type': '0', 'power_plant': '電廠002', 'power_generation': '559000'}]\n",
      "[{'type': '0', 'client_id': '64-67-0001-13-1', 'power_consumption': '379638'}, {'type': '0', 'client_id': '64-67-0002-13-1', 'power_consumption': '455565.6'}, {'type': '0', 'client_id': '64-67-0003-13-1', 'power_consumption': '303710.4'}, {'type': '0', 'client_id': '64-67-0004-13-1', 'power_consumption': '560350'}, {'type': '0', 'client_id': '64-67-0005-13-1', 'power_consumption': '2186722.5'}]\n"
     ]
    }
   ],
   "source": [
    "p_g_0, _, p_g_2, p_c_0, _, p_c_2 = analyze_power('power_generation.csv', 'power_consumption.csv')\n",
    "print(p_g_0)\n",
    "print(p_c_0)"
   ],
   "metadata": {
    "collapsed": false,
    "pycharm": {
     "name": "#%%\n"
    }
   }
  },
  {
   "cell_type": "code",
   "execution_count": 355,
   "outputs": [],
   "source": [
    "power_dict_list = get_power_max(p_g_0)\n",
    "power_price_list = get_consumption_max(power_client_dict)"
   ],
   "metadata": {
    "collapsed": false,
    "pycharm": {
     "name": "#%%\n"
    }
   }
  },
  {
   "cell_type": "code",
   "execution_count": 356,
   "outputs": [
    {
     "name": "stdout",
     "output_type": "stream",
     "text": [
      "[PowerData(power_plant='電廠002', total_generation='559000', total_transfered=0, residual_power=0, time_slot=0)]\n",
      "[PowerData(power_plant='電廠001', total_generation='447200', total_transfered=0, residual_power=0, time_slot=0)]\n"
     ]
    }
   ],
   "source": [
    "cal_distribution(power_dict_list, p_c_0, power_price_list)"
   ],
   "metadata": {
    "collapsed": false,
    "pycharm": {
     "name": "#%%\n"
    }
   }
  },
  {
   "cell_type": "code",
   "execution_count": 339,
   "outputs": [],
   "source": [],
   "metadata": {
    "collapsed": false,
    "pycharm": {
     "name": "#%%\n"
    }
   }
  },
  {
   "cell_type": "code",
   "execution_count": null,
   "outputs": [],
   "source": [],
   "metadata": {
    "collapsed": false,
    "pycharm": {
     "name": "#%%\n"
    }
   }
  }
 ],
 "metadata": {
  "kernelspec": {
   "display_name": "Python 3",
   "language": "python",
   "name": "python3"
  },
  "language_info": {
   "codemirror_mode": {
    "name": "ipython",
    "version": 2
   },
   "file_extension": ".py",
   "mimetype": "text/x-python",
   "name": "python",
   "nbconvert_exporter": "python",
   "pygments_lexer": "ipython2",
   "version": "2.7.6"
  }
 },
 "nbformat": 4,
 "nbformat_minor": 0
}