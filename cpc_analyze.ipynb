{
 "cells": [
  {
   "cell_type": "code",
   "execution_count": 4,
   "outputs": [],
   "source": [
    "import pandas as pd\n",
    "import os"
   ],
   "metadata": {
    "collapsed": false,
    "pycharm": {
     "name": "#%%\n"
    }
   }
  },
  {
   "cell_type": "code",
   "execution_count": 5,
   "outputs": [],
   "source": [
    "def get_df_by_excel(xls_filename, sheet_id):\n",
    "    print(\"Read {}, sheet_id={}\".format(xls_filename, sheet_id))\n",
    "    xlfp = pd.ExcelFile(xls_filename)\n",
    "    return pd.read_excel(xlfp, sheet_name=sheet_id)"
   ],
   "metadata": {
    "collapsed": false,
    "pycharm": {
     "name": "#%%\n"
    }
   }
  },
  {
   "cell_type": "code",
   "execution_count": 12,
   "outputs": [
    {
     "name": "stdout",
     "output_type": "stream",
     "text": [
      "Read ./cpc_data/各電號用電資訊-6期.xlsx, sheet_id=0\n"
     ]
    },
    {
     "data": {
      "text/plain": "          各電號用電資訊       Unnamed: 1   Unnamed: 2   Unnamed: 3   Unnamed: 4  \\\n0             NaN               電號  11101-11102  11103-11104  11105-11106   \n1             NaN              NaN          NaN          NaN          NaN   \n2             NaN  00-58-2254-02-2         1534         2281         4623   \n3             NaN  00-58-2254-10-2        28200        23120        25280   \n4             NaN  00-58-2254-20-4         6422         6356         7098   \n5             NaN  00-58-2254-30-6         2560         3195         4543   \n6             NaN  00-58-2254-40-8         4089         3810         4154   \n7             NaN  00-58-2254-50-1         3833         4024         5019   \n8             NaN  00-58-2254-60-3         5849         5396         6909   \n9             NaN  00-58-2254-70-5         4429         5035         5633   \n10            NaN  00-58-2258-30-0         1256         1387         1387   \n11            NaN  00-58-2258-40-2         2667         2824         4214   \n12            NaN  00-58-2258-50-5         1324         1507         2298   \n13            NaN  00-58-2258-60-7          314          346          346   \n14            NaN  00-58-2258-70-9          512          572          572   \n15            NaN  00-58-2368-00-7          124          120          120   \n16            NaN  00-58-2368-02-9           40           40           40   \n17            NaN  00-58-2368-20-1          476          450          520   \n18            NaN  00-58-2368-30-3          441          224          245   \n19            NaN  00-58-2368-40-5         1657         1862         2325   \n20            NaN  00-58-2368-50-8           40           40           40   \n21            NaN              NaN  11101-11102  11103-11104  11105-11106   \n22            NaN  10-39-3594-13-6         3840         3520         3440   \n23            NaN              NaN  11102-11103  11104-11105  11106-11107   \n24            NaN  05-30-4320-11-9         2880         2560         2920   \n25            NaN  05-30-6098-12-5         2457         2121         2268   \n26            NaN  05-30-4340-11-3         3200         3200         4720   \n27            NaN  05-30-4643-00-6          920         1880         3880   \n28            NaN              NaN        11104        11105  11106-11107   \n29            NaN  05-30-4643-10-8          400          920         2400   \n30            NaN  05-30-4643-20-0          240          200          360   \n31            NaN              NaN        11108        11109        11110   \n32            NaN  05-30-4646-11-2       137760       137840       127520   \n33            NaN  05-30-6200-11-9       106100       131100       117500   \n34            NaN              NaN          NaN          NaN          NaN   \n35            NaN              總 計          NaN          NaN          NaN   \n\n      Unnamed: 5   Unnamed: 6   Unnamed: 7 Unnamed: 8  \n0    11107-11108  11109-11110  11111-11112      2022年  \n1            NaN          NaN          NaN      總用電度數  \n2           7803         7336         3807      27384  \n3          28320        30880        25920     161720  \n4           8706         8549         6868      43999  \n5           6199         6035         3525      26057  \n6           4965         4837         4045      25900  \n7           7252         7303         4730      32161  \n8           6881         6576         5806      37417  \n9           6640         6795         5726      34258  \n10          3033         2838         1725      11626  \n11          5200         5256         3306      23467  \n12          2635         2857         1697      12318  \n13          1207          950          424       3587  \n14          4246         3645          852      10399  \n15           120          120          120        724  \n16            40           40           40        240  \n17           920         1166          609       4141  \n18           327          371          284       1892  \n19          2834         2725         2184      13587  \n20            40           43           40        243  \n21   11107-11108  11109-11110  11111-11112        NaN  \n22          4800         5880         4840      26320  \n23  111108-11109  11110-11111  11112-11201        NaN  \n24          4560         3800         2600      19320  \n25          2756         2189         1901      13692  \n26          6160         4880         3760      25920  \n27          3800         3320         3000      16800  \n28   11108-11109  11110-11111  11112-11201        NaN  \n29          2560         2320         2760      11360  \n30           360          480          880       2520  \n31         11111        11112        11201        NaN  \n32        111200       115120        91440     720880  \n33         97500        94200        83500     629900  \n34           NaN          NaN          NaN        NaN  \n35           NaN          NaN          NaN    1937832  ",
      "text/html": "<div>\n<style scoped>\n    .dataframe tbody tr th:only-of-type {\n        vertical-align: middle;\n    }\n\n    .dataframe tbody tr th {\n        vertical-align: top;\n    }\n\n    .dataframe thead th {\n        text-align: right;\n    }\n</style>\n<table border=\"1\" class=\"dataframe\">\n  <thead>\n    <tr style=\"text-align: right;\">\n      <th></th>\n      <th>各電號用電資訊</th>\n      <th>Unnamed: 1</th>\n      <th>Unnamed: 2</th>\n      <th>Unnamed: 3</th>\n      <th>Unnamed: 4</th>\n      <th>Unnamed: 5</th>\n      <th>Unnamed: 6</th>\n      <th>Unnamed: 7</th>\n      <th>Unnamed: 8</th>\n    </tr>\n  </thead>\n  <tbody>\n    <tr>\n      <th>0</th>\n      <td>NaN</td>\n      <td>電號</td>\n      <td>11101-11102</td>\n      <td>11103-11104</td>\n      <td>11105-11106</td>\n      <td>11107-11108</td>\n      <td>11109-11110</td>\n      <td>11111-11112</td>\n      <td>2022年</td>\n    </tr>\n    <tr>\n      <th>1</th>\n      <td>NaN</td>\n      <td>NaN</td>\n      <td>NaN</td>\n      <td>NaN</td>\n      <td>NaN</td>\n      <td>NaN</td>\n      <td>NaN</td>\n      <td>NaN</td>\n      <td>總用電度數</td>\n    </tr>\n    <tr>\n      <th>2</th>\n      <td>NaN</td>\n      <td>00-58-2254-02-2</td>\n      <td>1534</td>\n      <td>2281</td>\n      <td>4623</td>\n      <td>7803</td>\n      <td>7336</td>\n      <td>3807</td>\n      <td>27384</td>\n    </tr>\n    <tr>\n      <th>3</th>\n      <td>NaN</td>\n      <td>00-58-2254-10-2</td>\n      <td>28200</td>\n      <td>23120</td>\n      <td>25280</td>\n      <td>28320</td>\n      <td>30880</td>\n      <td>25920</td>\n      <td>161720</td>\n    </tr>\n    <tr>\n      <th>4</th>\n      <td>NaN</td>\n      <td>00-58-2254-20-4</td>\n      <td>6422</td>\n      <td>6356</td>\n      <td>7098</td>\n      <td>8706</td>\n      <td>8549</td>\n      <td>6868</td>\n      <td>43999</td>\n    </tr>\n    <tr>\n      <th>5</th>\n      <td>NaN</td>\n      <td>00-58-2254-30-6</td>\n      <td>2560</td>\n      <td>3195</td>\n      <td>4543</td>\n      <td>6199</td>\n      <td>6035</td>\n      <td>3525</td>\n      <td>26057</td>\n    </tr>\n    <tr>\n      <th>6</th>\n      <td>NaN</td>\n      <td>00-58-2254-40-8</td>\n      <td>4089</td>\n      <td>3810</td>\n      <td>4154</td>\n      <td>4965</td>\n      <td>4837</td>\n      <td>4045</td>\n      <td>25900</td>\n    </tr>\n    <tr>\n      <th>7</th>\n      <td>NaN</td>\n      <td>00-58-2254-50-1</td>\n      <td>3833</td>\n      <td>4024</td>\n      <td>5019</td>\n      <td>7252</td>\n      <td>7303</td>\n      <td>4730</td>\n      <td>32161</td>\n    </tr>\n    <tr>\n      <th>8</th>\n      <td>NaN</td>\n      <td>00-58-2254-60-3</td>\n      <td>5849</td>\n      <td>5396</td>\n      <td>6909</td>\n      <td>6881</td>\n      <td>6576</td>\n      <td>5806</td>\n      <td>37417</td>\n    </tr>\n    <tr>\n      <th>9</th>\n      <td>NaN</td>\n      <td>00-58-2254-70-5</td>\n      <td>4429</td>\n      <td>5035</td>\n      <td>5633</td>\n      <td>6640</td>\n      <td>6795</td>\n      <td>5726</td>\n      <td>34258</td>\n    </tr>\n    <tr>\n      <th>10</th>\n      <td>NaN</td>\n      <td>00-58-2258-30-0</td>\n      <td>1256</td>\n      <td>1387</td>\n      <td>1387</td>\n      <td>3033</td>\n      <td>2838</td>\n      <td>1725</td>\n      <td>11626</td>\n    </tr>\n    <tr>\n      <th>11</th>\n      <td>NaN</td>\n      <td>00-58-2258-40-2</td>\n      <td>2667</td>\n      <td>2824</td>\n      <td>4214</td>\n      <td>5200</td>\n      <td>5256</td>\n      <td>3306</td>\n      <td>23467</td>\n    </tr>\n    <tr>\n      <th>12</th>\n      <td>NaN</td>\n      <td>00-58-2258-50-5</td>\n      <td>1324</td>\n      <td>1507</td>\n      <td>2298</td>\n      <td>2635</td>\n      <td>2857</td>\n      <td>1697</td>\n      <td>12318</td>\n    </tr>\n    <tr>\n      <th>13</th>\n      <td>NaN</td>\n      <td>00-58-2258-60-7</td>\n      <td>314</td>\n      <td>346</td>\n      <td>346</td>\n      <td>1207</td>\n      <td>950</td>\n      <td>424</td>\n      <td>3587</td>\n    </tr>\n    <tr>\n      <th>14</th>\n      <td>NaN</td>\n      <td>00-58-2258-70-9</td>\n      <td>512</td>\n      <td>572</td>\n      <td>572</td>\n      <td>4246</td>\n      <td>3645</td>\n      <td>852</td>\n      <td>10399</td>\n    </tr>\n    <tr>\n      <th>15</th>\n      <td>NaN</td>\n      <td>00-58-2368-00-7</td>\n      <td>124</td>\n      <td>120</td>\n      <td>120</td>\n      <td>120</td>\n      <td>120</td>\n      <td>120</td>\n      <td>724</td>\n    </tr>\n    <tr>\n      <th>16</th>\n      <td>NaN</td>\n      <td>00-58-2368-02-9</td>\n      <td>40</td>\n      <td>40</td>\n      <td>40</td>\n      <td>40</td>\n      <td>40</td>\n      <td>40</td>\n      <td>240</td>\n    </tr>\n    <tr>\n      <th>17</th>\n      <td>NaN</td>\n      <td>00-58-2368-20-1</td>\n      <td>476</td>\n      <td>450</td>\n      <td>520</td>\n      <td>920</td>\n      <td>1166</td>\n      <td>609</td>\n      <td>4141</td>\n    </tr>\n    <tr>\n      <th>18</th>\n      <td>NaN</td>\n      <td>00-58-2368-30-3</td>\n      <td>441</td>\n      <td>224</td>\n      <td>245</td>\n      <td>327</td>\n      <td>371</td>\n      <td>284</td>\n      <td>1892</td>\n    </tr>\n    <tr>\n      <th>19</th>\n      <td>NaN</td>\n      <td>00-58-2368-40-5</td>\n      <td>1657</td>\n      <td>1862</td>\n      <td>2325</td>\n      <td>2834</td>\n      <td>2725</td>\n      <td>2184</td>\n      <td>13587</td>\n    </tr>\n    <tr>\n      <th>20</th>\n      <td>NaN</td>\n      <td>00-58-2368-50-8</td>\n      <td>40</td>\n      <td>40</td>\n      <td>40</td>\n      <td>40</td>\n      <td>43</td>\n      <td>40</td>\n      <td>243</td>\n    </tr>\n    <tr>\n      <th>21</th>\n      <td>NaN</td>\n      <td>NaN</td>\n      <td>11101-11102</td>\n      <td>11103-11104</td>\n      <td>11105-11106</td>\n      <td>11107-11108</td>\n      <td>11109-11110</td>\n      <td>11111-11112</td>\n      <td>NaN</td>\n    </tr>\n    <tr>\n      <th>22</th>\n      <td>NaN</td>\n      <td>10-39-3594-13-6</td>\n      <td>3840</td>\n      <td>3520</td>\n      <td>3440</td>\n      <td>4800</td>\n      <td>5880</td>\n      <td>4840</td>\n      <td>26320</td>\n    </tr>\n    <tr>\n      <th>23</th>\n      <td>NaN</td>\n      <td>NaN</td>\n      <td>11102-11103</td>\n      <td>11104-11105</td>\n      <td>11106-11107</td>\n      <td>111108-11109</td>\n      <td>11110-11111</td>\n      <td>11112-11201</td>\n      <td>NaN</td>\n    </tr>\n    <tr>\n      <th>24</th>\n      <td>NaN</td>\n      <td>05-30-4320-11-9</td>\n      <td>2880</td>\n      <td>2560</td>\n      <td>2920</td>\n      <td>4560</td>\n      <td>3800</td>\n      <td>2600</td>\n      <td>19320</td>\n    </tr>\n    <tr>\n      <th>25</th>\n      <td>NaN</td>\n      <td>05-30-6098-12-5</td>\n      <td>2457</td>\n      <td>2121</td>\n      <td>2268</td>\n      <td>2756</td>\n      <td>2189</td>\n      <td>1901</td>\n      <td>13692</td>\n    </tr>\n    <tr>\n      <th>26</th>\n      <td>NaN</td>\n      <td>05-30-4340-11-3</td>\n      <td>3200</td>\n      <td>3200</td>\n      <td>4720</td>\n      <td>6160</td>\n      <td>4880</td>\n      <td>3760</td>\n      <td>25920</td>\n    </tr>\n    <tr>\n      <th>27</th>\n      <td>NaN</td>\n      <td>05-30-4643-00-6</td>\n      <td>920</td>\n      <td>1880</td>\n      <td>3880</td>\n      <td>3800</td>\n      <td>3320</td>\n      <td>3000</td>\n      <td>16800</td>\n    </tr>\n    <tr>\n      <th>28</th>\n      <td>NaN</td>\n      <td>NaN</td>\n      <td>11104</td>\n      <td>11105</td>\n      <td>11106-11107</td>\n      <td>11108-11109</td>\n      <td>11110-11111</td>\n      <td>11112-11201</td>\n      <td>NaN</td>\n    </tr>\n    <tr>\n      <th>29</th>\n      <td>NaN</td>\n      <td>05-30-4643-10-8</td>\n      <td>400</td>\n      <td>920</td>\n      <td>2400</td>\n      <td>2560</td>\n      <td>2320</td>\n      <td>2760</td>\n      <td>11360</td>\n    </tr>\n    <tr>\n      <th>30</th>\n      <td>NaN</td>\n      <td>05-30-4643-20-0</td>\n      <td>240</td>\n      <td>200</td>\n      <td>360</td>\n      <td>360</td>\n      <td>480</td>\n      <td>880</td>\n      <td>2520</td>\n    </tr>\n    <tr>\n      <th>31</th>\n      <td>NaN</td>\n      <td>NaN</td>\n      <td>11108</td>\n      <td>11109</td>\n      <td>11110</td>\n      <td>11111</td>\n      <td>11112</td>\n      <td>11201</td>\n      <td>NaN</td>\n    </tr>\n    <tr>\n      <th>32</th>\n      <td>NaN</td>\n      <td>05-30-4646-11-2</td>\n      <td>137760</td>\n      <td>137840</td>\n      <td>127520</td>\n      <td>111200</td>\n      <td>115120</td>\n      <td>91440</td>\n      <td>720880</td>\n    </tr>\n    <tr>\n      <th>33</th>\n      <td>NaN</td>\n      <td>05-30-6200-11-9</td>\n      <td>106100</td>\n      <td>131100</td>\n      <td>117500</td>\n      <td>97500</td>\n      <td>94200</td>\n      <td>83500</td>\n      <td>629900</td>\n    </tr>\n    <tr>\n      <th>34</th>\n      <td>NaN</td>\n      <td>NaN</td>\n      <td>NaN</td>\n      <td>NaN</td>\n      <td>NaN</td>\n      <td>NaN</td>\n      <td>NaN</td>\n      <td>NaN</td>\n      <td>NaN</td>\n    </tr>\n    <tr>\n      <th>35</th>\n      <td>NaN</td>\n      <td>總 計</td>\n      <td>NaN</td>\n      <td>NaN</td>\n      <td>NaN</td>\n      <td>NaN</td>\n      <td>NaN</td>\n      <td>NaN</td>\n      <td>1937832</td>\n    </tr>\n  </tbody>\n</table>\n</div>"
     },
     "execution_count": 12,
     "metadata": {},
     "output_type": "execute_result"
    }
   ],
   "source": [
    "df = get_df_by_excel('./cpc_data/各電號用電資訊-6期.xlsx', sheet_id=0)\n",
    "df"
   ],
   "metadata": {
    "collapsed": false,
    "pycharm": {
     "name": "#%%\n"
    }
   }
  },
  {
   "cell_type": "code",
   "execution_count": null,
   "outputs": [],
   "source": [],
   "metadata": {
    "collapsed": false,
    "pycharm": {
     "name": "#%%\n"
    }
   }
  }
 ],
 "metadata": {
  "kernelspec": {
   "display_name": "Python 3",
   "language": "python",
   "name": "python3"
  },
  "language_info": {
   "codemirror_mode": {
    "name": "ipython",
    "version": 2
   },
   "file_extension": ".py",
   "mimetype": "text/x-python",
   "name": "python",
   "nbconvert_exporter": "python",
   "pygments_lexer": "ipython2",
   "version": "2.7.6"
  }
 },
 "nbformat": 4,
 "nbformat_minor": 0
}