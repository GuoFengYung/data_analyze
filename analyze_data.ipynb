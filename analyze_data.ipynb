{
 "cells": [
  {
   "cell_type": "code",
   "execution_count": 45,
   "outputs": [],
   "source": [
    "import pandas as pd"
   ],
   "metadata": {
    "collapsed": false,
    "pycharm": {
     "name": "#%%\n"
    }
   }
  },
  {
   "cell_type": "code",
   "execution_count": 46,
   "outputs": [],
   "source": [
    "df_con = pd.read_csv('power_consumption.csv', engine='c')\n",
    "df_con = df_con.copy()"
   ],
   "metadata": {
    "collapsed": false,
    "pycharm": {
     "name": "#%%\n"
    }
   }
  },
  {
   "cell_type": "code",
   "execution_count": 47,
   "outputs": [
    {
     "data": {
      "text/plain": "Index(['00-00-0000-00-1', '00-00-0001-00-1', '00-00-0002-00-1',\n       '00-00-0003-00-1', '00-00-0004-00-1', '00-00-0005-00-1',\n       '00-00-0006-00-1', '00-00-0007-00-1', '00-00-0008-00-1',\n       '00-00-0009-00-1',\n       ...\n       '00-00-9990-00-1', '00-00-9991-00-1', '00-00-9992-00-1',\n       '00-00-9993-00-1', '00-00-9994-00-1', '00-00-9995-00-1',\n       '00-00-9996-00-1', '00-00-9997-00-1', '00-00-9998-00-1',\n       '00-00-9999-00-1'],\n      dtype='object', length=10000)"
     },
     "execution_count": 47,
     "metadata": {},
     "output_type": "execute_result"
    }
   ],
   "source": [
    "df_con = df_con.drop('時間',axis=1)\n",
    "df_con.columns"
   ],
   "metadata": {
    "collapsed": false,
    "pycharm": {
     "name": "#%%\n"
    }
   }
  },
  {
   "cell_type": "code",
   "execution_count": 48,
   "outputs": [
    {
     "data": {
      "text/plain": "         0          1          2          3          4          5     \\\n0   84.006209  36.836970   4.313419  36.262644  93.179257  34.637472   \n1   37.357790  26.085800  49.969431  42.694415  49.338742  73.096786   \n2   71.000563  57.855418  25.032399  74.592179  83.870260  71.904130   \n3   55.274535  10.741022  82.514817  54.565616  54.066852  93.808443   \n4   14.695273  67.134889  23.830457  33.049510   1.434028  59.376355   \n5    6.088421  92.492348   0.682221  61.231567  67.393463  98.183954   \n6    2.498645  31.362013  90.948682  81.021276  73.729667  66.563637   \n7   78.738652  18.575971   5.099081  42.777810  28.498767  92.203881   \n8   39.975253  10.841622  88.957004  35.672055  97.360402  76.011025   \n9   76.808481  85.734536  29.388452  26.573023  22.404155  29.827568   \n10  96.184140  48.923214  63.431155  45.926763  41.896896  16.617348   \n11  87.074359  97.696884  40.564481  24.439003  61.080930  57.086401   \n12  12.615837  26.371912  76.878163  57.173084  97.620560   6.017102   \n13  13.218352  49.474568  72.750207  73.593276  53.349841  99.384610   \n14  58.337971  45.934601  74.585039  44.678705  83.632444   2.558843   \n15   1.537659  95.355682  54.273877  90.244166  81.628661  89.168316   \n16  29.340232  47.135042  52.855738  99.108079  15.523226  19.118181   \n17  66.438993  82.005309  32.257145  85.551981  37.281202  52.352430   \n18  71.184156  41.323211  21.392205  98.350222  51.722646  46.306968   \n19  43.956024  40.622360  77.952546  21.568815  78.622407  21.033780   \n\n         6          7          8          9     ...       9990       9991  \\\n0   34.419016   1.842647  26.667866  44.894205  ...  14.109362  45.302474   \n1   33.188174  43.334570  32.869091  43.065335  ...  57.461485  21.097531   \n2   50.618810  71.332177  59.344703  23.798482  ...  10.705663  50.008471   \n3   55.418615  41.312057  51.831882  42.972901  ...  51.751901  70.778120   \n4   27.522785  14.870275  72.743736  57.166531  ...   7.629832  58.379269   \n5   51.263835  20.865380  86.593067  69.120701  ...  13.769109  88.405702   \n6   41.481659  61.151220  86.257100  54.051148  ...  52.327217  16.563329   \n7   60.882107  23.421936  18.644395  58.018061  ...  70.184441  29.668652   \n8   29.984186  23.444411  35.657446  92.636417  ...  54.167922  78.528944   \n9   47.849263  24.623687  12.738658  20.520688  ...  23.960459  67.840816   \n10  93.975318  18.693733   4.164722  45.202395  ...   3.702516  97.432990   \n11  62.064185   4.051966  67.236063   7.500744  ...  62.607643  25.982671   \n12  80.113438   8.717869  44.792976   7.768909  ...  22.927274  76.904965   \n13   2.469831  55.161896  26.637087  91.631296  ...  51.414462  45.617925   \n14  83.068628  59.942256  83.313189  53.989068  ...  98.809001  31.309289   \n15  84.070342  27.035725  43.263695  22.787017  ...  89.800751  87.280956   \n16  83.399238  86.618229  64.203659  39.283765  ...  38.869683  73.630812   \n17  86.986800  93.924148  69.236744  14.279714  ...   5.851928  96.561856   \n18  19.238989  49.593771   1.185039  92.222135  ...  23.551190  82.709285   \n19  20.586700  33.886462  86.037193   3.931407  ...  50.940773  55.772699   \n\n         9992       9993       9994       9995       9996       9997  \\\n0   84.622851  96.232903  37.048107  12.813543  43.958464  75.881392   \n1   90.411021  88.214197  89.915777  78.180022  14.962762  30.247693   \n2   69.234007  82.378249  43.316705  85.581042  44.553635  23.884918   \n3   23.661698  77.482735  94.676838  85.478310  81.221954  91.238718   \n4   77.103244  10.245343  62.089004  96.855858  19.087610  70.590345   \n5   93.827179  79.935257  79.086642  20.742203  55.473900  42.083850   \n6   26.188077  83.761855  87.507126  48.720388  57.155208  48.493916   \n7   53.828612  31.758185  29.405163  73.047646  70.490659  30.256293   \n8   89.182566  39.274590  41.279359   2.997014  41.115363  16.044176   \n9   96.028175  33.320288  45.472860  72.695283  28.775252  45.669412   \n10  42.636913   6.798796  89.669991  61.139228  37.315205  64.245142   \n11  70.638914   7.865052  83.430073  73.347203  89.152423  35.467901   \n12  28.437027  78.346215   4.429197  67.917504  89.240048  55.701058   \n13  19.925868  74.390384  33.083654  48.794215  69.675567  81.742165   \n14  36.478408  33.929783  19.355301  52.873886  74.932533  28.306722   \n15  82.603266  37.641384  23.161376  66.442056  78.580756  42.223351   \n16  62.636014  15.440109  77.558659  41.857078  58.036842  24.040865   \n17  28.900722  99.334426  69.092838  26.104180  89.301490  83.514471   \n18   5.357184  42.888798  17.032418  82.135984  17.847621  35.910775   \n19  93.927751  84.623569  77.992018  95.929453  58.500520  69.986499   \n\n         9998       9999  \n0    1.588985   5.895839  \n1   64.960194  64.348010  \n2   55.156874  97.600832  \n3   53.420148  48.684366  \n4   59.578297  66.893805  \n5   39.980289  40.877743  \n6   98.042866  55.188448  \n7   56.860451  36.584608  \n8   97.534891  14.655316  \n9   51.334764  47.906750  \n10  23.903987  83.914607  \n11  97.748791  97.928065  \n12  90.977603  71.254488  \n13  45.790174   4.647566  \n14  32.438227  60.128910  \n15  28.662573  72.455342  \n16  12.023310  51.738383  \n17  26.504214  97.611596  \n18  74.350457   0.167587  \n19  85.563189   4.904599  \n\n[20 rows x 10000 columns]",
      "text/html": "<div>\n<style scoped>\n    .dataframe tbody tr th:only-of-type {\n        vertical-align: middle;\n    }\n\n    .dataframe tbody tr th {\n        vertical-align: top;\n    }\n\n    .dataframe thead th {\n        text-align: right;\n    }\n</style>\n<table border=\"1\" class=\"dataframe\">\n  <thead>\n    <tr style=\"text-align: right;\">\n      <th></th>\n      <th>0</th>\n      <th>1</th>\n      <th>2</th>\n      <th>3</th>\n      <th>4</th>\n      <th>5</th>\n      <th>6</th>\n      <th>7</th>\n      <th>8</th>\n      <th>9</th>\n      <th>...</th>\n      <th>9990</th>\n      <th>9991</th>\n      <th>9992</th>\n      <th>9993</th>\n      <th>9994</th>\n      <th>9995</th>\n      <th>9996</th>\n      <th>9997</th>\n      <th>9998</th>\n      <th>9999</th>\n    </tr>\n  </thead>\n  <tbody>\n    <tr>\n      <th>0</th>\n      <td>84.006209</td>\n      <td>36.836970</td>\n      <td>4.313419</td>\n      <td>36.262644</td>\n      <td>93.179257</td>\n      <td>34.637472</td>\n      <td>34.419016</td>\n      <td>1.842647</td>\n      <td>26.667866</td>\n      <td>44.894205</td>\n      <td>...</td>\n      <td>14.109362</td>\n      <td>45.302474</td>\n      <td>84.622851</td>\n      <td>96.232903</td>\n      <td>37.048107</td>\n      <td>12.813543</td>\n      <td>43.958464</td>\n      <td>75.881392</td>\n      <td>1.588985</td>\n      <td>5.895839</td>\n    </tr>\n    <tr>\n      <th>1</th>\n      <td>37.357790</td>\n      <td>26.085800</td>\n      <td>49.969431</td>\n      <td>42.694415</td>\n      <td>49.338742</td>\n      <td>73.096786</td>\n      <td>33.188174</td>\n      <td>43.334570</td>\n      <td>32.869091</td>\n      <td>43.065335</td>\n      <td>...</td>\n      <td>57.461485</td>\n      <td>21.097531</td>\n      <td>90.411021</td>\n      <td>88.214197</td>\n      <td>89.915777</td>\n      <td>78.180022</td>\n      <td>14.962762</td>\n      <td>30.247693</td>\n      <td>64.960194</td>\n      <td>64.348010</td>\n    </tr>\n    <tr>\n      <th>2</th>\n      <td>71.000563</td>\n      <td>57.855418</td>\n      <td>25.032399</td>\n      <td>74.592179</td>\n      <td>83.870260</td>\n      <td>71.904130</td>\n      <td>50.618810</td>\n      <td>71.332177</td>\n      <td>59.344703</td>\n      <td>23.798482</td>\n      <td>...</td>\n      <td>10.705663</td>\n      <td>50.008471</td>\n      <td>69.234007</td>\n      <td>82.378249</td>\n      <td>43.316705</td>\n      <td>85.581042</td>\n      <td>44.553635</td>\n      <td>23.884918</td>\n      <td>55.156874</td>\n      <td>97.600832</td>\n    </tr>\n    <tr>\n      <th>3</th>\n      <td>55.274535</td>\n      <td>10.741022</td>\n      <td>82.514817</td>\n      <td>54.565616</td>\n      <td>54.066852</td>\n      <td>93.808443</td>\n      <td>55.418615</td>\n      <td>41.312057</td>\n      <td>51.831882</td>\n      <td>42.972901</td>\n      <td>...</td>\n      <td>51.751901</td>\n      <td>70.778120</td>\n      <td>23.661698</td>\n      <td>77.482735</td>\n      <td>94.676838</td>\n      <td>85.478310</td>\n      <td>81.221954</td>\n      <td>91.238718</td>\n      <td>53.420148</td>\n      <td>48.684366</td>\n    </tr>\n    <tr>\n      <th>4</th>\n      <td>14.695273</td>\n      <td>67.134889</td>\n      <td>23.830457</td>\n      <td>33.049510</td>\n      <td>1.434028</td>\n      <td>59.376355</td>\n      <td>27.522785</td>\n      <td>14.870275</td>\n      <td>72.743736</td>\n      <td>57.166531</td>\n      <td>...</td>\n      <td>7.629832</td>\n      <td>58.379269</td>\n      <td>77.103244</td>\n      <td>10.245343</td>\n      <td>62.089004</td>\n      <td>96.855858</td>\n      <td>19.087610</td>\n      <td>70.590345</td>\n      <td>59.578297</td>\n      <td>66.893805</td>\n    </tr>\n    <tr>\n      <th>5</th>\n      <td>6.088421</td>\n      <td>92.492348</td>\n      <td>0.682221</td>\n      <td>61.231567</td>\n      <td>67.393463</td>\n      <td>98.183954</td>\n      <td>51.263835</td>\n      <td>20.865380</td>\n      <td>86.593067</td>\n      <td>69.120701</td>\n      <td>...</td>\n      <td>13.769109</td>\n      <td>88.405702</td>\n      <td>93.827179</td>\n      <td>79.935257</td>\n      <td>79.086642</td>\n      <td>20.742203</td>\n      <td>55.473900</td>\n      <td>42.083850</td>\n      <td>39.980289</td>\n      <td>40.877743</td>\n    </tr>\n    <tr>\n      <th>6</th>\n      <td>2.498645</td>\n      <td>31.362013</td>\n      <td>90.948682</td>\n      <td>81.021276</td>\n      <td>73.729667</td>\n      <td>66.563637</td>\n      <td>41.481659</td>\n      <td>61.151220</td>\n      <td>86.257100</td>\n      <td>54.051148</td>\n      <td>...</td>\n      <td>52.327217</td>\n      <td>16.563329</td>\n      <td>26.188077</td>\n      <td>83.761855</td>\n      <td>87.507126</td>\n      <td>48.720388</td>\n      <td>57.155208</td>\n      <td>48.493916</td>\n      <td>98.042866</td>\n      <td>55.188448</td>\n    </tr>\n    <tr>\n      <th>7</th>\n      <td>78.738652</td>\n      <td>18.575971</td>\n      <td>5.099081</td>\n      <td>42.777810</td>\n      <td>28.498767</td>\n      <td>92.203881</td>\n      <td>60.882107</td>\n      <td>23.421936</td>\n      <td>18.644395</td>\n      <td>58.018061</td>\n      <td>...</td>\n      <td>70.184441</td>\n      <td>29.668652</td>\n      <td>53.828612</td>\n      <td>31.758185</td>\n      <td>29.405163</td>\n      <td>73.047646</td>\n      <td>70.490659</td>\n      <td>30.256293</td>\n      <td>56.860451</td>\n      <td>36.584608</td>\n    </tr>\n    <tr>\n      <th>8</th>\n      <td>39.975253</td>\n      <td>10.841622</td>\n      <td>88.957004</td>\n      <td>35.672055</td>\n      <td>97.360402</td>\n      <td>76.011025</td>\n      <td>29.984186</td>\n      <td>23.444411</td>\n      <td>35.657446</td>\n      <td>92.636417</td>\n      <td>...</td>\n      <td>54.167922</td>\n      <td>78.528944</td>\n      <td>89.182566</td>\n      <td>39.274590</td>\n      <td>41.279359</td>\n      <td>2.997014</td>\n      <td>41.115363</td>\n      <td>16.044176</td>\n      <td>97.534891</td>\n      <td>14.655316</td>\n    </tr>\n    <tr>\n      <th>9</th>\n      <td>76.808481</td>\n      <td>85.734536</td>\n      <td>29.388452</td>\n      <td>26.573023</td>\n      <td>22.404155</td>\n      <td>29.827568</td>\n      <td>47.849263</td>\n      <td>24.623687</td>\n      <td>12.738658</td>\n      <td>20.520688</td>\n      <td>...</td>\n      <td>23.960459</td>\n      <td>67.840816</td>\n      <td>96.028175</td>\n      <td>33.320288</td>\n      <td>45.472860</td>\n      <td>72.695283</td>\n      <td>28.775252</td>\n      <td>45.669412</td>\n      <td>51.334764</td>\n      <td>47.906750</td>\n    </tr>\n    <tr>\n      <th>10</th>\n      <td>96.184140</td>\n      <td>48.923214</td>\n      <td>63.431155</td>\n      <td>45.926763</td>\n      <td>41.896896</td>\n      <td>16.617348</td>\n      <td>93.975318</td>\n      <td>18.693733</td>\n      <td>4.164722</td>\n      <td>45.202395</td>\n      <td>...</td>\n      <td>3.702516</td>\n      <td>97.432990</td>\n      <td>42.636913</td>\n      <td>6.798796</td>\n      <td>89.669991</td>\n      <td>61.139228</td>\n      <td>37.315205</td>\n      <td>64.245142</td>\n      <td>23.903987</td>\n      <td>83.914607</td>\n    </tr>\n    <tr>\n      <th>11</th>\n      <td>87.074359</td>\n      <td>97.696884</td>\n      <td>40.564481</td>\n      <td>24.439003</td>\n      <td>61.080930</td>\n      <td>57.086401</td>\n      <td>62.064185</td>\n      <td>4.051966</td>\n      <td>67.236063</td>\n      <td>7.500744</td>\n      <td>...</td>\n      <td>62.607643</td>\n      <td>25.982671</td>\n      <td>70.638914</td>\n      <td>7.865052</td>\n      <td>83.430073</td>\n      <td>73.347203</td>\n      <td>89.152423</td>\n      <td>35.467901</td>\n      <td>97.748791</td>\n      <td>97.928065</td>\n    </tr>\n    <tr>\n      <th>12</th>\n      <td>12.615837</td>\n      <td>26.371912</td>\n      <td>76.878163</td>\n      <td>57.173084</td>\n      <td>97.620560</td>\n      <td>6.017102</td>\n      <td>80.113438</td>\n      <td>8.717869</td>\n      <td>44.792976</td>\n      <td>7.768909</td>\n      <td>...</td>\n      <td>22.927274</td>\n      <td>76.904965</td>\n      <td>28.437027</td>\n      <td>78.346215</td>\n      <td>4.429197</td>\n      <td>67.917504</td>\n      <td>89.240048</td>\n      <td>55.701058</td>\n      <td>90.977603</td>\n      <td>71.254488</td>\n    </tr>\n    <tr>\n      <th>13</th>\n      <td>13.218352</td>\n      <td>49.474568</td>\n      <td>72.750207</td>\n      <td>73.593276</td>\n      <td>53.349841</td>\n      <td>99.384610</td>\n      <td>2.469831</td>\n      <td>55.161896</td>\n      <td>26.637087</td>\n      <td>91.631296</td>\n      <td>...</td>\n      <td>51.414462</td>\n      <td>45.617925</td>\n      <td>19.925868</td>\n      <td>74.390384</td>\n      <td>33.083654</td>\n      <td>48.794215</td>\n      <td>69.675567</td>\n      <td>81.742165</td>\n      <td>45.790174</td>\n      <td>4.647566</td>\n    </tr>\n    <tr>\n      <th>14</th>\n      <td>58.337971</td>\n      <td>45.934601</td>\n      <td>74.585039</td>\n      <td>44.678705</td>\n      <td>83.632444</td>\n      <td>2.558843</td>\n      <td>83.068628</td>\n      <td>59.942256</td>\n      <td>83.313189</td>\n      <td>53.989068</td>\n      <td>...</td>\n      <td>98.809001</td>\n      <td>31.309289</td>\n      <td>36.478408</td>\n      <td>33.929783</td>\n      <td>19.355301</td>\n      <td>52.873886</td>\n      <td>74.932533</td>\n      <td>28.306722</td>\n      <td>32.438227</td>\n      <td>60.128910</td>\n    </tr>\n    <tr>\n      <th>15</th>\n      <td>1.537659</td>\n      <td>95.355682</td>\n      <td>54.273877</td>\n      <td>90.244166</td>\n      <td>81.628661</td>\n      <td>89.168316</td>\n      <td>84.070342</td>\n      <td>27.035725</td>\n      <td>43.263695</td>\n      <td>22.787017</td>\n      <td>...</td>\n      <td>89.800751</td>\n      <td>87.280956</td>\n      <td>82.603266</td>\n      <td>37.641384</td>\n      <td>23.161376</td>\n      <td>66.442056</td>\n      <td>78.580756</td>\n      <td>42.223351</td>\n      <td>28.662573</td>\n      <td>72.455342</td>\n    </tr>\n    <tr>\n      <th>16</th>\n      <td>29.340232</td>\n      <td>47.135042</td>\n      <td>52.855738</td>\n      <td>99.108079</td>\n      <td>15.523226</td>\n      <td>19.118181</td>\n      <td>83.399238</td>\n      <td>86.618229</td>\n      <td>64.203659</td>\n      <td>39.283765</td>\n      <td>...</td>\n      <td>38.869683</td>\n      <td>73.630812</td>\n      <td>62.636014</td>\n      <td>15.440109</td>\n      <td>77.558659</td>\n      <td>41.857078</td>\n      <td>58.036842</td>\n      <td>24.040865</td>\n      <td>12.023310</td>\n      <td>51.738383</td>\n    </tr>\n    <tr>\n      <th>17</th>\n      <td>66.438993</td>\n      <td>82.005309</td>\n      <td>32.257145</td>\n      <td>85.551981</td>\n      <td>37.281202</td>\n      <td>52.352430</td>\n      <td>86.986800</td>\n      <td>93.924148</td>\n      <td>69.236744</td>\n      <td>14.279714</td>\n      <td>...</td>\n      <td>5.851928</td>\n      <td>96.561856</td>\n      <td>28.900722</td>\n      <td>99.334426</td>\n      <td>69.092838</td>\n      <td>26.104180</td>\n      <td>89.301490</td>\n      <td>83.514471</td>\n      <td>26.504214</td>\n      <td>97.611596</td>\n    </tr>\n    <tr>\n      <th>18</th>\n      <td>71.184156</td>\n      <td>41.323211</td>\n      <td>21.392205</td>\n      <td>98.350222</td>\n      <td>51.722646</td>\n      <td>46.306968</td>\n      <td>19.238989</td>\n      <td>49.593771</td>\n      <td>1.185039</td>\n      <td>92.222135</td>\n      <td>...</td>\n      <td>23.551190</td>\n      <td>82.709285</td>\n      <td>5.357184</td>\n      <td>42.888798</td>\n      <td>17.032418</td>\n      <td>82.135984</td>\n      <td>17.847621</td>\n      <td>35.910775</td>\n      <td>74.350457</td>\n      <td>0.167587</td>\n    </tr>\n    <tr>\n      <th>19</th>\n      <td>43.956024</td>\n      <td>40.622360</td>\n      <td>77.952546</td>\n      <td>21.568815</td>\n      <td>78.622407</td>\n      <td>21.033780</td>\n      <td>20.586700</td>\n      <td>33.886462</td>\n      <td>86.037193</td>\n      <td>3.931407</td>\n      <td>...</td>\n      <td>50.940773</td>\n      <td>55.772699</td>\n      <td>93.927751</td>\n      <td>84.623569</td>\n      <td>77.992018</td>\n      <td>95.929453</td>\n      <td>58.500520</td>\n      <td>69.986499</td>\n      <td>85.563189</td>\n      <td>4.904599</td>\n    </tr>\n  </tbody>\n</table>\n<p>20 rows × 10000 columns</p>\n</div>"
     },
     "execution_count": 48,
     "metadata": {},
     "output_type": "execute_result"
    }
   ],
   "source": [
    "df_con = df_con[:].values * 100\n",
    "df = pd.DataFrame(df_con)\n",
    "df"
   ],
   "metadata": {
    "collapsed": false,
    "pycharm": {
     "name": "#%%\n"
    }
   }
  },
  {
   "cell_type": "code",
   "execution_count": 6,
   "outputs": [],
   "source": [
    "from datetime import datetime, timedelta"
   ],
   "metadata": {
    "collapsed": false,
    "pycharm": {
     "name": "#%%\n"
    }
   }
  },
  {
   "cell_type": "code",
   "execution_count": 10,
   "outputs": [
    {
     "name": "stdout",
     "output_type": "stream",
     "text": [
      "3:34:14\n",
      "Elapsed time: 21:25:24\n"
     ]
    }
   ],
   "source": [
    "datetime_str  = '22-12-30 22:14:41'\n",
    "datetime_str1 = '22-12-30 23:58:54'\n",
    "datetime_object = datetime.strptime(datetime_str, '%y-%m-%d %H:%M:%S')\n",
    "datetime_object1 = datetime.strptime(datetime_str1, '%y-%m-%d %H:%M:%S')\n",
    "Elapsed = datetime_object1 - datetime_object\n",
    "print(Elapsed)\n",
    "print(f\"Elapsed time: {Elapsed * 6}\")\n",
    "def elapsed_time(start: str, end: str):\n",
    "    datetime_start = datetime.strftime(start, '%y-%m-%d %H:%M:%S')\n",
    "    datetime_end = datetime.strftime(end, '%y-%m-%d %H:%M:%S')\n",
    "    # elapsed_time = datetime_end - datetime_start\n",
    "    # return f\"Elapsed time: {round(elapsed_time.seconds / 60, 2)} min\""
   ],
   "metadata": {
    "collapsed": false,
    "pycharm": {
     "name": "#%%\n"
    }
   }
  },
  {
   "cell_type": "code",
   "execution_count": 85,
   "outputs": [
    {
     "ename": "TypeError",
     "evalue": "descriptor 'strftime' requires a 'datetime.date' object but received a 'str'",
     "output_type": "error",
     "traceback": [
      "\u001B[1;31m---------------------------------------------------------------------------\u001B[0m",
      "\u001B[1;31mTypeError\u001B[0m                                 Traceback (most recent call last)",
      "\u001B[1;32m~\\AppData\\Local\\Temp\\ipykernel_14156\\3706182924.py\u001B[0m in \u001B[0;36m<module>\u001B[1;34m\u001B[0m\n\u001B[1;32m----> 1\u001B[1;33m \u001B[0melapsed_time\u001B[0m\u001B[1;33m(\u001B[0m\u001B[0mdatetime_str\u001B[0m\u001B[1;33m,\u001B[0m \u001B[0mdatetime_str1\u001B[0m\u001B[1;33m)\u001B[0m\u001B[1;33m\u001B[0m\u001B[1;33m\u001B[0m\u001B[0m\n\u001B[0m",
      "\u001B[1;32m~\\AppData\\Local\\Temp\\ipykernel_14156\\555442104.py\u001B[0m in \u001B[0;36melapsed_time\u001B[1;34m(start, end)\u001B[0m\n\u001B[0;32m      6\u001B[0m \u001B[0mprint\u001B[0m\u001B[1;33m(\u001B[0m\u001B[1;34mf\"Elapsed time: {round(Elapsed.seconds / 60, 2)} min\"\u001B[0m\u001B[1;33m)\u001B[0m\u001B[1;33m\u001B[0m\u001B[1;33m\u001B[0m\u001B[0m\n\u001B[0;32m      7\u001B[0m \u001B[1;32mdef\u001B[0m \u001B[0melapsed_time\u001B[0m\u001B[1;33m(\u001B[0m\u001B[0mstart\u001B[0m\u001B[1;33m:\u001B[0m \u001B[0mstr\u001B[0m\u001B[1;33m,\u001B[0m \u001B[0mend\u001B[0m\u001B[1;33m:\u001B[0m \u001B[0mstr\u001B[0m\u001B[1;33m)\u001B[0m\u001B[1;33m:\u001B[0m\u001B[1;33m\u001B[0m\u001B[1;33m\u001B[0m\u001B[0m\n\u001B[1;32m----> 8\u001B[1;33m     \u001B[0mdatetime_start\u001B[0m \u001B[1;33m=\u001B[0m \u001B[0mdatetime\u001B[0m\u001B[1;33m.\u001B[0m\u001B[0mstrftime\u001B[0m\u001B[1;33m(\u001B[0m\u001B[0mstart\u001B[0m\u001B[1;33m,\u001B[0m \u001B[1;34m'%y-%m-%d %H:%M:%S'\u001B[0m\u001B[1;33m)\u001B[0m\u001B[1;33m\u001B[0m\u001B[1;33m\u001B[0m\u001B[0m\n\u001B[0m\u001B[0;32m      9\u001B[0m     \u001B[0mdatetime_end\u001B[0m \u001B[1;33m=\u001B[0m \u001B[0mdatetime\u001B[0m\u001B[1;33m.\u001B[0m\u001B[0mstrftime\u001B[0m\u001B[1;33m(\u001B[0m\u001B[0mend\u001B[0m\u001B[1;33m,\u001B[0m \u001B[1;34m'%y-%m-%d %H:%M:%S'\u001B[0m\u001B[1;33m)\u001B[0m\u001B[1;33m\u001B[0m\u001B[1;33m\u001B[0m\u001B[0m\n\u001B[0;32m     10\u001B[0m     \u001B[1;31m# elapsed_time = datetime_end - datetime_start\u001B[0m\u001B[1;33m\u001B[0m\u001B[1;33m\u001B[0m\u001B[1;33m\u001B[0m\u001B[0m\n",
      "\u001B[1;31mTypeError\u001B[0m: descriptor 'strftime' requires a 'datetime.date' object but received a 'str'"
     ]
    }
   ],
   "source": [
    "elapsed_time(datetime_str, datetime_str1)"
   ],
   "metadata": {
    "collapsed": false,
    "pycharm": {
     "name": "#%%\n"
    }
   }
  },
  {
   "cell_type": "code",
   "execution_count": 90,
   "outputs": [
    {
     "name": "stdout",
     "output_type": "stream",
     "text": [
      "1040.01305\n"
     ]
    }
   ],
   "source": [
    "print(62400.783/60)"
   ],
   "metadata": {
    "collapsed": false,
    "pycharm": {
     "name": "#%%\n"
    }
   }
  },
  {
   "cell_type": "code",
   "execution_count": 107,
   "outputs": [
    {
     "data": {
      "text/plain": "82.11000000000001"
     },
     "execution_count": 107,
     "metadata": {},
     "output_type": "execute_result"
    }
   ],
   "source": [
    "s = 6:16:37 分群(0:04:07) max_flow(0:13:31) profit(0:47:57)\n",
    "s"
   ],
   "metadata": {
    "collapsed": false,
    "pycharm": {
     "name": "#%%\n"
    }
   }
  },
  {
   "cell_type": "code",
   "execution_count": 105,
   "outputs": [
    {
     "data": {
      "text/plain": "13.31611111111111"
     },
     "execution_count": 105,
     "metadata": {},
     "output_type": "execute_result"
    }
   ],
   "source": [
    "s = 47938 / 60 / 60\n",
    "s"
   ],
   "metadata": {
    "collapsed": false,
    "pycharm": {
     "name": "#%%\n"
    }
   }
  },
  {
   "cell_type": "code",
   "execution_count": 127,
   "outputs": [
    {
     "data": {
      "text/plain": "712.58"
     },
     "execution_count": 127,
     "metadata": {},
     "output_type": "execute_result"
    }
   ],
   "source": [
    "t = 119 + 119 + 120.9 + 118.55 + 118.65 + 116.48\n",
    "t"
   ],
   "metadata": {
    "collapsed": false,
    "pycharm": {
     "name": "#%%\n"
    }
   }
  },
  {
   "cell_type": "code",
   "execution_count": 120,
   "outputs": [
    {
     "data": {
      "text/plain": "28.446944444444444"
     },
     "execution_count": 120,
     "metadata": {},
     "output_type": "execute_result"
    }
   ],
   "source": [
    "102409 / 60 / 60"
   ],
   "metadata": {
    "collapsed": false,
    "pycharm": {
     "name": "#%%\n"
    }
   }
  },
  {
   "cell_type": "code",
   "execution_count": 124,
   "outputs": [
    {
     "data": {
      "text/plain": "13.316166666666668"
     },
     "execution_count": 124,
     "metadata": {},
     "output_type": "execute_result"
    }
   ],
   "source": [
    "798.97 / 60"
   ],
   "metadata": {
    "collapsed": false,
    "pycharm": {
     "name": "#%%\n"
    }
   }
  },
  {
   "cell_type": "code",
   "execution_count": null,
   "outputs": [],
   "source": [
    "1:42:21"
   ],
   "metadata": {
    "collapsed": false,
    "pycharm": {
     "name": "#%%\n"
    }
   }
  },
  {
   "cell_type": "code",
   "execution_count": 16,
   "outputs": [],
   "source": [
    "from datetime import timedelta\n",
    "td = timedelta(seconds=29574.533)"
   ],
   "metadata": {
    "collapsed": false,
    "pycharm": {
     "name": "#%%\n"
    }
   }
  },
  {
   "cell_type": "code",
   "execution_count": 17,
   "outputs": [
    {
     "name": "stdout",
     "output_type": "stream",
     "text": [
      "Time in hh:mm:ss: 8:12:54.533000\n"
     ]
    }
   ],
   "source": [
    "print('Time in hh:mm:ss:', td)"
   ],
   "metadata": {
    "collapsed": false,
    "pycharm": {
     "name": "#%%\n"
    }
   }
  },
  {
   "cell_type": "code",
   "execution_count": 20,
   "outputs": [
    {
     "data": {
      "text/plain": "   contract_id power_plant                                          client_id  \\\n0      02-0000       電廠001  64-67-0004-13-1,64-67-0008-13-1,64-67-0009-13-...   \n1      02-0001       電廠002  64-67-0004-13-1,64-67-0008-13-1,64-67-0009-13-...   \n2      02-0002       電廠003  64-67-0004-13-1,64-67-0008-13-1,64-67-0009-13-...   \n3      02-0003       電廠004  64-67-0004-13-1,64-67-0008-13-1,64-67-0009-13-...   \n4      02-0004       電廠005  64-67-0001-13-1,64-67-0002-13-1,64-67-0003-13-...   \n..         ...         ...                                                ...   \n77     02-0077       電廠076  64-67-0004-13-1,64-67-0008-13-1,64-67-0009-13-...   \n78     02-0078       電廠077  64-67-0004-13-1,64-67-0008-13-1,64-67-0009-13-...   \n79     02-0079       電廠078  64-67-0004-13-1,64-67-0008-13-1,64-67-0009-13-...   \n80     02-0080       電廠079  64-67-0004-13-1,64-67-0008-13-1,64-67-0009-13-...   \n81     02-0081       電廠080  64-67-0004-13-1,64-67-0008-13-1,64-67-0009-13-...   \n\n    percent  \n0     1.000  \n1     1.000  \n2     1.000  \n3     1.000  \n4     0.113  \n..      ...  \n77    1.000  \n78    1.000  \n79    1.000  \n80    1.000  \n81    1.000  \n\n[82 rows x 4 columns]",
      "text/html": "<div>\n<style scoped>\n    .dataframe tbody tr th:only-of-type {\n        vertical-align: middle;\n    }\n\n    .dataframe tbody tr th {\n        vertical-align: top;\n    }\n\n    .dataframe thead th {\n        text-align: right;\n    }\n</style>\n<table border=\"1\" class=\"dataframe\">\n  <thead>\n    <tr style=\"text-align: right;\">\n      <th></th>\n      <th>contract_id</th>\n      <th>power_plant</th>\n      <th>client_id</th>\n      <th>percent</th>\n    </tr>\n  </thead>\n  <tbody>\n    <tr>\n      <th>0</th>\n      <td>02-0000</td>\n      <td>電廠001</td>\n      <td>64-67-0004-13-1,64-67-0008-13-1,64-67-0009-13-...</td>\n      <td>1.000</td>\n    </tr>\n    <tr>\n      <th>1</th>\n      <td>02-0001</td>\n      <td>電廠002</td>\n      <td>64-67-0004-13-1,64-67-0008-13-1,64-67-0009-13-...</td>\n      <td>1.000</td>\n    </tr>\n    <tr>\n      <th>2</th>\n      <td>02-0002</td>\n      <td>電廠003</td>\n      <td>64-67-0004-13-1,64-67-0008-13-1,64-67-0009-13-...</td>\n      <td>1.000</td>\n    </tr>\n    <tr>\n      <th>3</th>\n      <td>02-0003</td>\n      <td>電廠004</td>\n      <td>64-67-0004-13-1,64-67-0008-13-1,64-67-0009-13-...</td>\n      <td>1.000</td>\n    </tr>\n    <tr>\n      <th>4</th>\n      <td>02-0004</td>\n      <td>電廠005</td>\n      <td>64-67-0001-13-1,64-67-0002-13-1,64-67-0003-13-...</td>\n      <td>0.113</td>\n    </tr>\n    <tr>\n      <th>...</th>\n      <td>...</td>\n      <td>...</td>\n      <td>...</td>\n      <td>...</td>\n    </tr>\n    <tr>\n      <th>77</th>\n      <td>02-0077</td>\n      <td>電廠076</td>\n      <td>64-67-0004-13-1,64-67-0008-13-1,64-67-0009-13-...</td>\n      <td>1.000</td>\n    </tr>\n    <tr>\n      <th>78</th>\n      <td>02-0078</td>\n      <td>電廠077</td>\n      <td>64-67-0004-13-1,64-67-0008-13-1,64-67-0009-13-...</td>\n      <td>1.000</td>\n    </tr>\n    <tr>\n      <th>79</th>\n      <td>02-0079</td>\n      <td>電廠078</td>\n      <td>64-67-0004-13-1,64-67-0008-13-1,64-67-0009-13-...</td>\n      <td>1.000</td>\n    </tr>\n    <tr>\n      <th>80</th>\n      <td>02-0080</td>\n      <td>電廠079</td>\n      <td>64-67-0004-13-1,64-67-0008-13-1,64-67-0009-13-...</td>\n      <td>1.000</td>\n    </tr>\n    <tr>\n      <th>81</th>\n      <td>02-0081</td>\n      <td>電廠080</td>\n      <td>64-67-0004-13-1,64-67-0008-13-1,64-67-0009-13-...</td>\n      <td>1.000</td>\n    </tr>\n  </tbody>\n</table>\n<p>82 rows × 4 columns</p>\n</div>"
     },
     "execution_count": 20,
     "metadata": {},
     "output_type": "execute_result"
    }
   ],
   "source": [
    "contract = pd.read_csv(f'C:\\\\Users\\\\User\\Desktop\\壓力測試泓得資料_80_200 _new\\\\optimize_contract.csv')\n",
    "contract1 = pd.read_csv(f'D:\\hdre_80_200\\optimize_contract_80_200.csv')\n",
    "len(contract)\n",
    "contract"
   ],
   "metadata": {
    "collapsed": false,
    "pycharm": {
     "name": "#%%\n"
    }
   }
  },
  {
   "cell_type": "code",
   "execution_count": 21,
   "outputs": [
    {
     "data": {
      "text/plain": "   contract_id power_plant                                          client_id  \\\n0      02-0000       電廠001  64-67-0004-13-1,64-67-0008-13-1,64-67-0009-13-...   \n1      02-0001       電廠002  64-67-0004-13-1,64-67-0008-13-1,64-67-0009-13-...   \n2      02-0002       電廠003  64-67-0004-13-1,64-67-0008-13-1,64-67-0009-13-...   \n3      02-0003       電廠004  64-67-0004-13-1,64-67-0008-13-1,64-67-0009-13-...   \n4      02-0004       電廠005  64-67-0001-13-1,64-67-0002-13-1,64-67-0003-13-...   \n..         ...         ...                                                ...   \n77     02-0077       電廠076  64-67-0004-13-1,64-67-0008-13-1,64-67-0009-13-...   \n78     02-0078       電廠077  64-67-0004-13-1,64-67-0008-13-1,64-67-0009-13-...   \n79     02-0079       電廠078  64-67-0004-13-1,64-67-0008-13-1,64-67-0009-13-...   \n80     02-0080       電廠079  64-67-0004-13-1,64-67-0008-13-1,64-67-0009-13-...   \n81     02-0081       電廠080  64-67-0004-13-1,64-67-0008-13-1,64-67-0009-13-...   \n\n    percent  \n0     1.000  \n1     1.000  \n2     1.000  \n3     1.000  \n4     0.113  \n..      ...  \n77    1.000  \n78    1.000  \n79    1.000  \n80    1.000  \n81    1.000  \n\n[82 rows x 4 columns]",
      "text/html": "<div>\n<style scoped>\n    .dataframe tbody tr th:only-of-type {\n        vertical-align: middle;\n    }\n\n    .dataframe tbody tr th {\n        vertical-align: top;\n    }\n\n    .dataframe thead th {\n        text-align: right;\n    }\n</style>\n<table border=\"1\" class=\"dataframe\">\n  <thead>\n    <tr style=\"text-align: right;\">\n      <th></th>\n      <th>contract_id</th>\n      <th>power_plant</th>\n      <th>client_id</th>\n      <th>percent</th>\n    </tr>\n  </thead>\n  <tbody>\n    <tr>\n      <th>0</th>\n      <td>02-0000</td>\n      <td>電廠001</td>\n      <td>64-67-0004-13-1,64-67-0008-13-1,64-67-0009-13-...</td>\n      <td>1.000</td>\n    </tr>\n    <tr>\n      <th>1</th>\n      <td>02-0001</td>\n      <td>電廠002</td>\n      <td>64-67-0004-13-1,64-67-0008-13-1,64-67-0009-13-...</td>\n      <td>1.000</td>\n    </tr>\n    <tr>\n      <th>2</th>\n      <td>02-0002</td>\n      <td>電廠003</td>\n      <td>64-67-0004-13-1,64-67-0008-13-1,64-67-0009-13-...</td>\n      <td>1.000</td>\n    </tr>\n    <tr>\n      <th>3</th>\n      <td>02-0003</td>\n      <td>電廠004</td>\n      <td>64-67-0004-13-1,64-67-0008-13-1,64-67-0009-13-...</td>\n      <td>1.000</td>\n    </tr>\n    <tr>\n      <th>4</th>\n      <td>02-0004</td>\n      <td>電廠005</td>\n      <td>64-67-0001-13-1,64-67-0002-13-1,64-67-0003-13-...</td>\n      <td>0.113</td>\n    </tr>\n    <tr>\n      <th>...</th>\n      <td>...</td>\n      <td>...</td>\n      <td>...</td>\n      <td>...</td>\n    </tr>\n    <tr>\n      <th>77</th>\n      <td>02-0077</td>\n      <td>電廠076</td>\n      <td>64-67-0004-13-1,64-67-0008-13-1,64-67-0009-13-...</td>\n      <td>1.000</td>\n    </tr>\n    <tr>\n      <th>78</th>\n      <td>02-0078</td>\n      <td>電廠077</td>\n      <td>64-67-0004-13-1,64-67-0008-13-1,64-67-0009-13-...</td>\n      <td>1.000</td>\n    </tr>\n    <tr>\n      <th>79</th>\n      <td>02-0079</td>\n      <td>電廠078</td>\n      <td>64-67-0004-13-1,64-67-0008-13-1,64-67-0009-13-...</td>\n      <td>1.000</td>\n    </tr>\n    <tr>\n      <th>80</th>\n      <td>02-0080</td>\n      <td>電廠079</td>\n      <td>64-67-0004-13-1,64-67-0008-13-1,64-67-0009-13-...</td>\n      <td>1.000</td>\n    </tr>\n    <tr>\n      <th>81</th>\n      <td>02-0081</td>\n      <td>電廠080</td>\n      <td>64-67-0004-13-1,64-67-0008-13-1,64-67-0009-13-...</td>\n      <td>1.000</td>\n    </tr>\n  </tbody>\n</table>\n<p>82 rows × 4 columns</p>\n</div>"
     },
     "execution_count": 21,
     "metadata": {},
     "output_type": "execute_result"
    }
   ],
   "source": [
    "contract1"
   ],
   "metadata": {
    "collapsed": false,
    "pycharm": {
     "name": "#%%\n"
    }
   }
  },
  {
   "cell_type": "code",
   "execution_count": null,
   "outputs": [],
   "source": [],
   "metadata": {
    "collapsed": false,
    "pycharm": {
     "name": "#%%\n"
    }
   }
  }
 ],
 "metadata": {
  "kernelspec": {
   "display_name": "Python 3",
   "language": "python",
   "name": "python3"
  },
  "language_info": {
   "codemirror_mode": {
    "name": "ipython",
    "version": 2
   },
   "file_extension": ".py",
   "mimetype": "text/x-python",
   "name": "python",
   "nbconvert_exporter": "python",
   "pygments_lexer": "ipython2",
   "version": "2.7.6"
  }
 },
 "nbformat": 4,
 "nbformat_minor": 0
}