{
 "cells": [
  {
   "cell_type": "code",
   "execution_count": 13,
   "outputs": [],
   "source": [
    "import pandas as pd"
   ],
   "metadata": {
    "collapsed": false,
    "pycharm": {
     "name": "#%%\n"
    }
   }
  },
  {
   "cell_type": "code",
   "execution_count": 58,
   "outputs": [
    {
     "data": {
      "text/plain": "0       177\n1       175\n2       172\n3       171\n4       174\n       ... \n4147    173\n4148    168\n4149    162\n4150    159\n4151    156\nName: 用戶1, Length: 4152, dtype: int64"
     },
     "execution_count": 58,
     "metadata": {},
     "output_type": "execute_result"
    }
   ],
   "source": [
    "DATASET_NUM = '1' # if changing to other dataset, you need to adjust above column names and sizes.\n",
    "df_consumption = pd.read_csv('DataSet/dataset'+DATASET_NUM+'/power_consumption.csv', parse_dates=['時間'])\n",
    "df_consumption['用戶1']"
   ],
   "metadata": {
    "collapsed": false,
    "pycharm": {
     "name": "#%%\n"
    }
   }
  },
  {
   "cell_type": "code",
   "execution_count": 55,
   "outputs": [
    {
     "data": {
      "text/plain": "                      時間  電廠1  電廠4\n0    2021-07-12 00:00:00  0.0  0.0\n1    2021-07-12 01:00:00  0.0  0.0\n2    2021-07-12 02:00:00  0.0  0.0\n3    2021-07-12 03:00:00  0.0  0.0\n4    2021-07-12 04:00:00  0.0  0.0\n...                  ...  ...  ...\n4147 2021-12-31 19:00:00  0.0  0.0\n4148 2021-12-31 20:00:00  0.0  0.0\n4149 2021-12-31 21:00:00  0.0  0.0\n4150 2021-12-31 22:00:00  0.0  0.0\n4151 2021-12-31 23:00:00  0.0  0.0\n\n[4152 rows x 3 columns]",
      "text/html": "<div>\n<style scoped>\n    .dataframe tbody tr th:only-of-type {\n        vertical-align: middle;\n    }\n\n    .dataframe tbody tr th {\n        vertical-align: top;\n    }\n\n    .dataframe thead th {\n        text-align: right;\n    }\n</style>\n<table border=\"1\" class=\"dataframe\">\n  <thead>\n    <tr style=\"text-align: right;\">\n      <th></th>\n      <th>時間</th>\n      <th>電廠1</th>\n      <th>電廠4</th>\n    </tr>\n  </thead>\n  <tbody>\n    <tr>\n      <th>0</th>\n      <td>2021-07-12 00:00:00</td>\n      <td>0.0</td>\n      <td>0.0</td>\n    </tr>\n    <tr>\n      <th>1</th>\n      <td>2021-07-12 01:00:00</td>\n      <td>0.0</td>\n      <td>0.0</td>\n    </tr>\n    <tr>\n      <th>2</th>\n      <td>2021-07-12 02:00:00</td>\n      <td>0.0</td>\n      <td>0.0</td>\n    </tr>\n    <tr>\n      <th>3</th>\n      <td>2021-07-12 03:00:00</td>\n      <td>0.0</td>\n      <td>0.0</td>\n    </tr>\n    <tr>\n      <th>4</th>\n      <td>2021-07-12 04:00:00</td>\n      <td>0.0</td>\n      <td>0.0</td>\n    </tr>\n    <tr>\n      <th>...</th>\n      <td>...</td>\n      <td>...</td>\n      <td>...</td>\n    </tr>\n    <tr>\n      <th>4147</th>\n      <td>2021-12-31 19:00:00</td>\n      <td>0.0</td>\n      <td>0.0</td>\n    </tr>\n    <tr>\n      <th>4148</th>\n      <td>2021-12-31 20:00:00</td>\n      <td>0.0</td>\n      <td>0.0</td>\n    </tr>\n    <tr>\n      <th>4149</th>\n      <td>2021-12-31 21:00:00</td>\n      <td>0.0</td>\n      <td>0.0</td>\n    </tr>\n    <tr>\n      <th>4150</th>\n      <td>2021-12-31 22:00:00</td>\n      <td>0.0</td>\n      <td>0.0</td>\n    </tr>\n    <tr>\n      <th>4151</th>\n      <td>2021-12-31 23:00:00</td>\n      <td>0.0</td>\n      <td>0.0</td>\n    </tr>\n  </tbody>\n</table>\n<p>4152 rows × 3 columns</p>\n</div>"
     },
     "execution_count": 55,
     "metadata": {},
     "output_type": "execute_result"
    }
   ],
   "source": [
    "df_generation = pd.read_csv('DataSet/dataset'+DATASET_NUM+'/power_generation.csv', parse_dates=['時間'])\n",
    "df_generation"
   ],
   "metadata": {
    "collapsed": false,
    "pycharm": {
     "name": "#%%\n"
    }
   }
  },
  {
   "cell_type": "code",
   "execution_count": 56,
   "outputs": [],
   "source": [
    "##\n",
    "    # \"\"\"\n",
    "    # TYPE:\n",
    "    #     1,2,3,8 cluster1\n",
    "    #     4 cluster2\n",
    "    #     5,6,7 cluster3\n",
    "    # \"\"\"\n",
    "##\n",
    "summer_7 = df_generation['時間'] <= '2021-07-31'\n",
    "# mask  = df_generation['時間'] < '2021-08-31'\n",
    "# mask1 = df_generation['時間'] > '2021-08-01'\n",
    "# summer_8 = df_generation[(mask & mask1)]\n",
    "users = (    {\n",
    "                     '時間':df_consumption[\"時間\"],\n",
    "                     '用戶1':df_consumption[\"用戶1\"] / 5,\n",
    "                     '用戶2':df_consumption[\"用戶2\"] / 5,\n",
    "                     '用戶3':df_consumption[\"用戶3\"] / 5,\n",
    "                     '用戶4':df_consumption[\"用戶4\"] / 5,\n",
    "                     '用戶5':df_consumption[\"用戶5\"] / 5,\n",
    "                     '用戶6':df_consumption[\"用戶6\"] / 5,\n",
    "                     '用戶7':df_consumption[\"用戶7\"] / 5,\n",
    "                     '用戶8':df_consumption[\"用戶8\"] / 5\n",
    "                     }\n",
    "                    )\n",
    "df = pd.DataFrame(users)\n",
    "\n",
    "generation = (    {\n",
    "                     '時間':df_generation[\"時間\"],\n",
    "                     '電廠1':df_generation[\"電廠1\"] * 5,\n",
    "                     # '電廠2':df_generation[\"電廠2\"] * 5,\n",
    "                     # '電廠3':df_generation[\"電廠3\"] * 5,\n",
    "                     '電廠4':df_generation[\"電廠4\"] * 5,\n",
    "                     # '電廠5':df_generation[\"電廠5\"] * 5,\n",
    "                     # '電廠6':df_generation[\"電廠6\"] * 2,\n",
    "                     # '電廠7':df_generation[\"電廠7\"],\n",
    "                     # '電廠8':df_generation[\"電廠8\"]\n",
    "                     }\n",
    "                    )\n",
    "df1 = pd.DataFrame(generation)"
   ],
   "metadata": {
    "collapsed": false,
    "pycharm": {
     "name": "#%%\n"
    }
   }
  },
  {
   "cell_type": "code",
   "execution_count": 57,
   "outputs": [],
   "source": [
    "df.to_csv('DataSet/dataset1_case2/power_consumption.csv', encoding=\"utf_8_sig\", index=False)\n",
    "df1.to_csv('DataSet/dataset1_case2/power_generation.csv', encoding=\"utf_8_sig\", index=False)"
   ],
   "metadata": {
    "collapsed": false,
    "pycharm": {
     "name": "#%%\n"
    }
   }
  },
  {
   "cell_type": "code",
   "execution_count": null,
   "outputs": [],
   "source": [],
   "metadata": {
    "collapsed": false,
    "pycharm": {
     "name": "#%%\n"
    }
   }
  }
 ],
 "metadata": {
  "kernelspec": {
   "display_name": "Python 3",
   "language": "python",
   "name": "python3"
  },
  "language_info": {
   "codemirror_mode": {
    "name": "ipython",
    "version": 2
   },
   "file_extension": ".py",
   "mimetype": "text/x-python",
   "name": "python",
   "nbconvert_exporter": "python",
   "pygments_lexer": "ipython2",
   "version": "2.7.6"
  }
 },
 "nbformat": 4,
 "nbformat_minor": 0
}