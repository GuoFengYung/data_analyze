{
 "cells": [
  {
   "cell_type": "code",
   "execution_count": 1,
   "metadata": {
    "collapsed": true,
    "pycharm": {
     "name": "#%%\n"
    }
   },
   "outputs": [],
   "source": [
    "import pandas as pd\n",
    "import os\n",
    "import datetime\n",
    "import holidays\n",
    "import csv\n",
    "import io\n",
    "from dataclasses import dataclass, asdict"
   ]
  },
  {
   "cell_type": "code",
   "execution_count": 936,
   "outputs": [],
   "source": [
    "from dataclasses import dataclass\n",
    "\n",
    "@dataclass\n",
    "class HDPowerData:\n",
    "    power_plant: str = \"\"\n",
    "    generation: float = 0\n",
    "    residual_power: int = 0\n",
    "    time_slot: str = 0\n",
    "\n",
    "@dataclass\n",
    "class HDClientData:\n",
    "    client_id: str\n",
    "    total_utility_power: float = 0  # 總市電\n",
    "    total_quota: float = 0  # 總綠電轉供 (stage1 + stage2)\n",
    "    time_slot: str = 0\n",
    "\n",
    "@dataclass\n",
    "class PowerData02:\n",
    "    power_plant: str = \"\"\n",
    "    generation: float = 0\n",
    "    residual_power: int = 0\n",
    "    time_slot: str = 0\n",
    "\n",
    "@dataclass\n",
    "class ClientData02:\n",
    "    client_id: str\n",
    "    total_utility_power: float = 0  # 總市電\n",
    "    total_quota: float = 0  # 總綠電轉供 (stage1 + stage2)\n",
    "    time_slot: str = 0\n",
    "\n"
   ],
   "metadata": {
    "collapsed": false,
    "pycharm": {
     "name": "#%%\n"
    }
   }
  },
  {
   "cell_type": "code",
   "execution_count": 1197,
   "outputs": [],
   "source": [
    "def __load_power_plant_dicts(filepath):\n",
    "    power_plant_dicts = {}\n",
    "    with open(filepath + os.path.sep + 'plant_information.csv', 'r', encoding=\"utf-8-sig\") as f:\n",
    "        rows = csv.reader(f, delimiter=',')\n",
    "        _headers = next(rows)\n",
    "        for row in rows:\n",
    "            power_plant_dicts[row[0]] = {}\n",
    "            # HDRE asks to round FIT to 4 digits\n",
    "            #power_plant_dicts[row[0]][\"surplus_price\"] = float(row[1])\n",
    "            power_plant_dicts[row[0]][\"surplus_price\"] = round(float(row[1]), 4)\n",
    "\n",
    "            # HDRE asks to round capacity to 2 digits\n",
    "            #power_plant_dicts[row[0]][\"capacity\"] = float(row[2])\n",
    "            power_plant_dicts[row[0]][\"capacity\"] = round(float(row[2]), 2)\n",
    "            power_plant_dicts[row[0]][\"power_plant_id\"] = row[3]\n",
    "            power_plant_dicts[row[0]][\"surplus_power\"] = 0\n",
    "    return power_plant_dicts\n",
    "\n",
    "def __load_power_client_dicts(filepath):\n",
    "    power_plant_dicts = {}\n",
    "    with open(filepath + os.path.sep + 'client_information.csv', 'r', encoding=\"utf-8-sig\") as f:\n",
    "        rows = csv.reader(f, delimiter=',')\n",
    "        _headers = next(rows)\n",
    "        for row in rows:\n",
    "            power_plant_dicts[row[1]] = {}\n",
    "            power_plant_dicts[row[1]][\"綠電售價\"] = round(float(row[6]), 4)\n",
    "    return power_plant_dicts\n",
    "\n",
    "@dataclass\n",
    "class HDPlant:\n",
    "    plant_name: str\n",
    "    total_transfered: float = 0  # 總轉供\n",
    "    residual_power: int = 0\n",
    "    time_slot: str = 0\n",
    "\n",
    "\n",
    "class HDPlantRecorder:\n",
    "    def __init__(self, plant_names):\n",
    "        self.hd_plant_dict = {name: HDPlant(name) for name in plant_names}\n",
    "\n",
    "    def add_power_transfered(self, plant_name, power_transfered, time_slot, residual_power):\n",
    "        obj = self.hd_plant_dict[plant_name]\n",
    "        obj.total_transfered = float(power_transfered)\n",
    "        obj.time_slot = time_slot\n",
    "        obj.residual_power = residual_power\n",
    "\n",
    "    def get_power_transfered(self, plant_name):\n",
    "        return self.hd_plant_dict[plant_name].total_transfered\n",
    "\n",
    "    def get_residual_power(self, plant_name):\n",
    "        return self.hd_plant_dict[plant_name].residual_power\n",
    "\n",
    "    def get_plant_name(self, plant_name):\n",
    "        return self.hd_plant_dict[plant_name].plant_name\n",
    "\n",
    "    def summarize(self):\n",
    "        for name, obj in self.hd_plant_dict.items():\n",
    "            print(asdict(obj))\n",
    "\n",
    "@dataclass\n",
    "class HDPlant02:\n",
    "    plant_name: str\n",
    "    total_transfered: float = 0  # 總轉供\n",
    "    residual_power: int = 0\n",
    "    time_slot: str = 0\n",
    "\n",
    "\n",
    "class HDPlantRecorder02:\n",
    "    def __init__(self, plant_names):\n",
    "        self.hd_plant_dict = {name: HDPlant(name) for name in plant_names}\n",
    "\n",
    "    def add_power_transfered(self, plant_name, power_transfered, residual_power, time_slot):\n",
    "        obj = self.hd_plant_dict[plant_name]\n",
    "        obj.total_transfered = float(power_transfered)\n",
    "        obj.residual_power = residual_power\n",
    "        obj.time_slot = time_slot\n",
    "\n",
    "    def get_power_transfered(self, plant_name):\n",
    "        return self.hd_plant_dict[plant_name].total_transfered\n",
    "\n",
    "    def get_residual_power(self, plant_name):\n",
    "        return self.hd_plant_dict[plant_name].residual_power\n",
    "\n",
    "    def get_plant_name(self, plant_name):\n",
    "        return self.hd_plant_dict[plant_name].plant_name\n",
    "\n",
    "    def summarize(self):\n",
    "        for name, obj in self.hd_plant_dict.items():\n",
    "            print(asdict(obj))\n",
    "\n",
    "\n",
    "@dataclass\n",
    "class HDClient:\n",
    "    client_id: str\n",
    "    total_utility_power: float = 0  # 總市電\n",
    "    total_quota: float = 0  # 總綠電轉供 (stage1 + stage2)\n",
    "    time_slot: str = 0\n",
    "\n",
    "\n",
    "class HDClientRecorder:\n",
    "    def __init__(self, client_ids):\n",
    "        self.hd_client_dict = {cid: HDClient(cid) for cid in client_ids}\n",
    "\n",
    "    def add_quota(self, client_id, quota):\n",
    "        obj = self.hd_client_dict[client_id]\n",
    "        obj.total_quota = quota\n",
    "\n",
    "    def get_total_consumption(self, client_id):\n",
    "        if client_id not in self.hd_client_dict:\n",
    "            return 0\n",
    "        return self.hd_client_dict[client_id].total_power_consumption\n",
    "\n",
    "    def get_total_quota(self, client_id):\n",
    "        if client_id not in self.hd_client_dict:\n",
    "            return 0\n",
    "        return self.hd_client_dict[client_id].total_quota\n",
    "\n",
    "    def get_total_utility(self, client_id):\n",
    "        if client_id not in self.hd_client_dict:\n",
    "            return 0\n",
    "        return self.hd_client_dict[client_id].total_utility_power\n",
    "\n",
    "    def get_hd_client(self, client_id):\n",
    "        return self.hd_client_dict[client_id].client_id\n",
    "\n",
    "    def add_power_consumption(self, client_id, power_consumption):\n",
    "        obj = self.hd_client_dict[client_id]\n",
    "        obj.total_power_consumption += power_consumption\n",
    "\n",
    "    def add_utility_power(self, client_id, utility_power):\n",
    "        obj = self.hd_client_dict[client_id]\n",
    "        obj.total_utility_power += utility_power\n",
    "\n",
    "    def add_time_slot(self, client_id, time_slot):\n",
    "        obj = self.hd_client_dict[client_id]\n",
    "        obj.time_slot = time_slot\n",
    "\n",
    "    def summarize(self):\n",
    "        for _name, obj in self.hd_client_dict.items():\n",
    "            print(asdict(obj))\n",
    "\n",
    "@dataclass\n",
    "class HDClient02:\n",
    "    client_id: str\n",
    "    total_utility_power: float = 0  # 總市電\n",
    "    total_quota: float = 0  # 總綠電轉供 (stage1 + stage2)\n",
    "    time_slot: str = 0\n",
    "\n",
    "\n",
    "class HDClientRecorder02:\n",
    "    def __init__(self, client_ids):\n",
    "        self.hd_client_dict = {cid: HDClient(cid) for cid in client_ids}\n",
    "\n",
    "    def add_quota(self, client_id, quota):\n",
    "        obj = self.hd_client_dict[client_id]\n",
    "        obj.total_quota = quota\n",
    "\n",
    "    def get_total_consumption(self, client_id):\n",
    "        if client_id not in self.hd_client_dict:\n",
    "            return 0\n",
    "        return self.hd_client_dict[client_id].total_power_consumption\n",
    "\n",
    "    def get_total_quota(self, client_id):\n",
    "        if client_id not in self.hd_client_dict:\n",
    "            return 0\n",
    "        return self.hd_client_dict[client_id].total_quota\n",
    "\n",
    "    def get_total_utility(self, client_id):\n",
    "        if client_id not in self.hd_client_dict:\n",
    "            return 0\n",
    "        return self.hd_client_dict[client_id].total_utility_power\n",
    "\n",
    "    def get_hd_client(self, client_id):\n",
    "        return self.hd_client_dict[client_id].client_id\n",
    "\n",
    "    def add_power_consumption(self, client_id, power_consumption):\n",
    "        obj = self.hd_client_dict[client_id]\n",
    "        obj.total_power_consumption += power_consumption\n",
    "\n",
    "    def add_utility_power(self, client_id, utility_power):\n",
    "        obj = self.hd_client_dict[client_id]\n",
    "        obj.total_utility_power = utility_power\n",
    "\n",
    "    def add_time_slot(self, client_id, time_slot):\n",
    "        obj = self.hd_client_dict[client_id]\n",
    "        obj.time_slot = time_slot\n",
    "\n",
    "    def summarize(self):\n",
    "        for _name, obj in self.hd_client_dict.items():\n",
    "            print(asdict(obj))\n",
    "\n",
    "\n",
    "def read_predefined_contracts(csv_fn):\n",
    "    assert csv_fn.endswith(\".csv\"), f\"Wrong csv_fn: {csv_fn}\"\n",
    "    power_plant_dict = {}\n",
    "    with io.open(csv_fn, encoding=\"utf-8-sig\") as _fp:\n",
    "        reader = csv.reader(_fp, delimiter=\",\")\n",
    "        rows = [row for row in reader]\n",
    "    plant_name = rows[0][1]\n",
    "    plant_generation = rows[0][2]\n",
    "    docs = []\n",
    "    for row in rows[1:]:\n",
    "        doc = {\n",
    "            'type': row[0],\n",
    "            plant_name: row[1],\n",
    "            plant_generation: row[2]\n",
    "        }\n",
    "        docs.append(doc)\n",
    "\n",
    "    return docs\n",
    "\n",
    "def __update_plant_recorder(plant_recorder, obj):\n",
    "    for i in obj:\n",
    "        plant_name = i.power_plant\n",
    "        quota_sum = i.generation\n",
    "        time_slot = i.time_slot\n",
    "        residual_power = i.residual_power\n",
    "        plant_recorder.add_power_transfered(plant_name, quota_sum, residual_power, time_slot)\n",
    "\n",
    "def __update_client_recorder(client_record, obj):\n",
    "    for i in obj:\n",
    "        client_id = i.client_id\n",
    "        total_utility_power = i.total_utility_power\n",
    "        time_slot = i.time_slot\n",
    "        total_quota = i.total_quota\n",
    "        client_record.add_utility_power(client_id, total_utility_power)\n",
    "        client_record.add_time_slot(client_id, time_slot)\n",
    "        client_record.add_quota(client_id, total_quota)"
   ],
   "metadata": {
    "collapsed": false,
    "pycharm": {
     "name": "#%%\n"
    }
   }
  },
  {
   "cell_type": "code",
   "execution_count": 1198,
   "outputs": [
    {
     "name": "stdout",
     "output_type": "stream",
     "text": [
      "{'電廠001': {'surplus_price': 5.0004, 'capacity': 9000.0, 'power_plant_id': '20655320001', 'surplus_power': 0}, '電廠002': {'surplus_price': 4.9552, 'capacity': 12000.0, 'power_plant_id': '20655320002', 'surplus_power': 0}}\n",
      "{'plant_name': '電廠001', 'total_transfered': 0, 'residual_power': 0, 'time_slot': 0}\n",
      "{'plant_name': '電廠002', 'total_transfered': 0, 'residual_power': 0, 'time_slot': 0}\n",
      "{'64-67-0001-13-1': {'綠電售價': 5.5376}, '64-67-0002-13-1': {'綠電售價': 6.2255}, '64-67-0003-13-1': {'綠電售價': 5.9575}, '64-67-0004-13-1': {'綠電售價': 6.0537}, '64-67-0005-13-1': {'綠電售價': 5.5821}}\n",
      "{'client_id': '64-67-0001-13-1', 'total_utility_power': 0, 'total_quota': 0, 'time_slot': 0}\n",
      "{'client_id': '64-67-0002-13-1', 'total_utility_power': 0, 'total_quota': 0, 'time_slot': 0}\n",
      "{'client_id': '64-67-0003-13-1', 'total_utility_power': 0, 'total_quota': 0, 'time_slot': 0}\n",
      "{'client_id': '64-67-0004-13-1', 'total_utility_power': 0, 'total_quota': 0, 'time_slot': 0}\n",
      "{'client_id': '64-67-0005-13-1', 'total_utility_power': 0, 'total_quota': 0, 'time_slot': 0}\n"
     ]
    }
   ],
   "source": [
    "plant_ret = read_predefined_contracts('power_generation.csv')\n",
    "power_plant_dict = __load_power_plant_dicts('./contract_3_5_month_minutes/')\n",
    "print(power_plant_dict)\n",
    "HDPlantRecorder(power_plant_dict.keys()).summarize()\n",
    "power_client_dict = __load_power_client_dicts('./contract_3_5_month_minutes/')\n",
    "print(power_client_dict)\n",
    "client_record = HDClientRecorder(power_client_dict.keys())\n",
    "client_record.summarize()"
   ],
   "metadata": {
    "collapsed": false,
    "pycharm": {
     "name": "#%%\n"
    }
   }
  },
  {
   "cell_type": "code",
   "execution_count": 1199,
   "outputs": [
    {
     "name": "stdout",
     "output_type": "stream",
     "text": [
      "1    64-67-0002-13-1\n",
      "3    64-67-0004-13-1\n",
      "2    64-67-0003-13-1\n",
      "4    64-67-0005-13-1\n",
      "0    64-67-0001-13-1\n",
      "Name: 用電端電號, dtype: object\n"
     ]
    },
    {
     "data": {
      "text/plain": "{0: {'type': 0,\n  '64-67-0001-13-1': 379638,\n  '64-67-0002-13-1': 455565.6,\n  '64-67-0003-13-1': 303710.4,\n  '64-67-0004-13-1': 560350,\n  '64-67-0005-13-1': 2186722.5},\n 1: {'type': 2,\n  '64-67-0001-13-1': 180670,\n  '64-67-0002-13-1': 16804.0,\n  '64-67-0003-13-1': 144536.0,\n  '64-67-0004-13-1': 481250,\n  '64-67-0005-13-1': 1040683.5}}"
     },
     "execution_count": 1199,
     "metadata": {},
     "output_type": "execute_result"
    }
   ],
   "source": [
    "df = pd.read_csv('./contract_3_5_month_minutes/' + 'client_information.csv')\n",
    "df = df.sort_values(by='綠電售價', ascending=False)\n",
    "print(df['用電端電號'])\n",
    "df_t = pd.read_csv('power_consumption_test.csv')\n",
    "df_t = df_t.to_dict('index')\n",
    "df_t"
   ],
   "metadata": {
    "collapsed": false,
    "pycharm": {
     "name": "#%%\n"
    }
   }
  },
  {
   "cell_type": "code",
   "execution_count": 1200,
   "outputs": [
    {
     "name": "stdout",
     "output_type": "stream",
     "text": [
      "{'plant_name': '電廠001', 'total_transfered': 0, 'residual_power': 0, 'time_slot': 0}\n",
      "{'plant_name': '電廠002', 'total_transfered': 0, 'residual_power': 0, 'time_slot': 0}\n"
     ]
    }
   ],
   "source": [
    "power_plant_dict = __load_power_plant_dicts('./')\n",
    "power_plant_dict\n",
    "plant_record = HDPlantRecorder(power_plant_dict.keys())\n",
    "plant_record.summarize()"
   ],
   "metadata": {
    "collapsed": false,
    "pycharm": {
     "name": "#%%\n"
    }
   }
  },
  {
   "cell_type": "code",
   "execution_count": 1201,
   "outputs": [],
   "source": [
    "generation_list = []\n",
    "generation_list2 = []\n",
    "for doc in plant_ret:\n",
    "    if doc['type'] == '0':\n",
    "        ret = {\n",
    "            \"power_plant\": doc[\"power_plant\"],\n",
    "            \"generation\": doc['power_generation']\n",
    "        }\n",
    "        generation_list.append(ret)\n",
    "        # print(power_plant, generation)\n",
    "    elif doc['type'] == '2':\n",
    "        ret = {\n",
    "            \"power_plant\": doc[\"power_plant\"],\n",
    "            \"generation\": doc['power_generation']\n",
    "        }\n",
    "        generation_list2.append(ret)\n",
    "\n",
    "\n",
    "def cal_generation_0(power_list, con_list, c_list):\n",
    "    rm_list = []\n",
    "    for i in power_list:\n",
    "        if i['power_plant'] == \"電廠002\":\n",
    "            res = float(i.get(\"generation\"))\n",
    "            for j in c_list:\n",
    "                print(j)\n",
    "                res = res - float(con_list.get(0).get(j))\n",
    "                docs = [\n",
    "                    HDClientData(\n",
    "                        client_id= j,\n",
    "                        total_quota= float(con_list.get(0).get(j)),\n",
    "                        total_utility_power= 0,\n",
    "                        time_slot= '0'\n",
    "                    )\n",
    "                ]\n",
    "                __update_client_recorder(client_record, docs)\n",
    "                rm_list.append(j)\n",
    "                if res < 0:\n",
    "                    doc = [\n",
    "                        HDPowerData(\n",
    "                            power_plant=i['power_plant'],\n",
    "                            generation=i['generation'],\n",
    "                            time_slot= '0',\n",
    "                            residual_power = 0\n",
    "                        )\n",
    "                    ]\n",
    "                    __update_plant_recorder(plant_record, doc)\n",
    "\n",
    "                    docs = [\n",
    "                        HDClientData(\n",
    "                            client_id= j,\n",
    "                            total_quota=  res - float(con_list.get(0).get(j)),\n",
    "                            total_utility_power= 0,\n",
    "                            time_slot= '0'\n",
    "                        )\n",
    "                    ]\n",
    "                    __update_client_recorder(client_record, docs)\n",
    "                    print(\"no power\")\n",
    "                    break\n",
    "    new_df_list = c_list[c_list.isin(rm_list) == False]\n",
    "    return res, new_df_list\n",
    "\n",
    "def cal_stage_2(power_list, power, con_list, new_df_list):\n",
    "    for i in power_list:\n",
    "        if i['power_plant'] == \"電廠001\":\n",
    "            for j in new_df_list:\n",
    "                print(j)\n",
    "                res = float(i.get(\"generation\"))\n",
    "                res = res + float(power)\n",
    "                doc = [\n",
    "                    HDPowerData(\n",
    "                        power_plant=i['power_plant'],\n",
    "                        generation=i['generation'],\n",
    "                        time_slot= '0',\n",
    "                        residual_power = 0\n",
    "                    )\n",
    "                ]\n",
    "                __update_plant_recorder(plant_record, doc)\n",
    "                docs = [\n",
    "                        HDClientData(\n",
    "                            client_id= j,\n",
    "                            total_quota=  '0',\n",
    "                            total_utility_power= con_list.get(0).get(j),\n",
    "                            time_slot= '0'\n",
    "                        )\n",
    "                    ]\n",
    "                __update_client_recorder(client_record, docs)\n",
    "            if res < 0:\n",
    "                print(abs(con_list.get(0).get('64-67-0004-13-1') + res))\n",
    "                docs = [\n",
    "                        HDClientData(\n",
    "                            client_id= '64-67-0004-13-1',\n",
    "                            total_quota=  con_list.get(0).get('64-67-0004-13-1') + res,\n",
    "                            total_utility_power= abs(res),\n",
    "                            time_slot= '0'\n",
    "                        )\n",
    "                    ]\n",
    "                __update_client_recorder(client_record, docs)\n",
    "\n",
    "\n",
    "# def cal_stage_3(power_list, power, con_list, )\n",
    "\n"
   ],
   "metadata": {
    "collapsed": false,
    "pycharm": {
     "name": "#%%\n"
    }
   }
  },
  {
   "cell_type": "code",
   "execution_count": 1202,
   "outputs": [
    {
     "name": "stdout",
     "output_type": "stream",
     "text": [
      "64-67-0002-13-1\n",
      "64-67-0004-13-1\n",
      "no power\n",
      "2    64-67-0003-13-1\n",
      "4    64-67-0005-13-1\n",
      "0    64-67-0001-13-1\n",
      "Name: 用電端電號, dtype: object\n"
     ]
    }
   ],
   "source": [
    "res, c_list = cal_generation_0(generation_list, df_t, df['用電端電號'])\n",
    "print(c_list)"
   ],
   "metadata": {
    "collapsed": false,
    "pycharm": {
     "name": "#%%\n"
    }
   }
  },
  {
   "cell_type": "code",
   "execution_count": 1203,
   "outputs": [
    {
     "name": "stdout",
     "output_type": "stream",
     "text": [
      "64-67-0003-13-1\n",
      "64-67-0005-13-1\n",
      "64-67-0001-13-1\n",
      "550634.4\n"
     ]
    }
   ],
   "source": [
    "cal_stage_2(generation_list, res, df_t, c_list)"
   ],
   "metadata": {
    "collapsed": false,
    "pycharm": {
     "name": "#%%\n"
    }
   }
  },
  {
   "cell_type": "markdown",
   "source": [],
   "metadata": {
    "collapsed": false,
    "pycharm": {
     "name": "#%% md\n"
    }
   }
  },
  {
   "cell_type": "code",
   "execution_count": 1204,
   "outputs": [
    {
     "name": "stdout",
     "output_type": "stream",
     "text": [
      "{'plant_name': '電廠001', 'total_transfered': 447200.0, 'residual_power': '0', 'time_slot': 0}\n",
      "{'plant_name': '電廠002', 'total_transfered': 559000.0, 'residual_power': '0', 'time_slot': 0}\n"
     ]
    }
   ],
   "source": [
    "plant_record.summarize()"
   ],
   "metadata": {
    "collapsed": false,
    "pycharm": {
     "name": "#%%\n"
    }
   }
  },
  {
   "cell_type": "code",
   "execution_count": 1205,
   "outputs": [
    {
     "name": "stdout",
     "output_type": "stream",
     "text": [
      "{'client_id': '64-67-0001-13-1', 'total_utility_power': 379638, 'total_quota': '0', 'time_slot': '0'}\n",
      "{'client_id': '64-67-0002-13-1', 'total_utility_power': 0, 'total_quota': 455565.6, 'time_slot': '0'}\n",
      "{'client_id': '64-67-0003-13-1', 'total_utility_power': 303710.4, 'total_quota': '0', 'time_slot': '0'}\n",
      "{'client_id': '64-67-0004-13-1', 'total_utility_power': 9715.599999999977, 'total_quota': 550634.4, 'time_slot': '0'}\n",
      "{'client_id': '64-67-0005-13-1', 'total_utility_power': 2186722.5, 'total_quota': '0', 'time_slot': '0'}\n"
     ]
    }
   ],
   "source": [
    "client_record.summarize()"
   ],
   "metadata": {
    "collapsed": false,
    "pycharm": {
     "name": "#%%\n"
    }
   }
  },
  {
   "cell_type": "code",
   "execution_count": 1180,
   "outputs": [],
   "source": [
    "def cal_generation_2(power_list, con_list, c_list):\n",
    "    rm_list = []\n",
    "    for i in power_list:\n",
    "        if i['power_plant'] == \"電廠002\":\n",
    "            res = float(i.get(\"generation\"))\n",
    "            for j in c_list:\n",
    "                res = res - float(con_list.get(1).get(j))\n",
    "                print(res)\n",
    "                docs = [\n",
    "                    HDClient02(\n",
    "                        client_id= j,\n",
    "                        total_quota= float(con_list.get(1).get(j)),\n",
    "                        total_utility_power= 0,\n",
    "                        time_slot= '2'\n",
    "                    )\n",
    "                ]\n",
    "                __update_client_recorder(client_record02, docs)\n",
    "                rm_list.append(j)\n",
    "                if res < 0:\n",
    "                    doc = [\n",
    "                        PowerData02(\n",
    "                            power_plant=i['power_plant'],\n",
    "                            generation=i['generation'],\n",
    "                            residual_power = 0,\n",
    "                            time_slot= '2'\n",
    "                        )\n",
    "                    ]\n",
    "                    __update_plant_recorder(plant_record02, doc)\n",
    "\n",
    "                    docs = [\n",
    "                        HDClient02(\n",
    "                            client_id= j,\n",
    "                            total_quota=  res - float(con_list.get(1).get(j)),\n",
    "                            total_utility_power= 0,\n",
    "                            time_slot= '2'\n",
    "                        )\n",
    "                    ]\n",
    "                    __update_client_recorder(client_record02, docs)\n",
    "                    print(\"no power\")\n",
    "                    break\n",
    "    new_df_list = c_list[c_list.isin(rm_list) == False]\n",
    "    return res, new_df_list\n",
    "\n",
    "def cal_stage_2_2(power_list, power, con_list, new_df_list):\n",
    "    rm_list = []\n",
    "    for i in power_list:\n",
    "        if i['power_plant'] == \"電廠001\":\n",
    "            for j in new_df_list:\n",
    "                print(j)\n",
    "                ds = float(i.get(\"generation\"))\n",
    "                ds = ds + float(power)\n",
    "                ft = ds - con_list.get(1).get(j)\n",
    "                doc = [\n",
    "                    PowerData02(\n",
    "                        power_plant=i['power_plant'],\n",
    "                        generation=i['generation'],\n",
    "                        residual_power = 0,\n",
    "                        time_slot= '2'\n",
    "                    )\n",
    "                ]\n",
    "                __update_plant_recorder(plant_record02, doc)\n",
    "\n",
    "                docs = [\n",
    "                        HDClient02(\n",
    "                            client_id= j,\n",
    "                            total_quota=  con_list.get(1).get(j),\n",
    "                            total_utility_power= '0',\n",
    "                            time_slot= '2'\n",
    "                        )\n",
    "                    ]\n",
    "                __update_client_recorder(client_record02, docs)\n",
    "                rm_list.append(j)\n",
    "                if float(power) < 0:\n",
    "                    print(\"補power\")\n",
    "                    docs = [\n",
    "                            HDClient02(\n",
    "                                client_id= '64-67-0004-13-1',\n",
    "                                total_quota=  con_list.get(1).get('64-67-0004-13-1'),\n",
    "                                total_utility_power= '0',\n",
    "                                time_slot= '2'\n",
    "                            )\n",
    "                        ]\n",
    "                    __update_client_recorder(client_record02, docs)\n",
    "                    break\n",
    "    print(rm_list)\n",
    "    new_df_list = c_list[c_list.isin(rm_list) == False]\n",
    "    for x in new_df_list:\n",
    "        tt = ft - con_list.get(1).get(x)\n",
    "        print(x)\n",
    "        rm_list.append(x)\n",
    "        if float(tt) < 0:\n",
    "            docs = [\n",
    "                HDClient02(\n",
    "                    client_id= x,\n",
    "                    total_quota=  ft,\n",
    "                    total_utility_power= abs(tt),\n",
    "                    time_slot= '2'\n",
    "                )\n",
    "            ]\n",
    "            __update_client_recorder(client_record02, docs)\n",
    "            break\n",
    "    print(rm_list)\n",
    "\n",
    "    new_df_list = c_list[c_list.isin(rm_list) == False]\n",
    "    for z in new_df_list:\n",
    "        # print(z, con_list.get(1).get(z))\n",
    "        docs = [\n",
    "            HDClient02(\n",
    "                client_id= z,\n",
    "                total_quota=  '0',\n",
    "                total_utility_power= con_list.get(1).get(z),\n",
    "                time_slot= '2'\n",
    "            )\n",
    "        ]\n",
    "        __update_client_recorder(client_record02, docs)\n",
    "        break\n",
    "                # else:\n",
    "                #     docs = [\n",
    "                #         HDClient02(\n",
    "                #             client_id= j,\n",
    "                #             total_quota=  '0',\n",
    "                #             total_utility_power= con_list.get(0).get(j),\n",
    "                #             time_slot= '2'\n",
    "                #         )\n",
    "                #     ]\n",
    "                # __update_client_recorder(client_record02, docs)\n",
    "\n",
    "                # docs = [\n",
    "                #         HDClientData(\n",
    "                #             client_id= j,\n",
    "                #             total_quota=  '0',\n",
    "                #             total_utility_power= con_list.get(2).get(j),\n",
    "                #             time_slot= '0'\n",
    "                #         )\n",
    "                #     ]\n",
    "                # __update_client_recorder(client_record, docs)"
   ],
   "metadata": {
    "collapsed": false,
    "pycharm": {
     "name": "#%%\n"
    }
   }
  },
  {
   "cell_type": "code",
   "execution_count": 1181,
   "outputs": [
    {
     "name": "stdout",
     "output_type": "stream",
     "text": [
      "{'client_id': '64-67-0001-13-1', 'total_utility_power': 0, 'total_quota': 0, 'time_slot': 0}\n",
      "{'client_id': '64-67-0002-13-1', 'total_utility_power': 0, 'total_quota': 0, 'time_slot': 0}\n",
      "{'client_id': '64-67-0003-13-1', 'total_utility_power': 0, 'total_quota': 0, 'time_slot': 0}\n",
      "{'client_id': '64-67-0004-13-1', 'total_utility_power': 0, 'total_quota': 0, 'time_slot': 0}\n",
      "{'client_id': '64-67-0005-13-1', 'total_utility_power': 0, 'total_quota': 0, 'time_slot': 0}\n"
     ]
    }
   ],
   "source": [
    "power_plant_dict = __load_power_plant_dicts('./')\n",
    "power_plant_dict\n",
    "plant_record02 = HDPlantRecorder02(power_plant_dict.keys())\n",
    "\n",
    "power_client_dict = __load_power_client_dicts('./contract_3_5_month_minutes/')\n",
    "power_client_dict\n",
    "client_record02 = HDClientRecorder02(power_client_dict.keys())\n",
    "client_record02.summarize()"
   ],
   "metadata": {
    "collapsed": false,
    "pycharm": {
     "name": "#%%\n"
    }
   }
  },
  {
   "cell_type": "code",
   "execution_count": 1182,
   "outputs": [
    {
     "name": "stdout",
     "output_type": "stream",
     "text": [
      "411546.0\n",
      "-69704.0\n",
      "no power\n",
      "64-67-0003-13-1\n",
      "補power\n",
      "['64-67-0003-13-1']\n",
      "64-67-0005-13-1\n",
      "['64-67-0003-13-1', '64-67-0005-13-1']\n"
     ]
    }
   ],
   "source": [
    "res, c_list = cal_generation_2(generation_list2, df_t, df['用電端電號'])\n",
    "cal_stage_2_2(generation_list2, res, df_t, c_list)"
   ],
   "metadata": {
    "collapsed": false,
    "pycharm": {
     "name": "#%%\n"
    }
   }
  },
  {
   "cell_type": "code",
   "execution_count": 1183,
   "outputs": [
    {
     "name": "stdout",
     "output_type": "stream",
     "text": [
      "{'plant_name': '電廠001', 'total_transfered': 342680.0, 'residual_power': 0, 'time_slot': '2'}\n",
      "{'plant_name': '電廠002', 'total_transfered': 428350.0, 'residual_power': 0, 'time_slot': '2'}\n"
     ]
    }
   ],
   "source": [
    "plant_record02.summarize()"
   ],
   "metadata": {
    "collapsed": false,
    "pycharm": {
     "name": "#%%\n"
    }
   }
  },
  {
   "cell_type": "code",
   "execution_count": 1184,
   "outputs": [
    {
     "name": "stdout",
     "output_type": "stream",
     "text": [
      "{'client_id': '64-67-0001-13-1', 'total_utility_power': 180670, 'total_quota': '0', 'time_slot': '2'}\n",
      "{'client_id': '64-67-0002-13-1', 'total_utility_power': 0, 'total_quota': 16804.0, 'time_slot': '2'}\n",
      "{'client_id': '64-67-0003-13-1', 'total_utility_power': '0', 'total_quota': 144536.0, 'time_slot': '2'}\n",
      "{'client_id': '64-67-0004-13-1', 'total_utility_power': '0', 'total_quota': 481250, 'time_slot': '2'}\n",
      "{'client_id': '64-67-0005-13-1', 'total_utility_power': 912243.5, 'total_quota': 128440.0, 'time_slot': '2'}\n"
     ]
    }
   ],
   "source": [
    "client_record02.summarize()"
   ],
   "metadata": {
    "collapsed": false,
    "pycharm": {
     "name": "#%%\n"
    }
   }
  },
  {
   "cell_type": "code",
   "execution_count": 1185,
   "outputs": [
    {
     "name": "stdout",
     "output_type": "stream",
     "text": [
      "{'plant_name': '電廠001', 'total_transfered': 447200.0, 'residual_power': '0', 'time_slot': 0}\n",
      "{'plant_name': '電廠002', 'total_transfered': 559000.0, 'residual_power': '0', 'time_slot': 0}\n"
     ]
    }
   ],
   "source": [
    "plant_record.summarize()"
   ],
   "metadata": {
    "collapsed": false,
    "pycharm": {
     "name": "#%%\n"
    }
   }
  },
  {
   "cell_type": "code",
   "execution_count": 1186,
   "outputs": [
    {
     "name": "stdout",
     "output_type": "stream",
     "text": [
      "{'client_id': '64-67-0001-13-1', 'total_utility_power': 379638, 'total_quota': '0', 'time_slot': '0'}\n",
      "{'client_id': '64-67-0002-13-1', 'total_utility_power': 0, 'total_quota': 455565.6, 'time_slot': '0'}\n",
      "{'client_id': '64-67-0003-13-1', 'total_utility_power': 303710.4, 'total_quota': '0', 'time_slot': '0'}\n",
      "{'client_id': '64-67-0004-13-1', 'total_utility_power': 9715.599999999977, 'total_quota': 550634.4, 'time_slot': '0'}\n",
      "{'client_id': '64-67-0005-13-1', 'total_utility_power': 2186722.5, 'total_quota': '0', 'time_slot': '0'}\n"
     ]
    }
   ],
   "source": [
    "client_record.summarize()"
   ],
   "metadata": {
    "collapsed": false,
    "pycharm": {
     "name": "#%%\n"
    }
   }
  },
  {
   "cell_type": "code",
   "execution_count": 1191,
   "outputs": [
    {
     "name": "stdout",
     "output_type": "stream",
     "text": [
      "電號: 64-67-0001-13-1 轉供: 0.0 市電: 379638.0 利潤: 0.0 時段: 0\n",
      "電號: 64-67-0002-13-1 轉供: 455565.6 市電: 0.0 利潤: 2836124.0 時段: 0\n",
      "電號: 64-67-0003-13-1 轉供: 0.0 市電: 303710.4 利潤: 0.0 時段: 0\n",
      "電號: 64-67-0004-13-1 轉供: 550634.4 市電: 9715.599999999977 利潤: 3333375.0 時段: 0\n",
      "電號: 64-67-0005-13-1 轉供: 0.0 市電: 2186722.5 利潤: 0.0 時段: 0\n",
      "總轉供: 1006200.0 總市電: 2879786.5 總利潤: 6169499.0 時段: 0\n",
      "\n",
      "\n",
      "電號: 64-67-0001-13-1 轉供: 0.0 市電: 180670.0 利潤: 0.0 時段: 2\n",
      "電號: 64-67-0002-13-1 轉供: 16804.0 市電: 0.0 利潤: 104613.0 時段: 2\n",
      "電號: 64-67-0003-13-1 轉供: 144536.0 市電: 0.0 利潤: 861073.0 時段: 2\n",
      "電號: 64-67-0004-13-1 轉供: 481250.0 市電: 0.0 利潤: 2913343.0 時段: 2\n",
      "電號: 64-67-0005-13-1 轉供: 128440.0 市電: 912243.5 利潤: 716965.0 時段: 2\n",
      "總轉供: 771030.0 總市電: 1092913.5 總利潤: 4595994.0 時段: 2\n",
      "\n",
      "\n",
      "電號: 64-67-0001-13-1 總轉供: 0.0 總市電: 560308.0 總利潤: 0.0 時段: 0, 2\n",
      "電號: 64-67-0002-13-1 總轉供: 472369.6 總市電: 0.0 總利潤: 2940737.0 時段: 0, 2\n",
      "電號: 64-67-0003-13-1 總轉供: 144536.0 總市電: 303710.4 總利潤: 861073.0 時段: 0, 2\n",
      "電號: 64-67-0004-13-1 總轉供: 1031884.4 總市電: 9715.599999999977 總利潤: 6246719.0 時段: 0, 2\n",
      "電號: 64-67-0005-13-1 總轉供: 128440.0 總市電: 3098966.0 總利潤: 716965.0 時段: 0, 2\n",
      "總轉供: 1777230.0 總市電: 3972700.0 總利潤: 10765493.0 時段: 0, 2\n"
     ]
    }
   ],
   "source": [
    "power_client_dict = __load_power_client_dicts('./contract_3_5_month_minutes/')\n",
    "total_quota = 0\n",
    "total_utility_power = 0\n",
    "total_profit = 0\n",
    "\n",
    "total_quota_2 = 0\n",
    "total_utility_power_2 = 0\n",
    "total_profit_2 = 0\n",
    "\n",
    "for i in power_client_dict:\n",
    "    profit = round(float(client_record.get_total_quota(i)) * float(power_client_dict.get(i).get('綠電售價')), 0)\n",
    "    total_quota += float(client_record.get_total_quota(i))\n",
    "    total_utility_power += float(client_record.get_total_utility(i))\n",
    "    total_profit += profit\n",
    "    print(f\"電號: {client_record.get_hd_client(i)} 轉供: {float(client_record.get_total_quota(i))} 市電: {float(client_record.get_total_utility(i))} 利潤: {profit} 時段: 0\")\n",
    "print(f\"總轉供: {total_quota} 總市電: {total_utility_power} 總利潤: {total_profit} 時段: 0\")\n",
    "\n",
    "print(\"\\n\")\n",
    "\n",
    "for i in power_client_dict:\n",
    "    profit = round(float(client_record02.get_total_quota(i)) * float(power_client_dict.get(i).get('綠電售價')), 0)\n",
    "    total_quota_2 += float(client_record02.get_total_quota(i))\n",
    "    total_utility_power_2 += float(client_record02.get_total_utility(i))\n",
    "    total_profit_2 += profit\n",
    "    print(f\"電號: {client_record02.get_hd_client(i)} 轉供: {float(client_record02.get_total_quota(i))} 市電: {float(client_record02.get_total_utility(i))} 利潤: {profit} 時段: 2\")\n",
    "print(f\"總轉供: {total_quota_2} 總市電: {total_utility_power_2} 總利潤: {total_profit_2} 時段: 2\")\n",
    "\n",
    "p = total_quota + total_quota_2\n",
    "u = total_utility_power + total_utility_power_2\n",
    "m = total_profit_2 + total_profit\n",
    "print(\"\\n\")\n",
    "\n",
    "for i in power_client_dict:\n",
    "    t_q = float(client_record02.get_total_quota(i)) + float(client_record.get_total_quota(i))\n",
    "    t_u = float(client_record02.get_total_utility(i)) + float(client_record.get_total_utility(i))\n",
    "    t_p = round(float(t_q) * float(power_client_dict.get(i).get('綠電售價')), 0)\n",
    "    print(f\"電號: {client_record02.get_hd_client(i)} 總轉供: {t_q} 總市電: {t_u} 總利潤: {t_p} 時段: 0, 2\")\n",
    "\n",
    "print(f\"總轉供: {p} 總市電: {u} 總利潤: {m} 時段: 0, 2\")"
   ],
   "metadata": {
    "collapsed": false,
    "pycharm": {
     "name": "#%%\n"
    }
   }
  },
  {
   "cell_type": "code",
   "execution_count": 1167,
   "outputs": [
    {
     "name": "stdout",
     "output_type": "stream",
     "text": [
      "電廠001 總轉供:447200.0 總餘電: 0 總產電: 447200.0 時段: 0\n",
      "電廠002 總轉供:559000.0 總餘電: 0 總產電: 559000.0 時段: 0\n",
      "電廠001 總轉供:342680.0 總餘電: 0  總產電: 342680.0 時段: 2\n",
      "電廠002 總轉供:428350.0 總餘電: 0  總產電: 428350.0 時段: 2\n",
      "\n",
      "\n",
      "電廠001 總轉供:789880.0 總餘電: 0.0 時段: 0,2\n",
      "電廠002 總轉供:987350.0 總餘電: 0.0 時段: 0,2\n"
     ]
    }
   ],
   "source": [
    "total_generation = 0\n",
    "total_power_t = 0\n",
    "total_res = 0\n",
    "total_generation_2 = 0\n",
    "total_power_t_2 = 0\n",
    "total_res_2 = 0\n",
    "for i in power_plant_dict:\n",
    "    total_power_t = float(plant_record.get_power_transfered(i))\n",
    "    total_res = float(plant_record.get_residual_power(i))\n",
    "    total_generation = total_power_t + total_res\n",
    "    print(f\"{plant_record.get_plant_name(i)} 總轉供:{plant_record.get_power_transfered(i)} 總餘電: {plant_record.get_residual_power(i)} 總產電: {total_generation} 時段: 0\")\n",
    "for i in power_plant_dict:\n",
    "    total_power_t_2 = float(plant_record02.get_power_transfered(i))\n",
    "    total_res_2 = float(plant_record02.get_residual_power(i))\n",
    "    total_generation_2 = total_power_t_2 + total_res_2\n",
    "    print(f\"{plant_record02.get_plant_name(i)} 總轉供:{plant_record02.get_power_transfered(i)} 總餘電: {plant_record02.get_residual_power(i)}  總產電: {total_generation_2} 時段: 2\")\n",
    "\n",
    "print(\"\\n\")\n",
    "\n",
    "for i in power_plant_dict:\n",
    "    name = plant_record02.get_plant_name(i)\n",
    "    total_f_r = float(plant_record02.get_residual_power(i)) + float(plant_record.get_residual_power(i))\n",
    "    total_f_p = plant_record02.get_power_transfered(i) + plant_record.get_power_transfered(i)\n",
    "\n",
    "    print(f\"{plant_record02.get_plant_name(i)} 總轉供:{total_f_p} 總餘電: {total_f_r} 時段: 0,2\")"
   ],
   "metadata": {
    "collapsed": false,
    "pycharm": {
     "name": "#%%\n"
    }
   }
  },
  {
   "cell_type": "code",
   "execution_count": null,
   "outputs": [],
   "source": [],
   "metadata": {
    "collapsed": false,
    "pycharm": {
     "name": "#%%\n"
    }
   }
  }
 ],
 "metadata": {
  "kernelspec": {
   "display_name": "Python 3",
   "language": "python",
   "name": "python3"
  },
  "language_info": {
   "codemirror_mode": {
    "name": "ipython",
    "version": 2
   },
   "file_extension": ".py",
   "mimetype": "text/x-python",
   "name": "python",
   "nbconvert_exporter": "python",
   "pygments_lexer": "ipython2",
   "version": "2.7.6"
  }
 },
 "nbformat": 4,
 "nbformat_minor": 0
}