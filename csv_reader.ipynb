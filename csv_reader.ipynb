{
 "cells": [
  {
   "cell_type": "code",
   "execution_count": 346,
   "metadata": {
    "collapsed": true
   },
   "outputs": [],
   "source": [
    "import pandas as pd\n",
    "import os\n",
    "import datetime\n",
    "import holidays\n",
    "import csv\n",
    "import io\n",
    "from dataclasses import dataclass, asdict"
   ]
  },
  {
   "cell_type": "code",
   "execution_count": 934,
   "outputs": [],
   "source": [
    "from dataclasses import dataclass\n",
    "\n",
    "@dataclass\n",
    "class HDPowerData:\n",
    "    power_plant: str = \"\"\n",
    "    generation: float = 0\n",
    "    residual_power: int = 0\n",
    "    time_slot: str = 0\n",
    "\n",
    "@dataclass\n",
    "class HDClientData:\n",
    "    client_id: str\n",
    "    total_utility_power: float = 0  # 總市電\n",
    "    total_quota: float = 0  # 總綠電轉供 (stage1 + stage2)\n",
    "    time_slot: str = 0\n",
    "\n"
   ],
   "metadata": {
    "collapsed": false
   }
  },
  {
   "cell_type": "code",
   "execution_count": 1128,
   "outputs": [],
   "source": [
    "def __load_power_plant_dicts(filepath):\n",
    "    power_plant_dicts = {}\n",
    "    with open(filepath + os.path.sep + 'plant_information.csv', 'r', encoding=\"utf-8-sig\") as f:\n",
    "        rows = csv.reader(f, delimiter=',')\n",
    "        _headers = next(rows)\n",
    "        for row in rows:\n",
    "            power_plant_dicts[row[0]] = {}\n",
    "            # HDRE asks to round FIT to 4 digits\n",
    "            #power_plant_dicts[row[0]][\"surplus_price\"] = float(row[1])\n",
    "            power_plant_dicts[row[0]][\"surplus_price\"] = round(float(row[1]), 4)\n",
    "\n",
    "            # HDRE asks to round capacity to 2 digits\n",
    "            #power_plant_dicts[row[0]][\"capacity\"] = float(row[2])\n",
    "            power_plant_dicts[row[0]][\"capacity\"] = round(float(row[2]), 2)\n",
    "            power_plant_dicts[row[0]][\"power_plant_id\"] = row[3]\n",
    "            power_plant_dicts[row[0]][\"surplus_power\"] = 0\n",
    "    return power_plant_dicts\n",
    "\n",
    "def __load_power_client_dicts(filepath):\n",
    "    power_plant_dicts = {}\n",
    "    with open(filepath + os.path.sep + 'client_information.csv', 'r', encoding=\"utf-8-sig\") as f:\n",
    "        rows = csv.reader(f, delimiter=',')\n",
    "        _headers = next(rows)\n",
    "        print(_headers)\n",
    "        for row in rows:\n",
    "            power_plant_dicts[row[1]] = {}\n",
    "            # HDRE asks to round FIT to 4 digits\n",
    "            #power_plant_dicts[row[0]][\"surplus_price\"] = float(row[1])\n",
    "            # power_plant_dicts[row[0]][\"surplus_price\"] = round(float(row[1]), 4)\n",
    "            #\n",
    "            # # HDRE asks to round capacity to 2 digits\n",
    "            # #power_plant_dicts[row[0]][\"capacity\"] = float(row[2])\n",
    "            # power_plant_dicts[row[0]][\"capacity\"] = round(float(row[2]), 2)\n",
    "            # power_plant_dicts[row[0]][\"power_plant_id\"] = row[3]\n",
    "            # power_plant_dicts[row[0]][\"surplus_power\"] = 0\n",
    "    return power_plant_dicts\n",
    "\n",
    "@dataclass\n",
    "class HDPlant:\n",
    "    plant_name: str\n",
    "    total_transfered: float = 0  # 總轉供\n",
    "    time_slot: str = 0\n",
    "    residual_power: int = 0\n",
    "\n",
    "\n",
    "class HDPlantRecorder:\n",
    "    def __init__(self, plant_names):\n",
    "        self.hd_plant_dict = {name: HDPlant(name) for name in plant_names}\n",
    "\n",
    "    def add_power_transfered(self, plant_name, power_transfered, time_slot, residual_power):\n",
    "        obj = self.hd_plant_dict[plant_name]\n",
    "        obj.total_transfered += float(power_transfered)\n",
    "        obj.time_slot = time_slot\n",
    "        obj.residual_power = residual_power\n",
    "\n",
    "    def summarize(self):\n",
    "        for name, obj in self.hd_plant_dict.items():\n",
    "            print(asdict(obj))\n",
    "\n",
    "@dataclass\n",
    "class HDClient:\n",
    "    client_id: str\n",
    "    total_utility_power: float = 0  # 總市電\n",
    "    total_quota: float = 0  # 總綠電轉供 (stage1 + stage2)\n",
    "    time_slot: str = 0\n",
    "\n",
    "\n",
    "class HDClientRecorder:\n",
    "    def __init__(self, client_ids):\n",
    "        self.hd_client_dict = {cid: HDClient(cid) for cid in client_ids}\n",
    "\n",
    "    def add_quota(self, client_id, quota):\n",
    "        obj = self.hd_client_dict[client_id]\n",
    "        obj.total_quota += quota\n",
    "\n",
    "    def get_total_consumption(self, client_id):\n",
    "        if client_id not in self.hd_client_dict:\n",
    "            return 0\n",
    "        return self.hd_client_dict[client_id].total_power_consumption\n",
    "\n",
    "    def get_total_quota(self, client_id):\n",
    "        if client_id not in self.hd_client_dict:\n",
    "            return 0\n",
    "        return self.hd_client_dict[client_id].total_quota\n",
    "\n",
    "    def get_hd_client(self, client_id):\n",
    "        return self.hd_client_dict[client_id]\n",
    "\n",
    "    def add_power_consumption(self, client_id, power_consumption):\n",
    "        obj = self.hd_client_dict[client_id]\n",
    "        obj.total_power_consumption += power_consumption\n",
    "\n",
    "    def add_utility_power(self, client_id, utility_power):\n",
    "        obj = self.hd_client_dict[client_id]\n",
    "        obj.total_utility_power += utility_power\n",
    "\n",
    "    def add_time_slot(self, client_id, time_slot):\n",
    "        obj = self.hd_client_dict[client_id]\n",
    "        obj.time_slot = time_slot\n",
    "\n",
    "    def summarize(self):\n",
    "        for _name, obj in self.hd_client_dict.items():\n",
    "            print(asdict(obj))\n",
    "\n",
    "def read_predefined_contracts(csv_fn):\n",
    "    assert csv_fn.endswith(\".csv\"), f\"Wrong csv_fn: {csv_fn}\"\n",
    "    power_plant_dict = {}\n",
    "    with io.open(csv_fn, encoding=\"utf-8-sig\") as _fp:\n",
    "        reader = csv.reader(_fp, delimiter=\",\")\n",
    "        rows = [row for row in reader]\n",
    "    plant_name = rows[0][1]\n",
    "    plant_generation = rows[0][2]\n",
    "    docs = []\n",
    "    for row in rows[1:]:\n",
    "        doc = {\n",
    "            'type': row[0],\n",
    "            plant_name: row[1],\n",
    "            plant_generation: row[2]\n",
    "        }\n",
    "        docs.append(doc)\n",
    "\n",
    "    return docs\n",
    "\n",
    "def __update_plant_recorder(plant_recorder, obj):\n",
    "    for i in obj:\n",
    "        plant_name = i.power_plant\n",
    "        quota_sum = i.generation\n",
    "        time_slot = i.time_slot\n",
    "        residual_power = i.residual_power\n",
    "        plant_recorder.add_power_transfered(plant_name, quota_sum, time_slot, residual_power)\n",
    "\n",
    "def __update_client_recorder(client_record, obj):\n",
    "    for i in obj:\n",
    "        client_id = i.client_id\n",
    "        total_utility_power = i.total_utility_power\n",
    "        time_slot = i.time_slot\n",
    "        total_quota = i.total_quota\n",
    "        client_record.add_utility_power(client_id, total_utility_power)\n",
    "        client_record.add_time_slot(client_id, time_slot)\n",
    "        client_record.add_quota(client_id, total_quota)"
   ],
   "metadata": {
    "collapsed": false
   }
  },
  {
   "cell_type": "code",
   "execution_count": 1129,
   "outputs": [
    {
     "name": "stdout",
     "output_type": "stream",
     "text": [
      "{'電廠001': {'surplus_price': 5.0004, 'capacity': 9000.0, 'power_plant_id': '20655320001', 'surplus_power': 0}, '電廠002': {'surplus_price': 4.9552, 'capacity': 12000.0, 'power_plant_id': '20655320002', 'surplus_power': 0}}\n",
      "{'plant_name': '電廠001', 'total_transfered': 0, 'time_slot': 0, 'residual_power': 0}\n",
      "{'plant_name': '電廠002', 'total_transfered': 0, 'time_slot': 0, 'residual_power': 0}\n",
      "['用電端', '用電端電號', '月上限', '年上限', 'RE', '最低年轉供', '綠電售價']\n",
      "{'client_id': '64-67-0001-13-1', 'total_utility_power': 0, 'total_quota': 0, 'time_slot': 0}\n",
      "{'client_id': '64-67-0002-13-1', 'total_utility_power': 0, 'total_quota': 0, 'time_slot': 0}\n",
      "{'client_id': '64-67-0003-13-1', 'total_utility_power': 0, 'total_quota': 0, 'time_slot': 0}\n",
      "{'client_id': '64-67-0004-13-1', 'total_utility_power': 0, 'total_quota': 0, 'time_slot': 0}\n",
      "{'client_id': '64-67-0005-13-1', 'total_utility_power': 0, 'total_quota': 0, 'time_slot': 0}\n"
     ]
    }
   ],
   "source": [
    "plant_ret = read_predefined_contracts('power_generation.csv')\n",
    "power_plant_dict = __load_power_plant_dicts('./contract_3_5_month_minutes/')\n",
    "print(power_plant_dict)\n",
    "HDPlantRecorder(power_plant_dict.keys()).summarize()\n",
    "power_client_dict = __load_power_client_dicts('./contract_3_5_month_minutes/')\n",
    "power_client_dict\n",
    "client_record = HDClientRecorder(power_client_dict.keys())\n",
    "client_record.summarize()"
   ],
   "metadata": {
    "collapsed": false
   }
  },
  {
   "cell_type": "code",
   "execution_count": 1130,
   "outputs": [
    {
     "name": "stdout",
     "output_type": "stream",
     "text": [
      "1    64-67-0002-13-1\n",
      "3    64-67-0004-13-1\n",
      "2    64-67-0003-13-1\n",
      "4    64-67-0005-13-1\n",
      "0    64-67-0001-13-1\n",
      "Name: 用電端電號, dtype: object\n"
     ]
    },
    {
     "data": {
      "text/plain": "{0: {'type': 0,\n  '64-67-0001-13-1': 379638,\n  '64-67-0002-13-1': 455565.6,\n  '64-67-0003-13-1': 303710.4,\n  '64-67-0004-13-1': 560350,\n  '64-67-0005-13-1': 2186722.5},\n 1: {'type': 2,\n  '64-67-0001-13-1': 180670,\n  '64-67-0002-13-1': 16804.0,\n  '64-67-0003-13-1': 144536.0,\n  '64-67-0004-13-1': 481250,\n  '64-67-0005-13-1': 1040683.5}}"
     },
     "execution_count": 1130,
     "metadata": {},
     "output_type": "execute_result"
    }
   ],
   "source": [
    "df = pd.read_csv('./contract_3_5_month_minutes/' + 'client_information.csv')\n",
    "df = df.sort_values(by='綠電售價', ascending=False)\n",
    "print(df['用電端電號'])\n",
    "df_t = pd.read_csv('power_consumption_test.csv')\n",
    "df_t = df_t.to_dict('index')\n",
    "df_t"
   ],
   "metadata": {
    "collapsed": false
   }
  },
  {
   "cell_type": "code",
   "execution_count": 1131,
   "outputs": [
    {
     "name": "stdout",
     "output_type": "stream",
     "text": [
      "{'plant_name': '電廠001', 'total_transfered': 0, 'time_slot': 0, 'residual_power': 0}\n",
      "{'plant_name': '電廠002', 'total_transfered': 0, 'time_slot': 0, 'residual_power': 0}\n"
     ]
    }
   ],
   "source": [
    "power_plant_dict = __load_power_plant_dicts('./')\n",
    "power_plant_dict\n",
    "plant_record = HDPlantRecorder(power_plant_dict.keys())\n",
    "plant_record.summarize()"
   ],
   "metadata": {
    "collapsed": false
   }
  },
  {
   "cell_type": "code",
   "execution_count": 1132,
   "outputs": [
    {
     "data": {
      "text/plain": "0"
     },
     "execution_count": 1132,
     "metadata": {},
     "output_type": "execute_result"
    }
   ],
   "source": [
    "generation_list = []\n",
    "for doc in plant_ret:\n",
    "    if doc['type'] == '0':\n",
    "        ret = {\n",
    "            \"power_plant\": doc[\"power_plant\"],\n",
    "            \"generation\": doc['power_generation']\n",
    "        }\n",
    "        generation_list.append(ret)\n",
    "        # print(power_plant, generation)\n",
    "    elif doc['type'] == '2':\n",
    "        pass\n",
    "\n",
    "\n",
    "def cal_generation_0(power_list, con_list, c_list):\n",
    "    rm_list = []\n",
    "    for i in power_list:\n",
    "        if i['power_plant'] == \"電廠002\":\n",
    "            res = float(i.get(\"generation\"))\n",
    "            for j in c_list:\n",
    "                print(j)\n",
    "                res = res - float(con_list.get(0).get(j))\n",
    "                docs = [\n",
    "                    HDClientData(\n",
    "                        client_id= j,\n",
    "                        total_quota= float(con_list.get(0).get(j)),\n",
    "                        total_utility_power= 0,\n",
    "                        time_slot= '0'\n",
    "                    )\n",
    "                ]\n",
    "                __update_client_recorder(client_record, docs)\n",
    "                rm_list.append(j)\n",
    "                if res < 0:\n",
    "                    doc = [\n",
    "                        HDPowerData(\n",
    "                            power_plant=i['power_plant'],\n",
    "                            generation=i['generation'],\n",
    "                            time_slot= '0',\n",
    "                            residual_power = 0\n",
    "                        )\n",
    "                    ]\n",
    "                    __update_plant_recorder(plant_record, doc)\n",
    "\n",
    "                    docs = [\n",
    "                        HDClientData(\n",
    "                            client_id= j,\n",
    "                            total_quota=  res - float(con_list.get(0).get(j)),\n",
    "                            total_utility_power= 0,\n",
    "                            time_slot= '0'\n",
    "                        )\n",
    "                    ]\n",
    "                    __update_client_recorder(client_record, docs)\n",
    "                    print(\"no power\")\n",
    "                    break\n",
    "            for r in rm_list:\n",
    "                con_list.get(0).pop(r)\n",
    "    return res, con_list\n",
    "\n",
    "def cal_stage_2(power_list, power, c_list):\n",
    "    record = []\n",
    "    for i in power_list:\n",
    "        if i['power_plant'] == \"電廠001\":\n",
    "            res = float(i.get(\"generation\"))\n",
    "            res = res + float(power)\n",
    "            doc = [\n",
    "                HDPowerData(\n",
    "                    power_plant=i['power_plant'],\n",
    "                    generation=i['generation'],\n",
    "                    time_slot= '0',\n",
    "                    residual_power = 0\n",
    "                )\n",
    "            ]\n",
    "            __update_plant_recorder(plant_record, doc)\n",
    "\n",
    "            # docs = [\n",
    "            #         HDClientData(\n",
    "            #             client_id= j,\n",
    "            #             total_quota=  res,\n",
    "            #             total_utility_power= 0,\n",
    "            #             time_slot= '0'\n",
    "            #         )\n",
    "            #     ]\n",
    "            # __update_client_recorder(client_record, docs)\n",
    "            if res < 0:\n",
    "                record.append(f\"{i['power_plant']}: 總轉供: {i['generation']} 總餘電: 0 時段: 0\")\n",
    "                break\n",
    "0\n"
   ],
   "metadata": {
    "collapsed": false
   }
  },
  {
   "cell_type": "code",
   "execution_count": 1133,
   "outputs": [
    {
     "name": "stdout",
     "output_type": "stream",
     "text": [
      "64-67-0002-13-1\n",
      "64-67-0004-13-1\n",
      "no power\n",
      "{0: {'type': 0, '64-67-0001-13-1': 379638, '64-67-0003-13-1': 303710.4, '64-67-0005-13-1': 2186722.5}, 1: {'type': 2, '64-67-0001-13-1': 180670, '64-67-0002-13-1': 16804.0, '64-67-0003-13-1': 144536.0, '64-67-0004-13-1': 481250, '64-67-0005-13-1': 1040683.5}}\n"
     ]
    }
   ],
   "source": [
    "res, c_list = cal_generation_0(generation_list, df_t, df['用電端電號'])\n",
    "print(c_list)\n",
    "cal_stage_2(generation_list, res, c_list)"
   ],
   "metadata": {
    "collapsed": false
   }
  },
  {
   "cell_type": "markdown",
   "source": [],
   "metadata": {
    "collapsed": false
   }
  },
  {
   "cell_type": "code",
   "execution_count": 1025,
   "outputs": [
    {
     "name": "stdout",
     "output_type": "stream",
     "text": [
      "{'plant_name': '電廠001', 'total_transfered': 447200.0, 'time_slot': '0', 'residual_power': 0}\n",
      "{'plant_name': '電廠002', 'total_transfered': 559000.0, 'time_slot': '0', 'residual_power': 0}\n"
     ]
    }
   ],
   "source": [
    "plant_record.summarize()"
   ],
   "metadata": {
    "collapsed": false
   }
  },
  {
   "cell_type": "code",
   "execution_count": 1026,
   "outputs": [
    {
     "name": "stdout",
     "output_type": "stream",
     "text": [
      "{'client_id': '64-67-0001-13-1', 'total_utility_power': 0, 'total_quota': 0, 'time_slot': 0}\n",
      "{'client_id': '64-67-0002-13-1', 'total_utility_power': 0, 'total_quota': 455565.6, 'time_slot': '0'}\n",
      "{'client_id': '64-67-0003-13-1', 'total_utility_power': 0, 'total_quota': 0, 'time_slot': 0}\n",
      "{'client_id': '64-67-0004-13-1', 'total_utility_power': 0, 'total_quota': -456915.6, 'time_slot': '0'}\n",
      "{'client_id': '64-67-0005-13-1', 'total_utility_power': 0, 'total_quota': 0, 'time_slot': 0}\n"
     ]
    }
   ],
   "source": [
    "client_record.summarize()"
   ],
   "metadata": {
    "collapsed": false
   }
  },
  {
   "cell_type": "code",
   "execution_count": null,
   "outputs": [],
   "source": [],
   "metadata": {
    "collapsed": false,
    "pycharm": {
     "is_executing": true
    }
   }
  },
  {
   "cell_type": "code",
   "execution_count": 968,
   "outputs": [],
   "source": [],
   "metadata": {
    "collapsed": false
   }
  }
 ],
 "metadata": {
  "kernelspec": {
   "display_name": "Python 3",
   "language": "python",
   "name": "python3"
  },
  "language_info": {
   "codemirror_mode": {
    "name": "ipython",
    "version": 2
   },
   "file_extension": ".py",
   "mimetype": "text/x-python",
   "name": "python",
   "nbconvert_exporter": "python",
   "pygments_lexer": "ipython2",
   "version": "2.7.6"
  }
 },
 "nbformat": 4,
 "nbformat_minor": 0
}
