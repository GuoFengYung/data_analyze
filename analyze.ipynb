{
 "cells": [
  {
   "cell_type": "code",
   "execution_count": 1,
   "metadata": {
    "collapsed": false,
    "pycharm": {
     "name": "#%%\n"
    }
   },
   "outputs": [],
   "source": [
    "import pandas as pd\n",
    "import numpy as np\n",
    "import matplotlib.pyplot as plt\n",
    "from sklearn.preprocessing import MinMaxScaler"
   ]
  },
  {
   "cell_type": "code",
   "execution_count": 2,
   "metadata": {
    "collapsed": false,
    "pycharm": {
     "name": "#%%\n"
    }
   },
   "outputs": [],
   "source": [
    "def label_type(row):\n",
    "    \"\"\"\n",
    "    TYPE:\n",
    "        假日半尖峰 (六)8:00~22:00 -> 0\n",
    "        假日離峰 (六)0:00~8:00、22:00~24:00 (日)0:00~24:00 -> 1\n",
    "        平日尖峰 (夏季)10:00~12:00、13:00~17:00 -> 2\n",
    "        平日半尖峰 (夏季)8:00~10:00、12:00~13:00、17:00~22:00 (非夏季)8:00~22:00 -> 3\n",
    "        平日離峰 0:00~8:00、22:00~24:00 -> 4\n",
    "    \"\"\"\n",
    "    row['month'] = int(row['時間'].strftime('%m'))\n",
    "    row['day_of_week'] = int(row['時間'].weekday())\n",
    "    row['hour'] = int(row['時間'].strftime('%H'))\n",
    "    row['type'] = -1\n",
    "\n",
    "    if row['day_of_week'] == 6:\n",
    "        if (row['hour'] >= 8) and (row['hour'] < 22):\n",
    "            row['type'] = 0\n",
    "        else:\n",
    "            row['type'] = 1\n",
    "\n",
    "    elif row['day_of_week'] == 0:\n",
    "        row['type'] = 1\n",
    "\n",
    "    else:\n",
    "        # summer 6~9\n",
    "        if (row['month']>=6) and (row['month']<=9):\n",
    "            if row['hour'] in [10, 11, 13, 14, 15, 16]:\n",
    "                row['type'] = 2\n",
    "            elif row['hour'] in [8, 9, 12, 17, 18, 19, 20, 21]:\n",
    "                row['type'] = 3\n",
    "            else:\n",
    "                row['type'] = 4\n",
    "        else:\n",
    "            if (row['hour'] >= 8) and (row['hour'] < 22):\n",
    "                row['type'] = 3\n",
    "            else:\n",
    "                row['type'] = 4\n",
    "\n",
    "    return row"
   ]
  },
  {
   "cell_type": "code",
   "execution_count": 3,
   "metadata": {
    "collapsed": false,
    "pycharm": {
     "name": "#%%\n"
    }
   },
   "outputs": [],
   "source": [
    "def plot(df1, df2):\n",
    "\n",
    "    plt.figure(1, figsize=(20,10))\n",
    "    plt.subplot(2, 1, 1)\n",
    "    plt.title('Consumption')\n",
    "    plt.xticks(np.arange(5), ['hol_medium', 'hol_low', 'unhol_high', 'unhol_medium', 'unhol_low'])\n",
    "    for user in df1.columns:\n",
    "        plt.plot(np.arange(df1.shape[0]), df1[user], label=str(user))\n",
    "    plt.legend()\n",
    "\n",
    "    plt.subplot(2, 1, 2)\n",
    "    plt.title('Consumption Normal')\n",
    "    plt.xticks(np.arange(5), ['hol_medium', 'hol_low', 'unhol_high', 'unhol_medium', 'unhol_low'])\n",
    "    for user in df2.columns:\n",
    "        plt.plot(np.arange(df2.shape[0]), df2[user], label=str(user))\n",
    "    plt.legend()\n",
    "    # plt.savefig('clustering_of_consumption.png')"
   ]
  },
  {
   "cell_type": "code",
   "execution_count": 4,
   "metadata": {
    "collapsed": false,
    "pycharm": {
     "name": "#%%\n"
    }
   },
   "outputs": [],
   "source": [
    "def user_analysis(df_consumption, df_generation):\n",
    "    df_col = df_consumption.columns[1:]\n",
    "\n",
    "    df_consumption = df_consumption.apply(label_type, axis=1)\n",
    "\n",
    "    df_consumption_normal = df_consumption.copy()\n",
    "    df_consumption_normal[df_col] = pd.DataFrame(MinMaxScaler().fit_transform(df_consumption_normal[df_col]))\n",
    "\n",
    "    df_consumption = df_consumption.groupby('type').agg({'用戶1': ['mean'], '用戶2': ['mean'], '用戶3': ['mean'], '用戶4': ['mean'],\\\n",
    "                                    '用戶5': ['mean'], '用戶6': ['mean'], '用戶7': ['mean'], '用戶8': ['mean']})\n",
    "    df_consumption_normal = df_consumption_normal.groupby('type').agg({'用戶1': ['mean'], '用戶2': ['mean'], '用戶3': ['mean'], '用戶4': ['mean'],\\\n",
    "                                    '用戶5': ['mean'], '用戶6': ['mean'], '用戶7': ['mean'], '用戶8': ['mean']})\n",
    "\n",
    "    # df_generation = df_generation.groupby('type').agg({'電廠01_發電量_01': ['mean'],'電廠02_發電量_01': ['mean'], '電廠03_發電量_01': ['mean'], '電廠04_發電量_01': ['mean'],\\\n",
    "    #                                 '電廠05_發電量_01': ['mean'], '電廠06_發電量_01': ['mean'], '電廠07_發電量_01': ['mean'], '電廠08_發電量_01': ['mean']})\n",
    "\n",
    "    print(df_consumption)\n",
    "    print(df_consumption_normal)\n",
    "\n",
    "    plot(df_consumption, df_consumption_normal)"
   ]
  },
  {
   "cell_type": "code",
   "execution_count": 5,
   "metadata": {
    "collapsed": false,
    "pycharm": {
     "name": "#%%\n"
    }
   },
   "outputs": [],
   "source": [
    "def graph(df1, df2):\n",
    "    plt.figure(1, figsize=(20,10))\n",
    "    plt.subplot(2, 1, 1)\n",
    "    plt.title('Cluster Consumption')\n",
    "    plt.xticks(np.arange(df1.shape[0]), df1.index)\n",
    "    for user in df1.columns:\n",
    "        plt.plot(np.arange(df1.shape[0]), df1[user], label=str(user))\n",
    "    plt.legend()\n",
    "\n",
    "    plt.subplot(2, 1, 2)\n",
    "    plt.title('Generation')\n",
    "    plt.xticks(np.arange(df2.shape[0]), df2.index)\n",
    "    for user in df2.columns:\n",
    "        plt.plot(np.arange(df2.shape[0]), df2[user], label=str(user))\n",
    "    plt.legend()"
   ]
  },
  {
   "cell_type": "code",
   "execution_count": 6,
   "metadata": {
    "collapsed": false,
    "pycharm": {
     "name": "#%%\n"
    }
   },
   "outputs": [],
   "source": [
    "def month_analysis(df_consumption, df_generation):\n",
    "    df_col = df_consumption.columns[1:]\n",
    "\n",
    "    cluster_1 = df_consumption[['用戶1', '用戶2', '用戶3', '用戶8']].sum(axis=1)\n",
    "    print(cluster_1)\n",
    "    cluster_2 = df_consumption[['用戶4']].sum(axis=1)\n",
    "    cluster_3 = df_consumption[['用戶5', '用戶6', '用戶7']].sum(axis=1)\n",
    "\n",
    "    df_clusters = pd.DataFrame({'時間':df_consumption['時間'], 'cluster_1':cluster_1, 'cluster_2':cluster_2, 'cluster_3':cluster_3})\n",
    "\n",
    "    df_clusters = df_clusters.apply(label_type, axis=1)\n",
    "    df_generation = df_generation.apply(label_type, axis=1)\n",
    "\n",
    "    df_clusters = df_clusters.groupby(['month', 'type']).agg({'cluster_1': ['sum'],'cluster_2': ['sum'], 'cluster_3': ['sum']})\n",
    "    # df_generation = df_generation.groupby(['month', 'type']).agg({'電廠1': ['sum'],'電廠2': ['sum'], '電廠3': ['sum'], '電廠4': ['sum'],\\\n",
    "    #                                 '電廠5': ['sum'], '電廠6': ['sum'], '電廠7': ['sum'], '電廠8': ['sum']})\n",
    "    # df_generation = df_generation.groupby(['month', 'type']).agg({'電廠1': ['sum'],'電廠2': ['sum'], '電廠3': ['sum'], '電廠4': ['sum'],\\\n",
    "    #                                 '電廠5': ['sum'] })\n",
    "    df_generation = df_generation.groupby(['month', 'type']).agg({'電廠1': ['sum'], '電廠4': ['sum']})\n",
    "    df_clusters.to_csv('df_clusters.csv')\n",
    "    df_generation.to_csv('df_generation.csv')\n",
    "\n",
    "    graph(df_clusters, df_generation)"
   ]
  },
  {
   "cell_type": "code",
   "execution_count": 7,
   "metadata": {
    "collapsed": false,
    "pycharm": {
     "name": "#%%\n"
    }
   },
   "outputs": [],
   "source": [
    "    DATASET_NUM = '9' # if changing to other dataset, you need to adjust above column names and sizes.\n",
    "    df_consumption = pd.read_csv('./dataset'+DATASET_NUM+'/power_consumption.csv', parse_dates=['時間'])\n",
    "    df_generation = pd.read_csv('./dataset'+DATASET_NUM+'/power_generation.csv', parse_dates=['時間'])"
   ]
  },
  {
   "cell_type": "code",
   "execution_count": 8,
   "metadata": {
    "collapsed": false,
    "pycharm": {
     "name": "#%%\n"
    }
   },
   "outputs": [
    {
     "ename": "KeyError",
     "evalue": "\"Column(s) ['用戶1', '用戶2', '用戶3', '用戶4', '用戶5', '用戶6', '用戶7', '用戶8'] do not exist\"",
     "output_type": "error",
     "traceback": [
      "\u001B[1;31m---------------------------------------------------------------------------\u001B[0m",
      "\u001B[1;31mKeyError\u001B[0m                                  Traceback (most recent call last)",
      "\u001B[1;32m~\\AppData\\Local\\Temp\\ipykernel_25204\\3358514695.py\u001B[0m in \u001B[0;36m<module>\u001B[1;34m\u001B[0m\n\u001B[0;32m      1\u001B[0m \u001B[1;31m# do clustering for consumptions\u001B[0m\u001B[1;33m\u001B[0m\u001B[1;33m\u001B[0m\u001B[1;33m\u001B[0m\u001B[0m\n\u001B[1;32m----> 2\u001B[1;33m \u001B[0muser_analysis\u001B[0m\u001B[1;33m(\u001B[0m\u001B[0mdf_consumption\u001B[0m\u001B[1;33m,\u001B[0m \u001B[0mdf_generation\u001B[0m\u001B[1;33m)\u001B[0m\u001B[1;33m\u001B[0m\u001B[1;33m\u001B[0m\u001B[0m\n\u001B[0m\u001B[0;32m      3\u001B[0m \u001B[1;33m\u001B[0m\u001B[0m\n\u001B[0;32m      4\u001B[0m \u001B[1;31m# show different time slots(months, types) of clusters of consumption and generations.\u001B[0m\u001B[1;33m\u001B[0m\u001B[1;33m\u001B[0m\u001B[1;33m\u001B[0m\u001B[0m\n\u001B[0;32m      5\u001B[0m \u001B[0mmonth_analysis\u001B[0m\u001B[1;33m(\u001B[0m\u001B[0mdf_consumption\u001B[0m\u001B[1;33m,\u001B[0m \u001B[0mdf_generation\u001B[0m\u001B[1;33m)\u001B[0m\u001B[1;33m\u001B[0m\u001B[1;33m\u001B[0m\u001B[0m\n",
      "\u001B[1;32m~\\AppData\\Local\\Temp\\ipykernel_25204\\2838115313.py\u001B[0m in \u001B[0;36muser_analysis\u001B[1;34m(df_consumption, df_generation)\u001B[0m\n\u001B[0;32m      8\u001B[0m \u001B[1;33m\u001B[0m\u001B[0m\n\u001B[0;32m      9\u001B[0m     df_consumption = df_consumption.groupby('type').agg({'用戶1': ['mean'], '用戶2': ['mean'], '用戶3': ['mean'], '用戶4': ['mean'],\\\n\u001B[1;32m---> 10\u001B[1;33m                                     '用戶5': ['mean'], '用戶6': ['mean'], '用戶7': ['mean'], '用戶8': ['mean']})\n\u001B[0m\u001B[0;32m     11\u001B[0m     df_consumption_normal = df_consumption_normal.groupby('type').agg({'用戶1': ['mean'], '用戶2': ['mean'], '用戶3': ['mean'], '用戶4': ['mean'],\\\n\u001B[0;32m     12\u001B[0m                                     '用戶5': ['mean'], '用戶6': ['mean'], '用戶7': ['mean'], '用戶8': ['mean']})\n",
      "\u001B[1;32mC:\\ProgramData\\Anaconda3\\envs\\aibox\\lib\\site-packages\\pandas\\core\\groupby\\generic.py\u001B[0m in \u001B[0;36maggregate\u001B[1;34m(self, func, engine, engine_kwargs, *args, **kwargs)\u001B[0m\n\u001B[0;32m    977\u001B[0m \u001B[1;33m\u001B[0m\u001B[0m\n\u001B[0;32m    978\u001B[0m         \u001B[0mop\u001B[0m \u001B[1;33m=\u001B[0m \u001B[0mGroupByApply\u001B[0m\u001B[1;33m(\u001B[0m\u001B[0mself\u001B[0m\u001B[1;33m,\u001B[0m \u001B[0mfunc\u001B[0m\u001B[1;33m,\u001B[0m \u001B[0margs\u001B[0m\u001B[1;33m,\u001B[0m \u001B[0mkwargs\u001B[0m\u001B[1;33m)\u001B[0m\u001B[1;33m\u001B[0m\u001B[1;33m\u001B[0m\u001B[0m\n\u001B[1;32m--> 979\u001B[1;33m         \u001B[0mresult\u001B[0m \u001B[1;33m=\u001B[0m \u001B[0mop\u001B[0m\u001B[1;33m.\u001B[0m\u001B[0magg\u001B[0m\u001B[1;33m(\u001B[0m\u001B[1;33m)\u001B[0m\u001B[1;33m\u001B[0m\u001B[1;33m\u001B[0m\u001B[0m\n\u001B[0m\u001B[0;32m    980\u001B[0m         \u001B[1;32mif\u001B[0m \u001B[1;32mnot\u001B[0m \u001B[0mis_dict_like\u001B[0m\u001B[1;33m(\u001B[0m\u001B[0mfunc\u001B[0m\u001B[1;33m)\u001B[0m \u001B[1;32mand\u001B[0m \u001B[0mresult\u001B[0m \u001B[1;32mis\u001B[0m \u001B[1;32mnot\u001B[0m \u001B[1;32mNone\u001B[0m\u001B[1;33m:\u001B[0m\u001B[1;33m\u001B[0m\u001B[1;33m\u001B[0m\u001B[0m\n\u001B[0;32m    981\u001B[0m             \u001B[1;32mreturn\u001B[0m \u001B[0mresult\u001B[0m\u001B[1;33m\u001B[0m\u001B[1;33m\u001B[0m\u001B[0m\n",
      "\u001B[1;32mC:\\ProgramData\\Anaconda3\\envs\\aibox\\lib\\site-packages\\pandas\\core\\apply.py\u001B[0m in \u001B[0;36magg\u001B[1;34m(self)\u001B[0m\n\u001B[0;32m    159\u001B[0m \u001B[1;33m\u001B[0m\u001B[0m\n\u001B[0;32m    160\u001B[0m         \u001B[1;32mif\u001B[0m \u001B[0mis_dict_like\u001B[0m\u001B[1;33m(\u001B[0m\u001B[0marg\u001B[0m\u001B[1;33m)\u001B[0m\u001B[1;33m:\u001B[0m\u001B[1;33m\u001B[0m\u001B[1;33m\u001B[0m\u001B[0m\n\u001B[1;32m--> 161\u001B[1;33m             \u001B[1;32mreturn\u001B[0m \u001B[0mself\u001B[0m\u001B[1;33m.\u001B[0m\u001B[0magg_dict_like\u001B[0m\u001B[1;33m(\u001B[0m\u001B[1;33m)\u001B[0m\u001B[1;33m\u001B[0m\u001B[1;33m\u001B[0m\u001B[0m\n\u001B[0m\u001B[0;32m    162\u001B[0m         \u001B[1;32melif\u001B[0m \u001B[0mis_list_like\u001B[0m\u001B[1;33m(\u001B[0m\u001B[0marg\u001B[0m\u001B[1;33m)\u001B[0m\u001B[1;33m:\u001B[0m\u001B[1;33m\u001B[0m\u001B[1;33m\u001B[0m\u001B[0m\n\u001B[0;32m    163\u001B[0m             \u001B[1;31m# we require a list, but not a 'str'\u001B[0m\u001B[1;33m\u001B[0m\u001B[1;33m\u001B[0m\u001B[1;33m\u001B[0m\u001B[0m\n",
      "\u001B[1;32mC:\\ProgramData\\Anaconda3\\envs\\aibox\\lib\\site-packages\\pandas\\core\\apply.py\u001B[0m in \u001B[0;36magg_dict_like\u001B[1;34m(self)\u001B[0m\n\u001B[0;32m    425\u001B[0m             \u001B[0mselection\u001B[0m \u001B[1;33m=\u001B[0m \u001B[0mobj\u001B[0m\u001B[1;33m.\u001B[0m\u001B[0m_selection\u001B[0m\u001B[1;33m\u001B[0m\u001B[1;33m\u001B[0m\u001B[0m\n\u001B[0;32m    426\u001B[0m \u001B[1;33m\u001B[0m\u001B[0m\n\u001B[1;32m--> 427\u001B[1;33m         \u001B[0marg\u001B[0m \u001B[1;33m=\u001B[0m \u001B[0mself\u001B[0m\u001B[1;33m.\u001B[0m\u001B[0mnormalize_dictlike_arg\u001B[0m\u001B[1;33m(\u001B[0m\u001B[1;34m\"agg\"\u001B[0m\u001B[1;33m,\u001B[0m \u001B[0mselected_obj\u001B[0m\u001B[1;33m,\u001B[0m \u001B[0marg\u001B[0m\u001B[1;33m)\u001B[0m\u001B[1;33m\u001B[0m\u001B[1;33m\u001B[0m\u001B[0m\n\u001B[0m\u001B[0;32m    428\u001B[0m \u001B[1;33m\u001B[0m\u001B[0m\n\u001B[0;32m    429\u001B[0m         \u001B[1;32mif\u001B[0m \u001B[0mselected_obj\u001B[0m\u001B[1;33m.\u001B[0m\u001B[0mndim\u001B[0m \u001B[1;33m==\u001B[0m \u001B[1;36m1\u001B[0m\u001B[1;33m:\u001B[0m\u001B[1;33m\u001B[0m\u001B[1;33m\u001B[0m\u001B[0m\n",
      "\u001B[1;32mC:\\ProgramData\\Anaconda3\\envs\\aibox\\lib\\site-packages\\pandas\\core\\apply.py\u001B[0m in \u001B[0;36mnormalize_dictlike_arg\u001B[1;34m(self, how, obj, func)\u001B[0m\n\u001B[0;32m    544\u001B[0m             \u001B[1;32mif\u001B[0m \u001B[0mlen\u001B[0m\u001B[1;33m(\u001B[0m\u001B[0mcols\u001B[0m\u001B[1;33m)\u001B[0m \u001B[1;33m>\u001B[0m \u001B[1;36m0\u001B[0m\u001B[1;33m:\u001B[0m\u001B[1;33m\u001B[0m\u001B[1;33m\u001B[0m\u001B[0m\n\u001B[0;32m    545\u001B[0m                 \u001B[0mcols_sorted\u001B[0m \u001B[1;33m=\u001B[0m \u001B[0mlist\u001B[0m\u001B[1;33m(\u001B[0m\u001B[0msafe_sort\u001B[0m\u001B[1;33m(\u001B[0m\u001B[0mlist\u001B[0m\u001B[1;33m(\u001B[0m\u001B[0mcols\u001B[0m\u001B[1;33m)\u001B[0m\u001B[1;33m)\u001B[0m\u001B[1;33m)\u001B[0m\u001B[1;33m\u001B[0m\u001B[1;33m\u001B[0m\u001B[0m\n\u001B[1;32m--> 546\u001B[1;33m                 \u001B[1;32mraise\u001B[0m \u001B[0mKeyError\u001B[0m\u001B[1;33m(\u001B[0m\u001B[1;34mf\"Column(s) {cols_sorted} do not exist\"\u001B[0m\u001B[1;33m)\u001B[0m\u001B[1;33m\u001B[0m\u001B[1;33m\u001B[0m\u001B[0m\n\u001B[0m\u001B[0;32m    547\u001B[0m \u001B[1;33m\u001B[0m\u001B[0m\n\u001B[0;32m    548\u001B[0m         \u001B[0mis_aggregator\u001B[0m \u001B[1;33m=\u001B[0m \u001B[1;32mlambda\u001B[0m \u001B[0mx\u001B[0m\u001B[1;33m:\u001B[0m \u001B[0misinstance\u001B[0m\u001B[1;33m(\u001B[0m\u001B[0mx\u001B[0m\u001B[1;33m,\u001B[0m \u001B[1;33m(\u001B[0m\u001B[0mlist\u001B[0m\u001B[1;33m,\u001B[0m \u001B[0mtuple\u001B[0m\u001B[1;33m,\u001B[0m \u001B[0mdict\u001B[0m\u001B[1;33m)\u001B[0m\u001B[1;33m)\u001B[0m\u001B[1;33m\u001B[0m\u001B[1;33m\u001B[0m\u001B[0m\n",
      "\u001B[1;31mKeyError\u001B[0m: \"Column(s) ['用戶1', '用戶2', '用戶3', '用戶4', '用戶5', '用戶6', '用戶7', '用戶8'] do not exist\""
     ]
    }
   ],
   "source": [
    "    # do clustering for consumptions\n",
    "    user_analysis(df_consumption, df_generation)\n",
    "\n",
    "    # show different time slots(months, types) of clusters of consumption and generations.\n",
    "    month_analysis(df_consumption, df_generation)"
   ]
  },
  {
   "cell_type": "code",
   "execution_count": null,
   "metadata": {
    "collapsed": false,
    "pycharm": {
     "name": "#%%\n"
    }
   },
   "outputs": [],
   "source": []
  },
  {
   "cell_type": "code",
   "execution_count": null,
   "metadata": {
    "collapsed": false,
    "pycharm": {
     "name": "#%%\n"
    }
   },
   "outputs": [],
   "source": []
  }
 ],
 "metadata": {
  "kernelspec": {
   "display_name": "Python 3.7.13 ('aibox')",
   "language": "python",
   "name": "python3"
  },
  "language_info": {
   "codemirror_mode": {
    "name": "ipython",
    "version": 2
   },
   "file_extension": ".py",
   "mimetype": "text/x-python",
   "name": "python",
   "nbconvert_exporter": "python",
   "pygments_lexer": "ipython2",
   "version": "3.7.13"
  },
  "vscode": {
   "interpreter": {
    "hash": "76502ca96268bd1e75a78a2e9804dca77b78e82e55724cc3028729e5719fe4fb"
   }
  }
 },
 "nbformat": 4,
 "nbformat_minor": 0
}